{
  "nbformat": 4,
  "nbformat_minor": 0,
  "metadata": {
    "colab": {
      "name": "ood_detection_resnet.ipynb",
      "provenance": [],
      "collapsed_sections": [],
      "authorship_tag": "ABX9TyOPCaYDXRXxwb0Qgo0UPkLg",
      "include_colab_link": true
    },
    "kernelspec": {
      "name": "python3",
      "display_name": "Python 3"
    },
    "accelerator": "GPU",
    "widgets": {
      "application/vnd.jupyter.widget-state+json": {
        "71a08d2a53cb417cb9a5324ae55d5952": {
          "model_module": "@jupyter-widgets/controls",
          "model_name": "HBoxModel",
          "state": {
            "_view_name": "HBoxView",
            "_dom_classes": [],
            "_model_name": "HBoxModel",
            "_view_module": "@jupyter-widgets/controls",
            "_model_module_version": "1.5.0",
            "_view_count": null,
            "_view_module_version": "1.5.0",
            "box_style": "",
            "layout": "IPY_MODEL_40789f4ddfa447bf9d9712419e2c2f4f",
            "_model_module": "@jupyter-widgets/controls",
            "children": [
              "IPY_MODEL_9b647fbfee05404f8d8fa42faa3d7a4b",
              "IPY_MODEL_da15ff029958466f8ea08cb6cadc25a0"
            ]
          }
        },
        "40789f4ddfa447bf9d9712419e2c2f4f": {
          "model_module": "@jupyter-widgets/base",
          "model_name": "LayoutModel",
          "state": {
            "_view_name": "LayoutView",
            "grid_template_rows": null,
            "right": null,
            "justify_content": null,
            "_view_module": "@jupyter-widgets/base",
            "overflow": null,
            "_model_module_version": "1.2.0",
            "_view_count": null,
            "flex_flow": null,
            "width": null,
            "min_width": null,
            "border": null,
            "align_items": null,
            "bottom": null,
            "_model_module": "@jupyter-widgets/base",
            "top": null,
            "grid_column": null,
            "overflow_y": null,
            "overflow_x": null,
            "grid_auto_flow": null,
            "grid_area": null,
            "grid_template_columns": null,
            "flex": null,
            "_model_name": "LayoutModel",
            "justify_items": null,
            "grid_row": null,
            "max_height": null,
            "align_content": null,
            "visibility": null,
            "align_self": null,
            "height": null,
            "min_height": null,
            "padding": null,
            "grid_auto_rows": null,
            "grid_gap": null,
            "max_width": null,
            "order": null,
            "_view_module_version": "1.2.0",
            "grid_template_areas": null,
            "object_position": null,
            "object_fit": null,
            "grid_auto_columns": null,
            "margin": null,
            "display": null,
            "left": null
          }
        },
        "9b647fbfee05404f8d8fa42faa3d7a4b": {
          "model_module": "@jupyter-widgets/controls",
          "model_name": "FloatProgressModel",
          "state": {
            "_view_name": "ProgressView",
            "style": "IPY_MODEL_3a620d0368a248a8b6e147cebb0fcc75",
            "_dom_classes": [],
            "description": "",
            "_model_name": "FloatProgressModel",
            "bar_style": "info",
            "max": 1,
            "_view_module": "@jupyter-widgets/controls",
            "_model_module_version": "1.5.0",
            "value": 1,
            "_view_count": null,
            "_view_module_version": "1.5.0",
            "orientation": "horizontal",
            "min": 0,
            "description_tooltip": null,
            "_model_module": "@jupyter-widgets/controls",
            "layout": "IPY_MODEL_19cef2ddafdf4cb9988d9b9adc6aae14"
          }
        },
        "da15ff029958466f8ea08cb6cadc25a0": {
          "model_module": "@jupyter-widgets/controls",
          "model_name": "HTMLModel",
          "state": {
            "_view_name": "HTMLView",
            "style": "IPY_MODEL_99c56796c96647cc859f79da52b92237",
            "_dom_classes": [],
            "description": "",
            "_model_name": "HTMLModel",
            "placeholder": "​",
            "_view_module": "@jupyter-widgets/controls",
            "_model_module_version": "1.5.0",
            "value": " 170500096/? [00:20&lt;00:00, 82405421.26it/s]",
            "_view_count": null,
            "_view_module_version": "1.5.0",
            "description_tooltip": null,
            "_model_module": "@jupyter-widgets/controls",
            "layout": "IPY_MODEL_1c0b9a9f6b1349acbf9b04241a37dd50"
          }
        },
        "3a620d0368a248a8b6e147cebb0fcc75": {
          "model_module": "@jupyter-widgets/controls",
          "model_name": "ProgressStyleModel",
          "state": {
            "_view_name": "StyleView",
            "_model_name": "ProgressStyleModel",
            "description_width": "initial",
            "_view_module": "@jupyter-widgets/base",
            "_model_module_version": "1.5.0",
            "_view_count": null,
            "_view_module_version": "1.2.0",
            "bar_color": null,
            "_model_module": "@jupyter-widgets/controls"
          }
        },
        "19cef2ddafdf4cb9988d9b9adc6aae14": {
          "model_module": "@jupyter-widgets/base",
          "model_name": "LayoutModel",
          "state": {
            "_view_name": "LayoutView",
            "grid_template_rows": null,
            "right": null,
            "justify_content": null,
            "_view_module": "@jupyter-widgets/base",
            "overflow": null,
            "_model_module_version": "1.2.0",
            "_view_count": null,
            "flex_flow": null,
            "width": null,
            "min_width": null,
            "border": null,
            "align_items": null,
            "bottom": null,
            "_model_module": "@jupyter-widgets/base",
            "top": null,
            "grid_column": null,
            "overflow_y": null,
            "overflow_x": null,
            "grid_auto_flow": null,
            "grid_area": null,
            "grid_template_columns": null,
            "flex": null,
            "_model_name": "LayoutModel",
            "justify_items": null,
            "grid_row": null,
            "max_height": null,
            "align_content": null,
            "visibility": null,
            "align_self": null,
            "height": null,
            "min_height": null,
            "padding": null,
            "grid_auto_rows": null,
            "grid_gap": null,
            "max_width": null,
            "order": null,
            "_view_module_version": "1.2.0",
            "grid_template_areas": null,
            "object_position": null,
            "object_fit": null,
            "grid_auto_columns": null,
            "margin": null,
            "display": null,
            "left": null
          }
        },
        "99c56796c96647cc859f79da52b92237": {
          "model_module": "@jupyter-widgets/controls",
          "model_name": "DescriptionStyleModel",
          "state": {
            "_view_name": "StyleView",
            "_model_name": "DescriptionStyleModel",
            "description_width": "",
            "_view_module": "@jupyter-widgets/base",
            "_model_module_version": "1.5.0",
            "_view_count": null,
            "_view_module_version": "1.2.0",
            "_model_module": "@jupyter-widgets/controls"
          }
        },
        "1c0b9a9f6b1349acbf9b04241a37dd50": {
          "model_module": "@jupyter-widgets/base",
          "model_name": "LayoutModel",
          "state": {
            "_view_name": "LayoutView",
            "grid_template_rows": null,
            "right": null,
            "justify_content": null,
            "_view_module": "@jupyter-widgets/base",
            "overflow": null,
            "_model_module_version": "1.2.0",
            "_view_count": null,
            "flex_flow": null,
            "width": null,
            "min_width": null,
            "border": null,
            "align_items": null,
            "bottom": null,
            "_model_module": "@jupyter-widgets/base",
            "top": null,
            "grid_column": null,
            "overflow_y": null,
            "overflow_x": null,
            "grid_auto_flow": null,
            "grid_area": null,
            "grid_template_columns": null,
            "flex": null,
            "_model_name": "LayoutModel",
            "justify_items": null,
            "grid_row": null,
            "max_height": null,
            "align_content": null,
            "visibility": null,
            "align_self": null,
            "height": null,
            "min_height": null,
            "padding": null,
            "grid_auto_rows": null,
            "grid_gap": null,
            "max_width": null,
            "order": null,
            "_view_module_version": "1.2.0",
            "grid_template_areas": null,
            "object_position": null,
            "object_fit": null,
            "grid_auto_columns": null,
            "margin": null,
            "display": null,
            "left": null
          }
        }
      }
    }
  },
  "cells": [
    {
      "cell_type": "markdown",
      "metadata": {
        "id": "view-in-github",
        "colab_type": "text"
      },
      "source": [
        "<a href=\"https://colab.research.google.com/github/AstrakhantsevaAA/confidence_estimation_resnet/blob/master/ood_detection_resnet.ipynb\" target=\"_parent\"><img src=\"https://colab.research.google.com/assets/colab-badge.svg\" alt=\"Open In Colab\"/></a>"
      ]
    },
    {
      "cell_type": "code",
      "metadata": {
        "id": "NMzn8ZsJ1PkV",
        "colab_type": "code",
        "outputId": "18f4fda2-7130-4cde-a98a-e633d3b5694e",
        "colab": {
          "base_uri": "https://localhost:8080/",
          "height": 34
        }
      },
      "source": [
        "!git clone https://github.com/AstrakhantsevaAA/confidence_estimation_resnet.git"
      ],
      "execution_count": 7,
      "outputs": [
        {
          "output_type": "stream",
          "text": [
            "fatal: destination path 'confidence_estimation_resnet' already exists and is not an empty directory.\n"
          ],
          "name": "stdout"
        }
      ]
    },
    {
      "cell_type": "code",
      "metadata": {
        "id": "e0oVb5r01RMG",
        "colab_type": "code",
        "colab": {}
      },
      "source": [
        "import pdb\n",
        "import argparse\n",
        "import numpy as np\n",
        "from tqdm import tqdm\n",
        "from sklearn import metrics\n",
        "import matplotlib.pyplot as plt\n",
        "import os\n",
        "import torch\n",
        "import torch.nn as nn\n",
        "import torch.nn.functional as F\n",
        "import torch.backends.cudnn as cudnn\n",
        "from torchvision import datasets, transforms\n",
        "from torch.utils.data import Dataset\n",
        "from torchvision.utils import make_grid\n",
        "from torch.autograd import Variable\n",
        "from confidence_estimation_resnet.model import resnet\n",
        "import seaborn as sns"
      ],
      "execution_count": 0,
      "outputs": []
    },
    {
      "cell_type": "code",
      "metadata": {
        "id": "11B_BTqh1RS_",
        "colab_type": "code",
        "outputId": "e49a6034-9e0e-46b2-e70d-75e897750b6e",
        "colab": {
          "base_uri": "https://localhost:8080/",
          "height": 34
        }
      },
      "source": [
        "# modes = ['baseline', 'confidence', 'confidence_scaling']\n",
        "modes = ['confidence']\n",
        "device = torch.device(\"cuda:0\" if torch.cuda.is_available() else \"cpu\")\n",
        "print(device)\n",
        "np.random.seed(0)\n",
        "torch.cuda.manual_seed(0)\n",
        "cudnn.deterministic = True\n",
        "cudnn.benchmark = False\n",
        "path = 'confidence_estimation_resnet/checkpoint'\n",
        "filename = [f'{path}/checkpoint_CIFAR_resnet_0.0.pth',\n",
        "            f'{path}/checkpoint_CIFAR_resnet_0.3.pth'\n",
        "]\n",
        "validation = True\n"
      ],
      "execution_count": 9,
      "outputs": [
        {
          "output_type": "stream",
          "text": [
            "cuda:0\n"
          ],
          "name": "stdout"
        }
      ]
    },
    {
      "cell_type": "code",
      "metadata": {
        "id": "fN_scS8H1Rbp",
        "colab_type": "code",
        "outputId": "95092de2-4fe9-444f-c1a1-0fe92ef6fc32",
        "colab": {
          "base_uri": "https://localhost:8080/",
          "height": 185,
          "referenced_widgets": [
            "71a08d2a53cb417cb9a5324ae55d5952",
            "40789f4ddfa447bf9d9712419e2c2f4f",
            "9b647fbfee05404f8d8fa42faa3d7a4b",
            "da15ff029958466f8ea08cb6cadc25a0",
            "3a620d0368a248a8b6e147cebb0fcc75",
            "19cef2ddafdf4cb9988d9b9adc6aae14",
            "99c56796c96647cc859f79da52b92237",
            "1c0b9a9f6b1349acbf9b04241a37dd50"
          ]
        }
      },
      "source": [
        "###########################\n",
        "### Set up data loaders ###\n",
        "###########################\n",
        "\n",
        "mean = np.array([0.485, 0.456, 0.406])\n",
        "std = np.array([0.229, 0.224, 0.225])\n",
        "\n",
        "transform = transforms.Compose([\n",
        "                transforms.ToTensor(),\n",
        "                transforms.Normalize(mean, std)])\n",
        "\n",
        "# # tinyImageNet_crop and LSUN_crop are 36x36, so crop to 32x32\n",
        "crop_transform = transforms.Compose([transforms.CenterCrop(size=(32, 32)),\n",
        "                                     transforms.ToTensor(),\n",
        "                                     transforms.Normalize(mean, std)])\n",
        "\n",
        "\n",
        "num_classes = 10\n",
        "ind_dataset = datasets.CIFAR10(root='data/',\n",
        "                                   train=False,\n",
        "                                   transform=transform,\n",
        "                                   download=True)\n",
        "\n",
        "\n",
        "# download TinyImageNet\n",
        "! git clone https://github.com/seshuad/IMagenet\n",
        "data_path = 'IMagenet/tiny-imagenet-200/val/'\n",
        "ood_dataset = datasets.ImageFolder(root=data_path, transform=crop_transform)\n",
        "\n",
        "\n",
        "ind_loader = torch.utils.data.DataLoader(dataset=ind_dataset,\n",
        "                                         batch_size=100,\n",
        "                                         shuffle=False,\n",
        "                                         pin_memory=True,\n",
        "                                         num_workers=2)\n",
        "\n",
        "ood_loader = torch.utils.data.DataLoader(dataset=ood_dataset,\n",
        "                                         batch_size=100,\n",
        "                                         shuffle=False,\n",
        "                                         pin_memory=True,\n",
        "                                         num_workers=2)\n",
        "if validation:\n",
        "    # Limit dataset to first 1000 samples for validation and fine-tuning\n",
        "    # Based on validation procedure from https://arxiv.org/abs/1706.02690\n",
        "    ood_loader.dataset.imgs = ood_loader.dataset.imgs[:1000]\n",
        "    ood_loader.dataset.__len__ = 1000\n",
        "else:\n",
        "    ood_loader.dataset.imgs = ood_loader.dataset.imgs[1000:]\n",
        "    ood_loader.dataset.__len__ = len(ood_loader.dataset.imgs)"
      ],
      "execution_count": 10,
      "outputs": [
        {
          "output_type": "stream",
          "text": [
            "Downloading https://www.cs.toronto.edu/~kriz/cifar-10-python.tar.gz to data/cifar-10-python.tar.gz\n"
          ],
          "name": "stdout"
        },
        {
          "output_type": "display_data",
          "data": {
            "application/vnd.jupyter.widget-view+json": {
              "model_id": "71a08d2a53cb417cb9a5324ae55d5952",
              "version_minor": 0,
              "version_major": 2
            },
            "text/plain": [
              "HBox(children=(FloatProgress(value=1.0, bar_style='info', max=1.0), HTML(value='')))"
            ]
          },
          "metadata": {
            "tags": []
          }
        },
        {
          "output_type": "stream",
          "text": [
            "Extracting data/cifar-10-python.tar.gz to data/\n",
            "Cloning into 'IMagenet'...\n",
            "remote: Enumerating objects: 120594, done.\u001b[K\n",
            "remote: Total 120594 (delta 0), reused 0 (delta 0), pack-reused 120594\u001b[K\n",
            "Receiving objects: 100% (120594/120594), 212.68 MiB | 26.78 MiB/s, done.\n",
            "Resolving deltas: 100% (1115/1115), done.\n",
            "Checking out files: 100% (120206/120206), done.\n"
          ],
          "name": "stdout"
        }
      ]
    },
    {
      "cell_type": "code",
      "metadata": {
        "id": "W2v72yr-1RYW",
        "colab_type": "code",
        "colab": {}
      },
      "source": [
        "##############################################\n",
        "### Evaluate out-of-distribution detection ###\n",
        "##############################################\n",
        "\n",
        "def evaluate(data_loader, mode):\n",
        "    out = []\n",
        "    xent = nn.CrossEntropyLoss()\n",
        "    for data in data_loader:\n",
        "        if type(data) == list:\n",
        "            images, labels = data\n",
        "        else:\n",
        "            images = data\n",
        "\n",
        "        images = Variable(images, requires_grad=True).to(device)\n",
        "        images.retain_grad()\n",
        "\n",
        "        if mode == 'confidence':\n",
        "            _, confidence = cnn(images)\n",
        "            confidence = torch.sigmoid(confidence)\n",
        "            confidence = confidence.data.cpu().numpy()\n",
        "            out.append(confidence)\n",
        "\n",
        "        elif mode == 'confidence_scaling':\n",
        "            epsilon = 0.01\n",
        "\n",
        "            cnn.zero_grad()\n",
        "            _, confidence = cnn(images)\n",
        "            confidence = torch.sigmoid(confidence).view(-1)\n",
        "            loss = torch.mean(-torch.log(confidence))\n",
        "            loss.backward()\n",
        "\n",
        "            images = images - epsilon * torch.sign(images.grad)\n",
        "            images = Variable(images.data, requires_grad=True)\n",
        "\n",
        "            _, confidence = cnn(images)\n",
        "            confidence = torch.sigmoid(confidence)\n",
        "            confidence = confidence.data.cpu().numpy()\n",
        "            out.append(confidence)\n",
        "\n",
        "        elif mode == 'baseline':\n",
        "            # https://arxiv.org/abs/1610.02136\n",
        "            pred, _ = cnn(images)\n",
        "            pred = F.softmax(pred, dim=-1)\n",
        "            pred = torch.max(pred.data, 1)[0]\n",
        "            pred = pred.cpu().numpy()\n",
        "            out.append(pred)\n",
        "\n",
        "    out = np.concatenate(out)\n",
        "    return out"
      ],
      "execution_count": 0,
      "outputs": []
    },
    {
      "cell_type": "code",
      "metadata": {
        "id": "xK2rvcVXSE3f",
        "colab_type": "code",
        "colab": {}
      },
      "source": [
        "def tpr95(ind_confidences, ood_confidences):\n",
        "    #calculate the falsepositive error when tpr is 95%\n",
        "    Y1 = ood_confidences\n",
        "    X1 = ind_confidences\n",
        "\n",
        "    start = np.min([np.min(X1), np.min(Y1)])\n",
        "    end = np.max([np.max(X1), np.max(Y1)])\n",
        "    gap = (end - start) / 100000\n",
        "\n",
        "    total = 0.0\n",
        "    fpr = 0.0\n",
        "    for delta in np.arange(start, end, gap):\n",
        "        tpr = np.sum(np.sum(X1 >= delta)) / np.float(len(X1))\n",
        "        error2 = np.sum(np.sum(Y1 > delta)) / np.float(len(Y1))\n",
        "        if tpr <= 0.9505 and tpr >= 0.9495:\n",
        "            fpr += error2\n",
        "            total += 1\n",
        "\n",
        "    fprBase = fpr / total\n",
        "\n",
        "    return fprBase\n",
        "\n",
        "\n",
        "def detection(ind_confidences, ood_confidences, n_iter=100000, return_data=False):\n",
        "    # calculate the minimum detection error\n",
        "    Y1 = ood_confidences\n",
        "    X1 = ind_confidences\n",
        "\n",
        "    start = np.min([np.min(X1), np.min(Y1)])\n",
        "    end = np.max([np.max(X1), np.max(Y1)])\n",
        "    gap = (end - start) / n_iter\n",
        "\n",
        "    best_error = 1.0\n",
        "    best_delta = None\n",
        "    all_thresholds = []\n",
        "    all_errors = []\n",
        "    for delta in np.arange(start, end, gap):\n",
        "        tpr = np.sum(np.sum(X1 < delta)) / np.float(len(X1))\n",
        "        error2 = np.sum(np.sum(Y1 > delta)) / np.float(len(Y1))\n",
        "        detection_error = (tpr + error2) / 2.0\n",
        "\n",
        "        if return_data:\n",
        "            all_thresholds.append(delta)\n",
        "            all_errors.append(detection_error)\n",
        "\n",
        "        if detection_error < best_error:\n",
        "            best_error = np.minimum(best_error, detection_error)\n",
        "            best_delta = delta\n",
        "\n",
        "    if return_data:\n",
        "        return best_error, best_delta, all_errors, all_thresholds\n",
        "    else:\n",
        "        return best_error, best_delta"
      ],
      "execution_count": 0,
      "outputs": []
    },
    {
      "cell_type": "code",
      "metadata": {
        "id": "DGDPs_5aNozJ",
        "colab_type": "code",
        "colab": {}
      },
      "source": [
        "def save_print(\n",
        "    fn, mode, fpr_at_95_tpr, detection_error, \n",
        "    best_delta, auroc, aupr_in, aupr_out\n",
        "    ):\n",
        "    \n",
        "    state = {\n",
        "        'weights' : fn[-14:],\n",
        "        \"Method\" : mode,\n",
        "        \"TPR95\": fpr_at_95_tpr,\n",
        "        \"Detection_error\": detection_error,\n",
        "        \"Best_threshold\": best_delta,\n",
        "        \"AUROC\": auroc,\n",
        "        \"AUPR_IN\": aupr_in,\n",
        "        \"AUPR_OUT\": aupr_out\n",
        "    }\n",
        "    if not os.path.isdir('metrics'):\n",
        "        os.mkdir('metrics')\n",
        "    torch.save(state, f'./metrics/{fn[-14:]}_metrics_{mode}.pth')\n",
        "\n",
        "    print(\"\")\n",
        "    print('weights: ' + fn[-14:])\n",
        "    print(\"Method: \" + mode)\n",
        "    print(\"TPR95 (lower is better): \", fpr_at_95_tpr)\n",
        "    print(\"Detection error (lower is better): \", detection_error)\n",
        "    print(\"Best threshold:\", best_delta)\n",
        "    print(\"AUROC (higher is better): \", auroc)\n",
        "    print(\"AUPR_IN (higher is better): \", aupr_in)\n",
        "    print(\"AUPR_OUT (higher is better): \", aupr_out)"
      ],
      "execution_count": 0,
      "outputs": []
    },
    {
      "cell_type": "code",
      "metadata": {
        "id": "VYmk0lg6OObj",
        "colab_type": "code",
        "colab": {}
      },
      "source": [
        "def plot_histograms(scores, ind_scores, ood_scores, fn, mode):\n",
        "    ranges = (np.min(scores), np.max(scores))\n",
        "    plt.figure()\n",
        "    sns.distplot(ind_scores.ravel(), hist_kws={'range': ranges}, kde=False, bins=50, norm_hist=True, label='In-distribution')\n",
        "    sns.distplot(ood_scores.ravel(), hist_kws={'range': ranges}, kde=False, bins=50, norm_hist=True, label='Out-of-distribution')\n",
        "    plt.xlabel('Confidence')\n",
        "    plt.ylabel('Density')\n",
        "    plt.legend()\n",
        "    if not os.path.isdir('plots'):\n",
        "        os.mkdir('plots')\n",
        "    plt.savefig(f'plots/{fn[-14:]}_confidence_hist_{mode}.png')\n",
        "    plt.show()"
      ],
      "execution_count": 0,
      "outputs": []
    },
    {
      "cell_type": "code",
      "metadata": {
        "id": "34i1MqG81RWD",
        "colab_type": "code",
        "outputId": "68f34d1b-5905-43aa-953d-0dfdf98ddd37",
        "colab": {
          "base_uri": "https://localhost:8080/",
          "height": 847
        }
      },
      "source": [
        "##############################\n",
        "### Load pre-trained model ###\n",
        "##############################\n",
        "for mode in modes:\n",
        "    for fn in filename:\n",
        "        cnn = resnet.resnet18(num_classes=num_classes)\n",
        "\n",
        "        pretrained_dict = torch.load(fn, map_location=torch.device('cpu'))\n",
        "        cnn.load_state_dict(pretrained_dict['net'])\n",
        "        cnn = cnn.to(device)\n",
        "        if device == 'cuda':\n",
        "            cnn = torch.nn.DataParallel(cnn)\n",
        "\n",
        "        cnn.eval()\n",
        "\n",
        "        ind_scores = evaluate(ind_loader, mode)\n",
        "        ind_labels = np.ones(ind_scores.shape[0])\n",
        "\n",
        "        ood_scores = evaluate(ood_loader, mode)\n",
        "        ood_labels = np.zeros(ood_scores.shape[0])\n",
        "\n",
        "        labels = np.concatenate([ind_labels, ood_labels])\n",
        "        scores = np.concatenate([ind_scores, ood_scores])\n",
        "\n",
        "        fpr_at_95_tpr = tpr95(ind_scores, ood_scores)\n",
        "        detection_error, best_delta = detection(ind_scores, ood_scores)\n",
        "        auroc = metrics.roc_auc_score(labels, scores)\n",
        "        aupr_in = metrics.average_precision_score(labels, scores)\n",
        "        aupr_out = metrics.average_precision_score(-1 * labels + 1, 1 - scores)\n",
        "\n",
        "        save_print(fn, mode, fpr_at_95_tpr, detection_error, best_delta, auroc, aupr_in, aupr_out)\n",
        "        plot_histograms(scores, ind_scores, ood_scores, fn, mode)"
      ],
      "execution_count": 14,
      "outputs": [
        {
          "output_type": "stream",
          "text": [
            "\n",
            "weights: resnet_0.0.pth\n",
            "Method: confidence\n",
            "TPR95 (lower is better):  0.995181065088756\n",
            "Detection error (lower is better):  0.5\n",
            "Best threshold: 0.39738115668296814\n",
            "AUROC (higher is better):  0.353228275\n",
            "AUPR_IN (higher is better):  0.39950725817847876\n",
            "AUPR_OUT (higher is better):  0.4016509582422866\n"
          ],
          "name": "stdout"
        },
        {
          "output_type": "display_data",
          "data": {
            "image/png": "[encoded data removed]",
            "text/plain": [
              "<Figure size 432x288 with 1 Axes>"
            ]
          },
          "metadata": {
            "tags": [],
            "needs_background": "light"
          }
        },
        {
          "output_type": "stream",
          "text": [
            "\n",
            "weights: resnet_0.3.pth\n",
            "Method: confidence\n",
            "TPR95 (lower is better):  0.8007182795698928\n",
            "Detection error (lower is better):  0.2341\n",
            "Best threshold: 0.8741385683451185\n",
            "AUROC (higher is better):  0.822587235\n",
            "AUPR_IN (higher is better):  0.8439026388619516\n",
            "AUPR_OUT (higher is better):  0.7689771420979533\n"
          ],
          "name": "stdout"
        },
        {
          "output_type": "display_data",
          "data": {
            "image/png": "[encoded data removed]",
            "text/plain": [
              "<Figure size 432x288 with 1 Axes>"
            ]
          },
          "metadata": {
            "tags": [],
            "needs_background": "light"
          }
        }
      ]
    },
    {
      "cell_type": "code",
      "metadata": {
        "id": "pCadp0-af4La",
        "colab_type": "code",
        "colab": {}
      },
      "source": [
        "# def show_input(input_tensor, title=''):\n",
        "#     image = input_tensor.permute(1, 2, 0).numpy()\n",
        "#     image = std * image + mean\n",
        "#     plt.imshow(image.clip(0, 1))\n",
        "#     plt.title(title)\n",
        "#     plt.show()\n",
        "\n",
        "# inputs, labels = next(iter(ind_loader))\n",
        "\n",
        "# for img, pred in zip(inputs, ind_scores):\n",
        "#     show_input(img, title=pred)"
      ],
      "execution_count": 0,
      "outputs": []
    },
    {
      "cell_type": "code",
      "metadata": {
        "id": "0sPF34kSqkBV",
        "colab_type": "code",
        "colab": {}
      },
      "source": [
        "# inputs, labels = next(iter(ood_loader))\n",
        "\n",
        "# for img, pred in zip(inputs, ood_scores):\n",
        "#     show_input(img, title=pred)"
      ],
      "execution_count": 0,
      "outputs": []
    },
    {
      "cell_type": "code",
      "metadata": {
        "id": "6qfSqXFCqotY",
        "colab_type": "code",
        "colab": {}
      },
      "source": [
        ""
      ],
      "execution_count": 0,
      "outputs": []
    }
  ]
}
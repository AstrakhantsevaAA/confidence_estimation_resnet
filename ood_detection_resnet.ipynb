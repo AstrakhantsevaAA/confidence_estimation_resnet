{
  "nbformat": 4,
  "nbformat_minor": 0,
  "metadata": {
    "colab": {
      "name": "ood_detection_resnet.ipynb",
      "provenance": [],
      "collapsed_sections": [],
      "authorship_tag": "ABX9TyMHqvyCvE3rbtrNmtSMEUKV",
      "include_colab_link": true
    },
    "kernelspec": {
      "name": "python3",
      "display_name": "Python 3"
    },
    "accelerator": "GPU",
    "widgets": {
      "application/vnd.jupyter.widget-state+json": {
        "5e8153c8d4654cbbaaf5c78ea6567e9a": {
          "model_module": "@jupyter-widgets/controls",
          "model_name": "HBoxModel",
          "state": {
            "_view_name": "HBoxView",
            "_dom_classes": [],
            "_model_name": "HBoxModel",
            "_view_module": "@jupyter-widgets/controls",
            "_model_module_version": "1.5.0",
            "_view_count": null,
            "_view_module_version": "1.5.0",
            "box_style": "",
            "layout": "IPY_MODEL_9ebc4f567d28497e87980ec56cf46bc1",
            "_model_module": "@jupyter-widgets/controls",
            "children": [
              "IPY_MODEL_6a5a4693ab9e46e2811f1e64fd1cdb7c",
              "IPY_MODEL_3bdfb1d788e245db899947524ca0d1d3"
            ]
          }
        },
        "9ebc4f567d28497e87980ec56cf46bc1": {
          "model_module": "@jupyter-widgets/base",
          "model_name": "LayoutModel",
          "state": {
            "_view_name": "LayoutView",
            "grid_template_rows": null,
            "right": null,
            "justify_content": null,
            "_view_module": "@jupyter-widgets/base",
            "overflow": null,
            "_model_module_version": "1.2.0",
            "_view_count": null,
            "flex_flow": null,
            "width": null,
            "min_width": null,
            "border": null,
            "align_items": null,
            "bottom": null,
            "_model_module": "@jupyter-widgets/base",
            "top": null,
            "grid_column": null,
            "overflow_y": null,
            "overflow_x": null,
            "grid_auto_flow": null,
            "grid_area": null,
            "grid_template_columns": null,
            "flex": null,
            "_model_name": "LayoutModel",
            "justify_items": null,
            "grid_row": null,
            "max_height": null,
            "align_content": null,
            "visibility": null,
            "align_self": null,
            "height": null,
            "min_height": null,
            "padding": null,
            "grid_auto_rows": null,
            "grid_gap": null,
            "max_width": null,
            "order": null,
            "_view_module_version": "1.2.0",
            "grid_template_areas": null,
            "object_position": null,
            "object_fit": null,
            "grid_auto_columns": null,
            "margin": null,
            "display": null,
            "left": null
          }
        },
        "6a5a4693ab9e46e2811f1e64fd1cdb7c": {
          "model_module": "@jupyter-widgets/controls",
          "model_name": "IntProgressModel",
          "state": {
            "_view_name": "ProgressView",
            "style": "IPY_MODEL_48d89be844324eaeab3815343d22a30e",
            "_dom_classes": [],
            "description": "",
            "_model_name": "IntProgressModel",
            "bar_style": "info",
            "max": 1,
            "_view_module": "@jupyter-widgets/controls",
            "_model_module_version": "1.5.0",
            "value": 1,
            "_view_count": null,
            "_view_module_version": "1.5.0",
            "orientation": "horizontal",
            "min": 0,
            "description_tooltip": null,
            "_model_module": "@jupyter-widgets/controls",
            "layout": "IPY_MODEL_f16eb8f747d34b729f81c87d39e23910"
          }
        },
        "3bdfb1d788e245db899947524ca0d1d3": {
          "model_module": "@jupyter-widgets/controls",
          "model_name": "HTMLModel",
          "state": {
            "_view_name": "HTMLView",
            "style": "IPY_MODEL_27691f6ec937432da05b374d98d1c9d8",
            "_dom_classes": [],
            "description": "",
            "_model_name": "HTMLModel",
            "placeholder": "​",
            "_view_module": "@jupyter-widgets/controls",
            "_model_module_version": "1.5.0",
            "value": " 170500096/? [00:30&lt;00:00, 17884416.82it/s]",
            "_view_count": null,
            "_view_module_version": "1.5.0",
            "description_tooltip": null,
            "_model_module": "@jupyter-widgets/controls",
            "layout": "IPY_MODEL_6a6bf450f56e45f1a894d960f2adb297"
          }
        },
        "48d89be844324eaeab3815343d22a30e": {
          "model_module": "@jupyter-widgets/controls",
          "model_name": "ProgressStyleModel",
          "state": {
            "_view_name": "StyleView",
            "_model_name": "ProgressStyleModel",
            "description_width": "initial",
            "_view_module": "@jupyter-widgets/base",
            "_model_module_version": "1.5.0",
            "_view_count": null,
            "_view_module_version": "1.2.0",
            "bar_color": null,
            "_model_module": "@jupyter-widgets/controls"
          }
        },
        "f16eb8f747d34b729f81c87d39e23910": {
          "model_module": "@jupyter-widgets/base",
          "model_name": "LayoutModel",
          "state": {
            "_view_name": "LayoutView",
            "grid_template_rows": null,
            "right": null,
            "justify_content": null,
            "_view_module": "@jupyter-widgets/base",
            "overflow": null,
            "_model_module_version": "1.2.0",
            "_view_count": null,
            "flex_flow": null,
            "width": null,
            "min_width": null,
            "border": null,
            "align_items": null,
            "bottom": null,
            "_model_module": "@jupyter-widgets/base",
            "top": null,
            "grid_column": null,
            "overflow_y": null,
            "overflow_x": null,
            "grid_auto_flow": null,
            "grid_area": null,
            "grid_template_columns": null,
            "flex": null,
            "_model_name": "LayoutModel",
            "justify_items": null,
            "grid_row": null,
            "max_height": null,
            "align_content": null,
            "visibility": null,
            "align_self": null,
            "height": null,
            "min_height": null,
            "padding": null,
            "grid_auto_rows": null,
            "grid_gap": null,
            "max_width": null,
            "order": null,
            "_view_module_version": "1.2.0",
            "grid_template_areas": null,
            "object_position": null,
            "object_fit": null,
            "grid_auto_columns": null,
            "margin": null,
            "display": null,
            "left": null
          }
        },
        "27691f6ec937432da05b374d98d1c9d8": {
          "model_module": "@jupyter-widgets/controls",
          "model_name": "DescriptionStyleModel",
          "state": {
            "_view_name": "StyleView",
            "_model_name": "DescriptionStyleModel",
            "description_width": "",
            "_view_module": "@jupyter-widgets/base",
            "_model_module_version": "1.5.0",
            "_view_count": null,
            "_view_module_version": "1.2.0",
            "_model_module": "@jupyter-widgets/controls"
          }
        },
        "6a6bf450f56e45f1a894d960f2adb297": {
          "model_module": "@jupyter-widgets/base",
          "model_name": "LayoutModel",
          "state": {
            "_view_name": "LayoutView",
            "grid_template_rows": null,
            "right": null,
            "justify_content": null,
            "_view_module": "@jupyter-widgets/base",
            "overflow": null,
            "_model_module_version": "1.2.0",
            "_view_count": null,
            "flex_flow": null,
            "width": null,
            "min_width": null,
            "border": null,
            "align_items": null,
            "bottom": null,
            "_model_module": "@jupyter-widgets/base",
            "top": null,
            "grid_column": null,
            "overflow_y": null,
            "overflow_x": null,
            "grid_auto_flow": null,
            "grid_area": null,
            "grid_template_columns": null,
            "flex": null,
            "_model_name": "LayoutModel",
            "justify_items": null,
            "grid_row": null,
            "max_height": null,
            "align_content": null,
            "visibility": null,
            "align_self": null,
            "height": null,
            "min_height": null,
            "padding": null,
            "grid_auto_rows": null,
            "grid_gap": null,
            "max_width": null,
            "order": null,
            "_view_module_version": "1.2.0",
            "grid_template_areas": null,
            "object_position": null,
            "object_fit": null,
            "grid_auto_columns": null,
            "margin": null,
            "display": null,
            "left": null
          }
        }
      }
    }
  },
  "cells": [
    {
      "cell_type": "markdown",
      "metadata": {
        "id": "view-in-github",
        "colab_type": "text"
      },
      "source": [
        "<a href=\"https://colab.research.google.com/github/AstrakhantsevaAA/confidence_estimation_resnet/blob/master/ood_detection_resnet.ipynb\" target=\"_parent\"><img src=\"https://colab.research.google.com/assets/colab-badge.svg\" alt=\"Open In Colab\"/></a>"
      ]
    },
    {
      "cell_type": "code",
      "metadata": {
        "id": "NMzn8ZsJ1PkV",
        "colab_type": "code",
        "outputId": "1041f99b-2620-4295-87cd-f194b4160712",
        "colab": {
          "base_uri": "https://localhost:8080/",
          "height": 119
        }
      },
      "source": [
        "!git clone https://github.com/AstrakhantsevaAA/confidence_estimation_resnet.git"
      ],
      "execution_count": 1,
      "outputs": [
        {
          "output_type": "stream",
          "text": [
            "Cloning into 'confidence_estimation_resnet'...\n",
            "remote: Enumerating objects: 71, done.\u001b[K\n",
            "remote: Counting objects: 100% (71/71), done.\u001b[K\n",
            "remote: Compressing objects: 100% (64/64), done.\u001b[K\n",
            "remote: Total 71 (delta 26), reused 35 (delta 5), pack-reused 0\u001b[K\n",
            "Unpacking objects: 100% (71/71), done.\n"
          ],
          "name": "stdout"
        }
      ]
    },
    {
      "cell_type": "code",
      "metadata": {
        "id": "e0oVb5r01RMG",
        "colab_type": "code",
        "colab": {
          "base_uri": "https://localhost:8080/",
          "height": 71
        },
        "outputId": "a0661bce-34f3-41fe-8bef-03334abd4105"
      },
      "source": [
        "import pdb\n",
        "import argparse\n",
        "import numpy as np\n",
        "from tqdm import tqdm\n",
        "from sklearn import metrics\n",
        "import matplotlib.pyplot as plt\n",
        "import os\n",
        "import torch\n",
        "import torch.nn as nn\n",
        "import torch.nn.functional as F\n",
        "import torch.backends.cudnn as cudnn\n",
        "from torchvision import datasets, transforms\n",
        "from torch.utils.data import Dataset\n",
        "from torchvision.utils import make_grid\n",
        "from torch.autograd import Variable\n",
        "from confidence_estimation_resnet.model import resnet\n",
        "import seaborn as sns"
      ],
      "execution_count": 2,
      "outputs": [
        {
          "output_type": "stream",
          "text": [
            "/usr/local/lib/python3.6/dist-packages/statsmodels/tools/_testing.py:19: FutureWarning: pandas.util.testing is deprecated. Use the functions in the public API at pandas.testing instead.\n",
            "  import pandas.util.testing as tm\n"
          ],
          "name": "stderr"
        }
      ]
    },
    {
      "cell_type": "code",
      "metadata": {
        "id": "11B_BTqh1RS_",
        "colab_type": "code",
        "outputId": "740d8ef7-e4ab-49c4-8d4c-ad97d8a37c1b",
        "colab": {
          "base_uri": "https://localhost:8080/",
          "height": 34
        }
      },
      "source": [
        "process = ['baseline0', 'baseline03', 'confidence0', 'confidence03', 'confidence_scaling0', 'confidence_scaling03']\n",
        "modes = ['baseline', 'confidence', 'confidence_scaling']\n",
        "device = torch.device(\"cuda:0\" if torch.cuda.is_available() else \"cpu\")\n",
        "print(device)\n",
        "np.random.seed(0)\n",
        "torch.cuda.manual_seed(0)\n",
        "cudnn.deterministic = True\n",
        "cudnn.benchmark = False\n",
        "path = 'confidence_estimation_resnet/checkpoint'\n",
        "# filename = [f'{path}/checkpoint_CIFAR_resnet_0.0.pth',\n",
        "#             f'{path}/checkpoint_CIFAR_resnet_0.3.pth'\n",
        "# ]\n",
        "filename = [f'{path}/CIFAR_resnet_0.3.pth']\n",
        "validation = True\n"
      ],
      "execution_count": 8,
      "outputs": [
        {
          "output_type": "stream",
          "text": [
            "cuda:0\n"
          ],
          "name": "stdout"
        }
      ]
    },
    {
      "cell_type": "code",
      "metadata": {
        "id": "fN_scS8H1Rbp",
        "colab_type": "code",
        "outputId": "1c5547d5-9a10-47ac-dc38-653ea45bde21",
        "colab": {
          "base_uri": "https://localhost:8080/",
          "height": 185,
          "referenced_widgets": [
            "5e8153c8d4654cbbaaf5c78ea6567e9a",
            "9ebc4f567d28497e87980ec56cf46bc1",
            "6a5a4693ab9e46e2811f1e64fd1cdb7c",
            "3bdfb1d788e245db899947524ca0d1d3",
            "48d89be844324eaeab3815343d22a30e",
            "f16eb8f747d34b729f81c87d39e23910",
            "27691f6ec937432da05b374d98d1c9d8",
            "6a6bf450f56e45f1a894d960f2adb297"
          ]
        }
      },
      "source": [
        "###########################\n",
        "### Set up data loaders ###\n",
        "###########################\n",
        "\n",
        "\n",
        "mean = np.array([0.485, 0.456, 0.406])\n",
        "std = np.array([0.229, 0.224, 0.225])\n",
        "\n",
        "transform = transforms.Compose([\n",
        "                transforms.ToTensor(),\n",
        "                transforms.Normalize(mean, std)])\n",
        "\n",
        "# # tinyImageNet_crop and LSUN_crop are 36x36, so crop to 32x32\n",
        "crop_transform = transforms.Compose([transforms.CenterCrop(size=(32, 32)),\n",
        "                                     transforms.ToTensor(),\n",
        "                                     transforms.Normalize(mean, std)])\n",
        "\n",
        "\n",
        "num_classes = 10\n",
        "ind_dataset = datasets.CIFAR10(root='data/',\n",
        "                                   train=False,\n",
        "                                   transform=transform,\n",
        "                                   download=True)\n",
        "\n",
        "\n",
        "# download TinyImageNet\n",
        "! git clone https://github.com/seshuad/IMagenet\n",
        "data_path = 'IMagenet/tiny-imagenet-200/val/'\n",
        "ood_dataset = datasets.ImageFolder(root=data_path, transform=crop_transform)\n",
        "\n",
        "\n",
        "ind_loader = torch.utils.data.DataLoader(dataset=ind_dataset,\n",
        "                                         batch_size=100,\n",
        "                                         shuffle=False,\n",
        "                                         pin_memory=True,\n",
        "                                         num_workers=2)\n",
        "\n",
        "ood_loader = torch.utils.data.DataLoader(dataset=ood_dataset,\n",
        "                                         batch_size=100,\n",
        "                                         shuffle=False,\n",
        "                                         pin_memory=True,\n",
        "                                         num_workers=2)\n",
        "if validation:\n",
        "    # Limit dataset to first 1000 samples for validation and fine-tuning\n",
        "    # Based on validation procedure from https://arxiv.org/abs/1706.02690\n",
        "    ood_loader.dataset.imgs = ood_loader.dataset.imgs[:1000]\n",
        "    ood_loader.dataset.__len__ = 1000\n",
        "else:\n",
        "    ood_loader.dataset.imgs = ood_loader.dataset.imgs[1000:]\n",
        "    ood_loader.dataset.__len__ = len(ood_loader.dataset.imgs)"
      ],
      "execution_count": 4,
      "outputs": [
        {
          "output_type": "stream",
          "text": [
            "Downloading https://www.cs.toronto.edu/~kriz/cifar-10-python.tar.gz to data/cifar-10-python.tar.gz\n"
          ],
          "name": "stdout"
        },
        {
          "output_type": "display_data",
          "data": {
            "application/vnd.jupyter.widget-view+json": {
              "model_id": "5e8153c8d4654cbbaaf5c78ea6567e9a",
              "version_minor": 0,
              "version_major": 2
            },
            "text/plain": [
              "HBox(children=(IntProgress(value=1, bar_style='info', max=1), HTML(value='')))"
            ]
          },
          "metadata": {
            "tags": []
          }
        },
        {
          "output_type": "stream",
          "text": [
            "Extracting data/cifar-10-python.tar.gz to data/\n",
            "Cloning into 'IMagenet'...\n",
            "remote: Enumerating objects: 120594, done.\u001b[K\n",
            "remote: Total 120594 (delta 0), reused 0 (delta 0), pack-reused 120594\u001b[K\n",
            "Receiving objects: 100% (120594/120594), 212.68 MiB | 12.15 MiB/s, done.\n",
            "Resolving deltas: 100% (1115/1115), done.\n",
            "Checking out files: 100% (120206/120206), done.\n"
          ],
          "name": "stdout"
        }
      ]
    },
    {
      "cell_type": "code",
      "metadata": {
        "id": "W2v72yr-1RYW",
        "colab_type": "code",
        "colab": {}
      },
      "source": [
        "##############################################\n",
        "### Evaluate out-of-distribution detection ###\n",
        "##############################################\n",
        "\n",
        "def evaluate(data_loader, mode):\n",
        "    out = []\n",
        "    xent = nn.CrossEntropyLoss()\n",
        "    for data in data_loader:\n",
        "        if type(data) == list:\n",
        "            images, labels = data\n",
        "        else:\n",
        "            images = data\n",
        "\n",
        "        images = Variable(images, requires_grad=True).to(device)\n",
        "        images.retain_grad()\n",
        "\n",
        "        if mode == 'confidence':\n",
        "            _, confidence = cnn(images)\n",
        "            confidence = torch.sigmoid(confidence)\n",
        "            confidence = confidence.data.cpu().numpy()\n",
        "            out.append(confidence)\n",
        "\n",
        "        elif mode == 'confidence_scaling':\n",
        "            epsilon = 0.01\n",
        "\n",
        "            cnn.zero_grad()\n",
        "            _, confidence = cnn(images)\n",
        "            confidence = torch.sigmoid(confidence).view(-1)\n",
        "            loss = torch.mean(-torch.log(confidence))\n",
        "            loss.backward()\n",
        "\n",
        "            images = images - epsilon * torch.sign(images.grad)\n",
        "            images = Variable(images.data, requires_grad=True)\n",
        "\n",
        "            _, confidence = cnn(images)\n",
        "            confidence = torch.sigmoid(confidence)\n",
        "            confidence = confidence.data.cpu().numpy()\n",
        "            out.append(confidence)\n",
        "\n",
        "        elif mode == 'baseline':\n",
        "            # https://arxiv.org/abs/1610.02136\n",
        "            pred, _ = cnn(images)\n",
        "            pred = F.softmax(pred, dim=-1)\n",
        "            pred = torch.max(pred.data, 1)[0]\n",
        "            pred = pred.cpu().numpy()\n",
        "            out.append(pred)\n",
        "\n",
        "    out = np.concatenate(out)\n",
        "    return out"
      ],
      "execution_count": 0,
      "outputs": []
    },
    {
      "cell_type": "code",
      "metadata": {
        "id": "xK2rvcVXSE3f",
        "colab_type": "code",
        "colab": {}
      },
      "source": [
        "def tpr95(ind_confidences, ood_confidences):\n",
        "    #calculate the falsepositive error when tpr is 95%\n",
        "    Y1 = ood_confidences\n",
        "    X1 = ind_confidences\n",
        "\n",
        "    start = np.min([np.min(X1), np.min(Y1)])\n",
        "    end = np.max([np.max(X1), np.max(Y1)])\n",
        "    gap = (end - start) / 100000\n",
        "\n",
        "    total = 0.0\n",
        "    fpr = 0.0\n",
        "    for delta in np.arange(start, end, gap):\n",
        "        tpr = np.sum(np.sum(X1 >= delta)) / np.float(len(X1))\n",
        "        error2 = np.sum(np.sum(Y1 > delta)) / np.float(len(Y1))\n",
        "        if tpr <= 0.9505 and tpr >= 0.9495:\n",
        "            fpr += error2\n",
        "            total += 1\n",
        "\n",
        "    fprBase = fpr / total\n",
        "\n",
        "    return fprBase\n",
        "\n",
        "\n",
        "def detection(ind_confidences, ood_confidences, n_iter=100000, return_data=False):\n",
        "    # calculate the minimum detection error\n",
        "    Y1 = ood_confidences\n",
        "    X1 = ind_confidences\n",
        "\n",
        "    start = np.min([np.min(X1), np.min(Y1)])\n",
        "    end = np.max([np.max(X1), np.max(Y1)])\n",
        "    gap = (end - start) / n_iter\n",
        "\n",
        "    best_error = 1.0\n",
        "    best_delta = None\n",
        "    all_thresholds = []\n",
        "    all_errors = []\n",
        "    for delta in np.arange(start, end, gap):\n",
        "        tpr = np.sum(np.sum(X1 < delta)) / np.float(len(X1))\n",
        "        error2 = np.sum(np.sum(Y1 > delta)) / np.float(len(Y1))\n",
        "        detection_error = (tpr + error2) / 2.0\n",
        "\n",
        "        if return_data:\n",
        "            all_thresholds.append(delta)\n",
        "            all_errors.append(detection_error)\n",
        "\n",
        "        if detection_error < best_error:\n",
        "            best_error = np.minimum(best_error, detection_error)\n",
        "            best_delta = delta\n",
        "\n",
        "    if return_data:\n",
        "        return best_error, best_delta, all_errors, all_thresholds\n",
        "    else:\n",
        "        return best_error, best_delta"
      ],
      "execution_count": 0,
      "outputs": []
    },
    {
      "cell_type": "code",
      "metadata": {
        "id": "34i1MqG81RWD",
        "colab_type": "code",
        "outputId": "902f228c-5872-4006-9353-cf0107dfaf5c",
        "colab": {
          "base_uri": "https://localhost:8080/",
          "height": 1000
        }
      },
      "source": [
        "##############################\n",
        "### Load pre-trained model ###\n",
        "##############################\n",
        "for mode in modes:\n",
        "    for fn in filename:\n",
        "        cnn = resnet.resnet18(num_classes=num_classes)\n",
        "\n",
        "        pretrained_dict = torch.load(fn, map_location=torch.device('cpu'))\n",
        "        cnn.load_state_dict(pretrained_dict)\n",
        "        cnn = cnn.to(device)\n",
        "        if device == 'cuda':\n",
        "            cnn = torch.nn.DataParallel(cnn)\n",
        "\n",
        "        cnn.eval()\n",
        "\n",
        "        ind_scores = evaluate(ind_loader, mode)\n",
        "        ind_labels = np.ones(ind_scores.shape[0])\n",
        "\n",
        "        ood_scores = evaluate(ood_loader, mode)\n",
        "        ood_labels = np.zeros(ood_scores.shape[0])\n",
        "\n",
        "        labels = np.concatenate([ind_labels, ood_labels])\n",
        "        scores = np.concatenate([ind_scores, ood_scores])\n",
        "\n",
        "        fpr_at_95_tpr = tpr95(ind_scores, ood_scores)\n",
        "        detection_error, best_delta = detection(ind_scores, ood_scores)\n",
        "        auroc = metrics.roc_auc_score(labels, scores)\n",
        "        aupr_in = metrics.average_precision_score(labels, scores)\n",
        "        aupr_out = metrics.average_precision_score(-1 * labels + 1, 1 - scores)\n",
        "        state = {\n",
        "            'weights' : fn[-14:],\n",
        "            \"Method\" : mode,\n",
        "            \"TPR95\": fpr_at_95_tpr,\n",
        "            \"Detection_error\": detection_error,\n",
        "            \"Best_threshold\": best_delta,\n",
        "            \"AUROC\": auroc,\n",
        "            \"AUPR_IN\": aupr_in,\n",
        "            \"AUPR_OUT\": aupr_out,\n",
        "        }\n",
        "        if not os.path.isdir('metrics'):\n",
        "            os.mkdir('metrics')\n",
        "        torch.save(state, f'./metrics/{fn[-14:]}_metrics_{mode}.pth')\n",
        "\n",
        "        print(\"\")\n",
        "        print('weights: ' + fn[-14:])\n",
        "        print(\"Method: \" + mode)\n",
        "        print(\"TPR95 (lower is better): \", fpr_at_95_tpr)\n",
        "        print(\"Detection error (lower is better): \", detection_error)\n",
        "        print(\"Best threshold:\", best_delta)\n",
        "        print(\"AUROC (higher is better): \", auroc)\n",
        "        print(\"AUPR_IN (higher is better): \", aupr_in)\n",
        "        print(\"AUPR_OUT (higher is better): \", aupr_out)\n",
        "        \n",
        "        ranges = (np.min(scores), np.max(scores))\n",
        "        plt.figure()\n",
        "        sns.distplot(ind_scores.ravel(), hist_kws={'range': ranges}, kde=False, bins=50, norm_hist=True, label='In-distribution')\n",
        "        sns.distplot(ood_scores.ravel(), hist_kws={'range': ranges}, kde=False, bins=50, norm_hist=True, label='Out-of-distribution')\n",
        "        plt.xlabel('Confidence')\n",
        "        plt.ylabel('Density')\n",
        "        plt.legend()\n",
        "        if not os.path.isdir('plots'):\n",
        "            os.mkdir('plots')\n",
        "        plt.savefig(f'plots/{fn[-14:]}_confidence_hist_{mode}.png')\n",
        "        plt.show()"
      ],
      "execution_count": 9,
      "outputs": [
        {
          "output_type": "stream",
          "text": [
            "\n",
            "weights: resnet_0.3.pth\n",
            "Method: baseline\n",
            "TPR95 (lower is better):  0.7516510588235283\n",
            "Detection error (lower is better):  0.24395\n",
            "Best threshold: 0.9935260458487745\n",
            "AUROC (higher is better):  0.8048848100000001\n",
            "AUPR_IN (higher is better):  0.7921448773768074\n",
            "AUPR_OUT (higher is better):  0.7795176238660264\n"
          ],
          "name": "stdout"
        },
        {
          "output_type": "display_data",
          "data": {
            "image/png": "[encoded data removed]",
            "text/plain": [
              "<Figure size 432x288 with 1 Axes>"
            ]
          },
          "metadata": {
            "tags": [],
            "needs_background": "light"
          }
        },
        {
          "output_type": "stream",
          "text": [
            "\n",
            "weights: resnet_0.3.pth\n",
            "Method: confidence\n",
            "TPR95 (lower is better):  0.8284966101694916\n",
            "Detection error (lower is better):  0.24245\n",
            "Best threshold: 0.8189505278371763\n",
            "AUROC (higher is better):  0.802763855\n",
            "AUPR_IN (higher is better):  0.8081118160417672\n",
            "AUPR_OUT (higher is better):  0.7518159881668218\n"
          ],
          "name": "stdout"
        },
        {
          "output_type": "display_data",
          "data": {
            "image/png": "[encoded data removed]",
            "text/plain": [
              "<Figure size 432x288 with 1 Axes>"
            ]
          },
          "metadata": {
            "tags": [],
            "needs_background": "light"
          }
        },
        {
          "output_type": "stream",
          "text": [
            "\n",
            "weights: resnet_0.3.pth\n",
            "Method: confidence_scaling\n",
            "TPR95 (lower is better):  0.6736535558780871\n",
            "Detection error (lower is better):  0.2319\n",
            "Best threshold: 0.9267890741267286\n",
            "AUROC (higher is better):  0.82047815\n",
            "AUPR_IN (higher is better):  0.8008667685712745\n",
            "AUPR_OUT (higher is better):  0.8018580485839428\n"
          ],
          "name": "stdout"
        },
        {
          "output_type": "display_data",
          "data": {
            "image/png": "[encoded data removed]",
            "text/plain": [
              "<Figure size 432x288 with 1 Axes>"
            ]
          },
          "metadata": {
            "tags": [],
            "needs_background": "light"
          }
        }
      ]
    },
    {
      "cell_type": "code",
      "metadata": {
        "id": "pCadp0-af4La",
        "colab_type": "code",
        "colab": {}
      },
      "source": [
        "def show_input(input_tensor, title=''):\n",
        "    image = input_tensor.permute(1, 2, 0).numpy()\n",
        "    image = std * image + mean\n",
        "    plt.imshow(image.clip(0, 1))\n",
        "    plt.title(title)\n",
        "    plt.show()\n",
        "\n",
        "inputs, labels = next(iter(ind_loader))\n",
        "\n",
        "for img, pred in zip(inputs, ind_scores):\n",
        "    show_input(img, title=pred)"
      ],
      "execution_count": 0,
      "outputs": []
    },
    {
      "cell_type": "code",
      "metadata": {
        "id": "0sPF34kSqkBV",
        "colab_type": "code",
        "colab": {}
      },
      "source": [
        "inputs, labels = next(iter(ood_loader))\n",
        "\n",
        "for img, pred in zip(inputs, ood_scores):\n",
        "    show_input(img, title=pred)"
      ],
      "execution_count": 0,
      "outputs": []
    },
    {
      "cell_type": "code",
      "metadata": {
        "id": "6qfSqXFCqotY",
        "colab_type": "code",
        "colab": {}
      },
      "source": [
        ""
      ],
      "execution_count": 0,
      "outputs": []
    }
  ]
}
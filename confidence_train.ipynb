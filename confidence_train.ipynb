{
  "nbformat": 4,
  "nbformat_minor": 0,
  "metadata": {
    "colab": {
      "name": "confidence_train.ipynb",
      "provenance": [],
      "authorship_tag": "ABX9TyNqDOAx2Krz5RfG03U71FtN",
      "include_colab_link": true
    },
    "kernelspec": {
      "name": "python3",
      "display_name": "Python 3"
    },
    "accelerator": "GPU"
  },
  "cells": [
    {
      "cell_type": "markdown",
      "metadata": {
        "id": "view-in-github",
        "colab_type": "text"
      },
      "source": [
        "<a href=\"https://colab.research.google.com/github/AstrakhantsevaAA/confidence_estimation_resnet/blob/master/confidence_train.ipynb\" target=\"_parent\"><img src=\"https://colab.research.google.com/assets/colab-badge.svg\" alt=\"Open In Colab\"/></a>"
      ]
    },
    {
      "cell_type": "code",
      "metadata": {
        "id": "bPUFQQNSIcg8",
        "colab_type": "code",
        "outputId": "81d93ae7-3657-43e3-b658-7b0f1a8b06ab",
        "colab": {
          "base_uri": "https://localhost:8080/",
          "height": 34
        }
      },
      "source": [
        "%%writefile requirements.txt\n",
        "torch\n",
        "torchvision\n",
        "tqdm\n",
        "pillow\n",
        "matplotlib"
      ],
      "execution_count": 0,
      "outputs": [
        {
          "output_type": "stream",
          "text": [
            "Writing requirements.txt\n"
          ],
          "name": "stdout"
        }
      ]
    },
    {
      "cell_type": "code",
      "metadata": {
        "id": "qmGtIIkJId44",
        "colab_type": "code",
        "colab": {}
      },
      "source": [
        "!pip install -r requirements.txt"
      ],
      "execution_count": 0,
      "outputs": []
    },
    {
      "cell_type": "code",
      "metadata": {
        "id": "0RYWRYU4vgxU",
        "colab_type": "code",
        "colab": {}
      },
      "source": [
        "!pip uninstall tensorboard\n",
        "!pip uninstall tensorflow"
      ],
      "execution_count": 0,
      "outputs": []
    },
    {
      "cell_type": "code",
      "metadata": {
        "id": "7q9EaHXAvsAU",
        "colab_type": "code",
        "colab": {}
      },
      "source": [
        "!pip install --ignore-installed tf-nightly"
      ],
      "execution_count": 0,
      "outputs": []
    },
    {
      "cell_type": "code",
      "metadata": {
        "id": "bVVCsIx22-Rp",
        "colab_type": "code",
        "colab": {}
      },
      "source": [
        "%load_ext tensorboard"
      ],
      "execution_count": 0,
      "outputs": []
    },
    {
      "cell_type": "code",
      "metadata": {
        "id": "kiNX69EIIODs",
        "colab_type": "code",
        "colab": {}
      },
      "source": [
        "import numpy as np\n",
        "from tqdm import tqdm\n",
        "from PIL import Image\n",
        "from io import BytesIO\n",
        "import matplotlib.pyplot as plt\n",
        "import os\n",
        "import pickle\n",
        "import torch\n",
        "import torch.nn as nn\n",
        "import torch.nn.functional as F\n",
        "import torch.backends.cudnn as cudnn\n",
        "from torch.autograd import Variable\n",
        "from torch.optim.lr_scheduler import MultiStepLR\n",
        "from torch.utils.tensorboard import SummaryWriter\n",
        "from torchvision import datasets, transforms, models\n",
        "from google.colab import files\n",
        "\n",
        "# from model import resnet \n",
        "import resnet #upload resnet.py to Google Colab\n"
      ],
      "execution_count": 0,
      "outputs": []
    },
    {
      "cell_type": "code",
      "metadata": {
        "id": "ygbhDpM8Jkuy",
        "colab_type": "code",
        "colab": {}
      },
      "source": [
        "def encode_onehot(labels, n_classes):\n",
        "    onehot = torch.FloatTensor(labels.size()[0], n_classes)\n",
        "    labels = labels.data\n",
        "    if labels.is_cuda:\n",
        "        onehot = onehot.cuda()\n",
        "    onehot.zero_()\n",
        "    onehot.scatter_(1, labels.view(-1, 1), 1)\n",
        "    return onehot"
      ],
      "execution_count": 0,
      "outputs": []
    },
    {
      "cell_type": "code",
      "metadata": {
        "id": "DcyVuHNMIKaX",
        "colab_type": "code",
        "colab": {}
      },
      "source": [
        "np.random.seed(0)\n",
        "torch.cuda.manual_seed(0)\n",
        "cudnn.deterministic = True\n",
        "cudnn.benchmark = False\n",
        "\n",
        "best_acc = 0  # best test accuracy\n",
        "start_epoch = 0  # start from epoch 0 or last checkpoint epoch\n",
        "\n",
        "baseline = False\n",
        "if baseline:\n",
        "    budget = 0.\n",
        "else: budget = 0.9\n",
        "\n",
        "filename = f'CIFAR_resnet_{budget}'\n",
        "\n",
        "mean = np.array([0.485, 0.456, 0.406])\n",
        "std = np.array([0.229, 0.224, 0.225])"
      ],
      "execution_count": 0,
      "outputs": []
    },
    {
      "cell_type": "code",
      "metadata": {
        "id": "nxI5cbWgL5cD",
        "colab_type": "code",
        "colab": {}
      },
      "source": [
        "# Image Preprocessing\n",
        "train_transform = transforms.Compose([\n",
        "    transforms.RandomCrop(32, padding=4),\n",
        "    transforms.RandomHorizontalFlip(),\n",
        "    transforms.ToTensor(),\n",
        "    transforms.Normalize(mean, std)])\n",
        "\n",
        "\n",
        "test_transform = transforms.Compose([\n",
        "    transforms.ToTensor(),\n",
        "    transforms.Normalize(mean, std)])\n",
        "\n",
        "\n",
        "num_classes = 10\n",
        "train_dataset = datasets.CIFAR10(root='data/',\n",
        "                                     train=True,\n",
        "                                     transform=train_transform,\n",
        "                                     download=True)\n",
        "\n",
        "test_dataset = datasets.CIFAR10(root='data/',\n",
        "                                    train=False,\n",
        "                                    transform=test_transform,\n",
        "                                    download=True)\n",
        "\n",
        "\n",
        "\n",
        "\n",
        "# Data Loader (Input Pipeline)\n",
        "train_loader = torch.utils.data.DataLoader(dataset=train_dataset,\n",
        "                                           batch_size=128,\n",
        "                                           shuffle=True,\n",
        "                                           pin_memory=True,\n",
        "                                           num_workers=2)\n",
        "\n",
        "test_loader = torch.utils.data.DataLoader(dataset=test_dataset,\n",
        "                                          batch_size=100,\n",
        "                                          shuffle=False,\n",
        "                                          pin_memory=True,\n",
        "                                          num_workers=2)\n"
      ],
      "execution_count": 0,
      "outputs": []
    },
    {
      "cell_type": "code",
      "metadata": {
        "id": "Dqru84gHZwst",
        "colab_type": "code",
        "colab": {}
      },
      "source": [
        "print('==> Resuming from checkpoint..')\n",
        "assert os.path.isdir('checkpoint'), 'Error: no checkpoint directory found!'\n",
        "checkpoint = torch.load('./checkpoint/ckpt.pth')\n",
        "cnn.load_state_dict(checkpoint['net'])\n",
        "best_acc = checkpoint['acc']\n",
        "start_epoch = checkpoint['epoch']"
      ],
      "execution_count": 0,
      "outputs": []
    },
    {
      "cell_type": "code",
      "metadata": {
        "id": "20FywQbyL5Yh",
        "colab_type": "code",
        "colab": {}
      },
      "source": [
        "cnn = resnet.resnet18(num_classes=num_classes)\n",
        "\n",
        "device = torch.device(\"cuda:0\" if torch.cuda.is_available() else \"cpu\")\n",
        "cnn = cnn.to(device)\n",
        "if device == 'cuda':\n",
        "    cnn = torch.nn.DataParallel(cnn)\n",
        "\n",
        "prediction_criterion = nn.CrossEntropyLoss()\n",
        "cnn_optimizer = torch.optim.SGD(cnn.parameters(), lr=1.0e-3,\n",
        "                      momentum=0.9, weight_decay=5e-4)\n",
        "scheduler = MultiStepLR(cnn_optimizer, milestones=[60, 120, 160], gamma=0.2)"
      ],
      "execution_count": 0,
      "outputs": []
    },
    {
      "cell_type": "code",
      "metadata": {
        "id": "DW_mtbGXXrS_",
        "colab_type": "code",
        "colab": {}
      },
      "source": [
        "writer = SummaryWriter()\n",
        "%tensorboard --logdir=runs"
      ],
      "execution_count": 0,
      "outputs": []
    },
    {
      "cell_type": "code",
      "metadata": {
        "id": "rPlLBCBDPyi-",
        "colab_type": "code",
        "colab": {}
      },
      "source": [
        "def train_model(model, loss, optimizer, scheduler, num_epochs):\n",
        "    global best_acc\n",
        "    lmbda = 0.1\n",
        "\n",
        "    accuracy = np.array([])\n",
        "    log_loss = np.array([])\n",
        "    conf_loss = np.array([])\n",
        "\n",
        "    for epoch in range(start_epoch, start_epoch+num_epochs):\n",
        "        print('Epoch {}/{}:'.format(epoch, num_epochs - 1), flush=True)\n",
        "\n",
        "        # Each epoch has a training and validation phase\n",
        "        for phase in ['train', 'val']:\n",
        "            if phase == 'train':\n",
        "                dataloader = train_loader\n",
        "                model.train()  # Set model to training mode\n",
        "            else:\n",
        "                dataloader = test_loader\n",
        "                model.eval()   # Set model to evaluate mode\n",
        "\n",
        "            running_loss = 0.\n",
        "            running_acc = 0.\n",
        "            running_confidence = []\n",
        "            running_conf_loss = 0.\n",
        "\n",
        "            # Iterate over data.\n",
        "            for images, labels in tqdm(dataloader):\n",
        "                images = images.to(device)\n",
        "                labels = labels.to(device)\n",
        "                labels_onehot = encode_onehot(labels, num_classes)\n",
        "\n",
        "                optimizer.zero_grad()\n",
        "\n",
        "                # forward and backward\n",
        "                with torch.set_grad_enabled(phase == 'train'):\n",
        "                    pred_original, confidence = model(images)\n",
        "                    pred_original = F.softmax(pred_original, dim=-1)\n",
        "                    confidence = torch.sigmoid(confidence)\n",
        "\n",
        "                    # Make sure we don't have any numerical instability\n",
        "                    if phase == 'train':\n",
        "                        eps = 1e-12\n",
        "                        pred_original = torch.clamp(pred_original, 0. + eps, 1. - eps)\n",
        "                        confidence = torch.clamp(confidence, 0. + eps, 1. - eps)\n",
        "\n",
        "                        if baseline:\n",
        "                            # Randomly set half of the confidences to 1 (i.e. no hints)\n",
        "                            b = torch.bernoulli(torch.Tensor(confidence.size()).uniform_(0, 1)).to(device)\n",
        "                            conf = confidence * b + (1 - b)\n",
        "            \n",
        "                            pred_new = pred_original * conf.expand_as(pred_original) + labels_onehot * (1 - conf.expand_as(labels_onehot))\n",
        "                            pred_original = torch.log(pred_new)\n",
        "                        else:\n",
        "                            pred_original = torch.log(pred_original)\n",
        "            \n",
        "                    xentropy_loss = loss(pred_original, labels)\n",
        "                    confidence_loss = torch.mean(-torch.log(confidence))\n",
        "\n",
        "                    if phase == 'train':\n",
        "                        if baseline:\n",
        "                            total_loss = xentropy_loss\n",
        "                        else:\n",
        "                            total_loss = xentropy_loss + (lmbda * confidence_loss)\n",
        "\n",
        "                            if budget > confidence_loss.item():\n",
        "                                lmbda = lmbda / 1.01\n",
        "                            elif budget <= confidence_loss.item():\n",
        "                                lmbda = lmbda / 0.99\n",
        "\n",
        "                    pred_idx = pred_original.argmax(dim=1)\n",
        "\n",
        "                    # backward + optimize only if in training phase\n",
        "                    if phase == 'train':\n",
        "                        total_loss.backward()\n",
        "                        optimizer.step()\n",
        "\n",
        "                # statistics\n",
        "                running_loss += xentropy_loss.item()\n",
        "                running_acc += (pred_idx == labels.data).float().mean()\n",
        "                running_conf_loss += confidence_loss.item()\n",
        "                if phase == 'val':\n",
        "                    running_confidence.extend(confidence.cpu().numpy())\n",
        "\n",
        "            epoch_loss = running_loss / len(dataloader)\n",
        "            epoch_acc = running_acc / len(dataloader)\n",
        "            epoch_conf_loss = running_conf_loss / len(dataloader)\n",
        "            \n",
        "\n",
        "            print(f'\\n {phase} Loss: {epoch_loss:.4f} Confidence Loss: {epoch_conf_loss:.4f} Acc: {epoch_acc:.4f}', flush=True)\n",
        "\n",
        "            if phase == 'val':\n",
        "                conf_min = np.min(np.array(running_confidence))\n",
        "                conf_max = np.max(running_confidence)\n",
        "                conf_avg = np.mean(running_confidence)\n",
        "                print(f'conf_min: {conf_min:.3f}, conf_max: {conf_max:.3f}, conf_avg: {conf_avg:.3f}')\n",
        "\n",
        "            writer.add_scalar(f'Loss/{phase}', epoch_loss, epoch)\n",
        "            writer.add_scalar(f'ConfLoss/{phase}', epoch_conf_loss, epoch)\n",
        "            writer.add_scalar(f'Accuracy/{phase}', epoch_acc, epoch)\n",
        "\n",
        "            accuracy = np.append(accuracy, epoch_acc.cpu())\n",
        "            log_loss = np.append(log_loss, epoch_loss)\n",
        "            conf_loss = np.append(conf_loss, epoch_conf_loss)\n",
        "    \n",
        "            data = {\n",
        "                'accuracy': accuracy,\n",
        "                'loss': log_loss,\n",
        "                'confidence_loss': conf_loss\n",
        "            }\n",
        "\n",
        "            if not os.path.isdir('accs_losses'):\n",
        "                os.mkdir('accs_losses')\n",
        "            torch.save(data, f'./accs_losses/{phase}_accs_losses_{budget}.pth')\n",
        "\n",
        "            if phase == 'train':\n",
        "                scheduler.step(epoch)\n",
        "\n",
        "\n",
        "    return model"
      ],
      "execution_count": 0,
      "outputs": []
    },
    {
      "cell_type": "code",
      "metadata": {
        "id": "PqP87xB1QA_s",
        "colab_type": "code",
        "colab": {}
      },
      "source": [
        "train_model(cnn, prediction_criterion, cnn_optimizer, scheduler, num_epochs=100);"
      ],
      "execution_count": 0,
      "outputs": []
    },
    {
      "cell_type": "code",
      "metadata": {
        "id": "mH2Uoq-pwCRz",
        "colab_type": "code",
        "colab": {}
      },
      "source": [
        "assert os.path.isdir('accs_losses'), 'Error: no accs_losses directory found!'\n",
        "data_train = torch.load(f'./accs_losses/train_accs_losses_{budget}.pth')\n",
        "data_val = torch.load(f'./accs_losses/val_accs_losses_{budget}.pth')\n",
        "files.download(f\"./accs_losses/train_accs_losses_{budget}.pth\")\n",
        "files.download(f\"./accs_losses/val_accs_losses_{budget}.pth\")\n",
        "\n",
        "acc_train = data_new['accuracy']\n",
        "loss_train = data_new['loss']\n",
        "confloss_train = data_new['confidence_loss']\n",
        "\n",
        "acc_test = data_new['accuracy']\n",
        "loss_test = data_new['loss']\n",
        "confloss_test = data_new['confidence_loss']"
      ],
      "execution_count": 0,
      "outputs": []
    },
    {
      "cell_type": "code",
      "metadata": {
        "id": "_W7On4dMOlq3",
        "colab_type": "code",
        "colab": {}
      },
      "source": [
        "data_new = torch.load(f'./accs_losses/train_accs_losses_0.0.pth')\n",
        "acc_train_budget = data_new['accuracy']\n",
        "loss_train_budget = data_new['loss']\n",
        "loss_train_budget = data_new['confidence_loss']"
      ],
      "execution_count": 0,
      "outputs": []
    },
    {
      "cell_type": "code",
      "metadata": {
        "id": "Rr0GF6pVmp8m",
        "colab_type": "code",
        "colab": {}
      },
      "source": [
        "plt.figure(figsize=(18, 9))\n",
        "plt.plot(np.arange(len(acc_train)), acc_train, label=f'new Train, budget=0.9, Acc: {acc_train[-1]}')\n",
        "plt.plot(np.arange(len(loss_train)), loss_train, label=f'new Test,budget=0.9,  Acc: {loss_train[-1]}')\n",
        "plt.plot(np.arange(len(acc_train_budget09)), acc_train_budget09, label=f'old Train, budget=0.9, Acc: {acc_train_budget09[-1]}', ls='--')\n",
        "plt.plot(np.arange(len(acc_test_budget09)), acc_test_budget09, label=f'old Test, budget=0.9, Acc: {acc_test_budget09[-1]}', ls='--')\n",
        "plt.title(f'Accuracy (CIFAR10 ResNet with confidence branch, budget = 0.9)')\n",
        "plt.legend()"
      ],
      "execution_count": 0,
      "outputs": []
    },
    {
      "cell_type": "markdown",
      "metadata": {
        "id": "Vi6GYA5FrzOs",
        "colab_type": "text"
      },
      "source": [
        "Confidence branch заметно ускоряет обучение, и дает небольшой прирост в точности."
      ]
    }
  ]
}
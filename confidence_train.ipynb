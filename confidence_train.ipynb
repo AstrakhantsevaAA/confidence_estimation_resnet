{
  "nbformat": 4,
  "nbformat_minor": 0,
  "metadata": {
    "colab": {
      "name": "confidence_train.ipynb",
      "provenance": [],
      "authorship_tag": "ABX9TyPcQlo9wz+lhR6taopxIHmR",
      "include_colab_link": true
    },
    "kernelspec": {
      "name": "python3",
      "display_name": "Python 3"
    },
    "accelerator": "GPU",
    "widgets": {
      "application/vnd.jupyter.widget-state+json": {
        "187097fd1d0342d3aabfc1ea768de4e7": {
          "model_module": "@jupyter-widgets/controls",
          "model_name": "HBoxModel",
          "state": {
            "_view_name": "HBoxView",
            "_dom_classes": [],
            "_model_name": "HBoxModel",
            "_view_module": "@jupyter-widgets/controls",
            "_model_module_version": "1.5.0",
            "_view_count": null,
            "_view_module_version": "1.5.0",
            "box_style": "",
            "layout": "IPY_MODEL_37b32f33582d462eb3d4b10153d46b25",
            "_model_module": "@jupyter-widgets/controls",
            "children": [
              "IPY_MODEL_f50a2fadc4de4cdbbd9015cd1ac04653",
              "IPY_MODEL_97f6b2e35dfa4e5a935e43b0853590db"
            ]
          }
        },
        "37b32f33582d462eb3d4b10153d46b25": {
          "model_module": "@jupyter-widgets/base",
          "model_name": "LayoutModel",
          "state": {
            "_view_name": "LayoutView",
            "grid_template_rows": null,
            "right": null,
            "justify_content": null,
            "_view_module": "@jupyter-widgets/base",
            "overflow": null,
            "_model_module_version": "1.2.0",
            "_view_count": null,
            "flex_flow": null,
            "width": null,
            "min_width": null,
            "border": null,
            "align_items": null,
            "bottom": null,
            "_model_module": "@jupyter-widgets/base",
            "top": null,
            "grid_column": null,
            "overflow_y": null,
            "overflow_x": null,
            "grid_auto_flow": null,
            "grid_area": null,
            "grid_template_columns": null,
            "flex": null,
            "_model_name": "LayoutModel",
            "justify_items": null,
            "grid_row": null,
            "max_height": null,
            "align_content": null,
            "visibility": null,
            "align_self": null,
            "height": null,
            "min_height": null,
            "padding": null,
            "grid_auto_rows": null,
            "grid_gap": null,
            "max_width": null,
            "order": null,
            "_view_module_version": "1.2.0",
            "grid_template_areas": null,
            "object_position": null,
            "object_fit": null,
            "grid_auto_columns": null,
            "margin": null,
            "display": null,
            "left": null
          }
        },
        "f50a2fadc4de4cdbbd9015cd1ac04653": {
          "model_module": "@jupyter-widgets/controls",
          "model_name": "IntProgressModel",
          "state": {
            "_view_name": "ProgressView",
            "style": "IPY_MODEL_0f0194e627104c49b33945af36d10c4e",
            "_dom_classes": [],
            "description": "",
            "_model_name": "IntProgressModel",
            "bar_style": "info",
            "max": 1,
            "_view_module": "@jupyter-widgets/controls",
            "_model_module_version": "1.5.0",
            "value": 1,
            "_view_count": null,
            "_view_module_version": "1.5.0",
            "orientation": "horizontal",
            "min": 0,
            "description_tooltip": null,
            "_model_module": "@jupyter-widgets/controls",
            "layout": "IPY_MODEL_fc89a1a6bbcf4317960f1f9a95d9d812"
          }
        },
        "97f6b2e35dfa4e5a935e43b0853590db": {
          "model_module": "@jupyter-widgets/controls",
          "model_name": "HTMLModel",
          "state": {
            "_view_name": "HTMLView",
            "style": "IPY_MODEL_0941b2cf2c3643f19ab6be64492d3e25",
            "_dom_classes": [],
            "description": "",
            "_model_name": "HTMLModel",
            "placeholder": "​",
            "_view_module": "@jupyter-widgets/controls",
            "_model_module_version": "1.5.0",
            "value": " 170500096/? [00:20&lt;00:00, 53465218.60it/s]",
            "_view_count": null,
            "_view_module_version": "1.5.0",
            "description_tooltip": null,
            "_model_module": "@jupyter-widgets/controls",
            "layout": "IPY_MODEL_2949a5c5d5fa4cd6815075b914128167"
          }
        },
        "0f0194e627104c49b33945af36d10c4e": {
          "model_module": "@jupyter-widgets/controls",
          "model_name": "ProgressStyleModel",
          "state": {
            "_view_name": "StyleView",
            "_model_name": "ProgressStyleModel",
            "description_width": "initial",
            "_view_module": "@jupyter-widgets/base",
            "_model_module_version": "1.5.0",
            "_view_count": null,
            "_view_module_version": "1.2.0",
            "bar_color": null,
            "_model_module": "@jupyter-widgets/controls"
          }
        },
        "fc89a1a6bbcf4317960f1f9a95d9d812": {
          "model_module": "@jupyter-widgets/base",
          "model_name": "LayoutModel",
          "state": {
            "_view_name": "LayoutView",
            "grid_template_rows": null,
            "right": null,
            "justify_content": null,
            "_view_module": "@jupyter-widgets/base",
            "overflow": null,
            "_model_module_version": "1.2.0",
            "_view_count": null,
            "flex_flow": null,
            "width": null,
            "min_width": null,
            "border": null,
            "align_items": null,
            "bottom": null,
            "_model_module": "@jupyter-widgets/base",
            "top": null,
            "grid_column": null,
            "overflow_y": null,
            "overflow_x": null,
            "grid_auto_flow": null,
            "grid_area": null,
            "grid_template_columns": null,
            "flex": null,
            "_model_name": "LayoutModel",
            "justify_items": null,
            "grid_row": null,
            "max_height": null,
            "align_content": null,
            "visibility": null,
            "align_self": null,
            "height": null,
            "min_height": null,
            "padding": null,
            "grid_auto_rows": null,
            "grid_gap": null,
            "max_width": null,
            "order": null,
            "_view_module_version": "1.2.0",
            "grid_template_areas": null,
            "object_position": null,
            "object_fit": null,
            "grid_auto_columns": null,
            "margin": null,
            "display": null,
            "left": null
          }
        },
        "0941b2cf2c3643f19ab6be64492d3e25": {
          "model_module": "@jupyter-widgets/controls",
          "model_name": "DescriptionStyleModel",
          "state": {
            "_view_name": "StyleView",
            "_model_name": "DescriptionStyleModel",
            "description_width": "",
            "_view_module": "@jupyter-widgets/base",
            "_model_module_version": "1.5.0",
            "_view_count": null,
            "_view_module_version": "1.2.0",
            "_model_module": "@jupyter-widgets/controls"
          }
        },
        "2949a5c5d5fa4cd6815075b914128167": {
          "model_module": "@jupyter-widgets/base",
          "model_name": "LayoutModel",
          "state": {
            "_view_name": "LayoutView",
            "grid_template_rows": null,
            "right": null,
            "justify_content": null,
            "_view_module": "@jupyter-widgets/base",
            "overflow": null,
            "_model_module_version": "1.2.0",
            "_view_count": null,
            "flex_flow": null,
            "width": null,
            "min_width": null,
            "border": null,
            "align_items": null,
            "bottom": null,
            "_model_module": "@jupyter-widgets/base",
            "top": null,
            "grid_column": null,
            "overflow_y": null,
            "overflow_x": null,
            "grid_auto_flow": null,
            "grid_area": null,
            "grid_template_columns": null,
            "flex": null,
            "_model_name": "LayoutModel",
            "justify_items": null,
            "grid_row": null,
            "max_height": null,
            "align_content": null,
            "visibility": null,
            "align_self": null,
            "height": null,
            "min_height": null,
            "padding": null,
            "grid_auto_rows": null,
            "grid_gap": null,
            "max_width": null,
            "order": null,
            "_view_module_version": "1.2.0",
            "grid_template_areas": null,
            "object_position": null,
            "object_fit": null,
            "grid_auto_columns": null,
            "margin": null,
            "display": null,
            "left": null
          }
        }
      }
    }
  },
  "cells": [
    {
      "cell_type": "markdown",
      "metadata": {
        "id": "view-in-github",
        "colab_type": "text"
      },
      "source": [
        "<a href=\"https://colab.research.google.com/github/AstrakhantsevaAA/confidence_estimation_resnet/blob/master/confidence_train.ipynb\" target=\"_parent\"><img src=\"https://colab.research.google.com/assets/colab-badge.svg\" alt=\"Open In Colab\"/></a>"
      ]
    },
    {
      "cell_type": "code",
      "metadata": {
        "id": "bPUFQQNSIcg8",
        "colab_type": "code",
        "outputId": "a6069e8c-ab16-4c84-cfe2-88eb266bac2f",
        "colab": {
          "base_uri": "https://localhost:8080/",
          "height": 34
        }
      },
      "source": [
        "%%writefile requirements.txt\n",
        "torch\n",
        "torchvision\n",
        "tqdm\n",
        "pillow\n",
        "matplotlib"
      ],
      "execution_count": 0,
      "outputs": [
        {
          "output_type": "stream",
          "text": [
            "Writing requirements.txt\n"
          ],
          "name": "stdout"
        }
      ]
    },
    {
      "cell_type": "code",
      "metadata": {
        "id": "qmGtIIkJId44",
        "colab_type": "code",
        "outputId": "47c19c3a-47fc-4acf-b077-9c4fa4ec86d0",
        "colab": {
          "base_uri": "https://localhost:8080/",
          "height": 598
        }
      },
      "source": [
        "!pip install -r requirements.txt"
      ],
      "execution_count": 0,
      "outputs": [
        {
          "output_type": "stream",
          "text": [
            "Requirement already satisfied: torch in /usr/local/lib/python3.6/dist-packages (from -r requirements.txt (line 1)) (1.5.0+cu101)\n",
            "Requirement already satisfied: torchvision in /usr/local/lib/python3.6/dist-packages (from -r requirements.txt (line 2)) (0.6.0+cu101)\n",
            "Requirement already satisfied: tqdm in /usr/local/lib/python3.6/dist-packages (from -r requirements.txt (line 3)) (4.38.0)\n",
            "Requirement already satisfied: pillow in /usr/local/lib/python3.6/dist-packages (from -r requirements.txt (line 4)) (7.0.0)\n",
            "Requirement already satisfied: matplotlib in /usr/local/lib/python3.6/dist-packages (from -r requirements.txt (line 5)) (3.2.1)\n",
            "Requirement already satisfied: albumentations in /usr/local/lib/python3.6/dist-packages (from -r requirements.txt (line 6)) (0.1.12)\n",
            "Requirement already satisfied: future in /usr/local/lib/python3.6/dist-packages (from torch->-r requirements.txt (line 1)) (0.16.0)\n",
            "Requirement already satisfied: numpy in /usr/local/lib/python3.6/dist-packages (from torch->-r requirements.txt (line 1)) (1.18.3)\n",
            "Requirement already satisfied: python-dateutil>=2.1 in /usr/local/lib/python3.6/dist-packages (from matplotlib->-r requirements.txt (line 5)) (2.8.1)\n",
            "Requirement already satisfied: kiwisolver>=1.0.1 in /usr/local/lib/python3.6/dist-packages (from matplotlib->-r requirements.txt (line 5)) (1.2.0)\n",
            "Requirement already satisfied: pyparsing!=2.0.4,!=2.1.2,!=2.1.6,>=2.0.1 in /usr/local/lib/python3.6/dist-packages (from matplotlib->-r requirements.txt (line 5)) (2.4.7)\n",
            "Requirement already satisfied: cycler>=0.10 in /usr/local/lib/python3.6/dist-packages (from matplotlib->-r requirements.txt (line 5)) (0.10.0)\n",
            "Requirement already satisfied: scipy in /usr/local/lib/python3.6/dist-packages (from albumentations->-r requirements.txt (line 6)) (1.4.1)\n",
            "Collecting imgaug<0.2.7,>=0.2.5\n",
            "\u001b[?25l  Downloading https://files.pythonhosted.org/packages/ad/2e/748dbb7bb52ec8667098bae9b585f448569ae520031932687761165419a2/imgaug-0.2.6.tar.gz (631kB)\n",
            "\u001b[K     |████████████████████████████████| 634kB 6.4MB/s \n",
            "\u001b[?25hRequirement already satisfied: opencv-python in /usr/local/lib/python3.6/dist-packages (from albumentations->-r requirements.txt (line 6)) (4.1.2.30)\n",
            "Requirement already satisfied: six>=1.5 in /usr/local/lib/python3.6/dist-packages (from python-dateutil>=2.1->matplotlib->-r requirements.txt (line 5)) (1.12.0)\n",
            "Requirement already satisfied: scikit-image>=0.11.0 in /usr/local/lib/python3.6/dist-packages (from imgaug<0.2.7,>=0.2.5->albumentations->-r requirements.txt (line 6)) (0.16.2)\n",
            "Requirement already satisfied: PyWavelets>=0.4.0 in /usr/local/lib/python3.6/dist-packages (from scikit-image>=0.11.0->imgaug<0.2.7,>=0.2.5->albumentations->-r requirements.txt (line 6)) (1.1.1)\n",
            "Requirement already satisfied: networkx>=2.0 in /usr/local/lib/python3.6/dist-packages (from scikit-image>=0.11.0->imgaug<0.2.7,>=0.2.5->albumentations->-r requirements.txt (line 6)) (2.4)\n",
            "Requirement already satisfied: imageio>=2.3.0 in /usr/local/lib/python3.6/dist-packages (from scikit-image>=0.11.0->imgaug<0.2.7,>=0.2.5->albumentations->-r requirements.txt (line 6)) (2.4.1)\n",
            "Requirement already satisfied: decorator>=4.3.0 in /usr/local/lib/python3.6/dist-packages (from networkx>=2.0->scikit-image>=0.11.0->imgaug<0.2.7,>=0.2.5->albumentations->-r requirements.txt (line 6)) (4.4.2)\n",
            "Building wheels for collected packages: imgaug\n",
            "  Building wheel for imgaug (setup.py) ... \u001b[?25l\u001b[?25hdone\n",
            "  Created wheel for imgaug: filename=imgaug-0.2.6-cp36-none-any.whl size=654020 sha256=e26d35ab1d712afca9b37b0e6615691ccf74e18dd3292d7af16ea6b13c6439bf\n",
            "  Stored in directory: /root/.cache/pip/wheels/97/ec/48/0d25896c417b715af6236dbcef8f0bed136a1a5e52972fc6d0\n",
            "Successfully built imgaug\n",
            "Installing collected packages: imgaug\n",
            "  Found existing installation: imgaug 0.2.9\n",
            "    Uninstalling imgaug-0.2.9:\n",
            "      Successfully uninstalled imgaug-0.2.9\n",
            "Successfully installed imgaug-0.2.6\n"
          ],
          "name": "stdout"
        }
      ]
    },
    {
      "cell_type": "code",
      "metadata": {
        "id": "kiNX69EIIODs",
        "colab_type": "code",
        "colab": {}
      },
      "source": [
        "import numpy as np\n",
        "from tqdm import tqdm\n",
        "from PIL import Image\n",
        "from io import BytesIO\n",
        "import matplotlib.pyplot as plt\n",
        "import os\n",
        "import pickle\n",
        "import torch\n",
        "import torch.nn as nn\n",
        "import torch.nn.functional as F\n",
        "import torch.backends.cudnn as cudnn\n",
        "from torch.autograd import Variable\n",
        "from torch.optim.lr_scheduler import MultiStepLR\n",
        "from torchvision import datasets, transforms, models\n",
        "\n",
        "# from model import resnet \n",
        "import resnet\n"
      ],
      "execution_count": 0,
      "outputs": []
    },
    {
      "cell_type": "code",
      "metadata": {
        "id": "ygbhDpM8Jkuy",
        "colab_type": "code",
        "colab": {}
      },
      "source": [
        "def encode_onehot(labels, n_classes):\n",
        "    onehot = torch.FloatTensor(labels.size()[0], n_classes)\n",
        "    labels = labels.data\n",
        "    if labels.is_cuda:\n",
        "        onehot = onehot.cuda()\n",
        "    onehot.zero_()\n",
        "    onehot.scatter_(1, labels.view(-1, 1), 1)\n",
        "    return onehot"
      ],
      "execution_count": 0,
      "outputs": []
    },
    {
      "cell_type": "code",
      "metadata": {
        "id": "DcyVuHNMIKaX",
        "colab_type": "code",
        "colab": {}
      },
      "source": [
        "np.random.seed(0)\n",
        "torch.cuda.manual_seed(0)\n",
        "cudnn.deterministic = True\n",
        "cudnn.benchmark = False\n",
        "\n",
        "best_acc = 0  # best test accuracy\n",
        "start_epoch = 0  # start from epoch 0 or last checkpoint epoch\n",
        "filename = 'CIFAR_resnet_cp'\n",
        "\n",
        "baseline = True\n",
        "if baseline:\n",
        "    budget = 0.\n",
        "else: budget = 0.3\n",
        "\n",
        "mean = np.array([0.485, 0.456, 0.406])\n",
        "std = np.array([0.229, 0.224, 0.225])"
      ],
      "execution_count": 0,
      "outputs": []
    },
    {
      "cell_type": "code",
      "metadata": {
        "id": "nxI5cbWgL5cD",
        "colab_type": "code",
        "outputId": "2e2dea90-4291-4b1f-9c98-208b445fd7b9",
        "colab": {
          "base_uri": "https://localhost:8080/",
          "height": 100,
          "referenced_widgets": [
            "187097fd1d0342d3aabfc1ea768de4e7",
            "37b32f33582d462eb3d4b10153d46b25",
            "f50a2fadc4de4cdbbd9015cd1ac04653",
            "97f6b2e35dfa4e5a935e43b0853590db",
            "0f0194e627104c49b33945af36d10c4e",
            "fc89a1a6bbcf4317960f1f9a95d9d812",
            "0941b2cf2c3643f19ab6be64492d3e25",
            "2949a5c5d5fa4cd6815075b914128167"
          ]
        }
      },
      "source": [
        "# Image Preprocessing\n",
        "train_transform = transforms.Compose([\n",
        "    transforms.RandomCrop(32, padding=4),\n",
        "    transforms.RandomHorizontalFlip(),\n",
        "    transforms.ToTensor(),\n",
        "    transforms.Normalize(mean, std)])\n",
        "\n",
        "\n",
        "test_transform = transforms.Compose([\n",
        "    transforms.ToTensor(),\n",
        "    transforms.Normalize(mean, std)])\n",
        "\n",
        "\n",
        "num_classes = 10\n",
        "train_dataset = datasets.CIFAR10(root='data/',\n",
        "                                     train=True,\n",
        "                                     transform=train_transform,\n",
        "                                     download=True)\n",
        "\n",
        "test_dataset = datasets.CIFAR10(root='data/',\n",
        "                                    train=False,\n",
        "                                    transform=test_transform,\n",
        "                                    download=True)\n",
        "\n",
        "\n",
        "\n",
        "\n",
        "# Data Loader (Input Pipeline)\n",
        "train_loader = torch.utils.data.DataLoader(dataset=train_dataset,\n",
        "                                           batch_size=128,\n",
        "                                           shuffle=True,\n",
        "                                           pin_memory=True,\n",
        "                                           num_workers=2)\n",
        "\n",
        "test_loader = torch.utils.data.DataLoader(dataset=test_dataset,\n",
        "                                          batch_size=100,\n",
        "                                          shuffle=False,\n",
        "                                          pin_memory=True,\n",
        "                                          num_workers=2)\n"
      ],
      "execution_count": 8,
      "outputs": [
        {
          "output_type": "stream",
          "text": [
            "Downloading https://www.cs.toronto.edu/~kriz/cifar-10-python.tar.gz to data/cifar-10-python.tar.gz\n"
          ],
          "name": "stdout"
        },
        {
          "output_type": "display_data",
          "data": {
            "application/vnd.jupyter.widget-view+json": {
              "model_id": "187097fd1d0342d3aabfc1ea768de4e7",
              "version_minor": 0,
              "version_major": 2
            },
            "text/plain": [
              "HBox(children=(IntProgress(value=1, bar_style='info', max=1), HTML(value='')))"
            ]
          },
          "metadata": {
            "tags": []
          }
        },
        {
          "output_type": "stream",
          "text": [
            "Extracting data/cifar-10-python.tar.gz to data/\n",
            "Files already downloaded and verified\n"
          ],
          "name": "stdout"
        }
      ]
    },
    {
      "cell_type": "code",
      "metadata": {
        "id": "4nuQYKteL5av",
        "colab_type": "code",
        "colab": {}
      },
      "source": [
        "def test(loader, epoch):\n",
        "    global best_acc\n",
        "    test_loss = 0\n",
        "    cnn.eval()    # Change model to 'eval' mode (BN uses moving mean/var).\n",
        "    test_loss = []\n",
        "    correct = []\n",
        "    probability = []\n",
        "    confidence = []\n",
        "    with torch.no_grad():\n",
        "        for images, labels in loader:\n",
        "            images = Variable(images, volatile=True).cuda()\n",
        "            labels = labels.cuda()\n",
        "\n",
        "            pred, conf = cnn(images)\n",
        "            pred = F.softmax(pred, dim=-1)\n",
        "            conf = F.sigmoid(conf).data.view(-1)\n",
        "            \n",
        "            loss = prediction_criterion(pred, labels)\n",
        "\n",
        "            test_loss.append(loss.item()) \n",
        "            \n",
        "            pred_value, pred = torch.max(pred.data, 1)\n",
        "            correct.extend((pred == labels).cpu().numpy())\n",
        "            probability.extend(pred_value.cpu().numpy())\n",
        "            confidence.extend(conf.cpu().numpy())\n",
        "    test_loss = np.array(test_loss)\n",
        "    correct = np.array(correct).astype(bool)\n",
        "    probability = np.array(probability)\n",
        "    confidence = np.array(confidence)\n",
        "\n",
        "    val_acc = np.mean(correct)\n",
        "    val_test_loss = np.mean(test_loss)\n",
        "    conf_min = np.min(confidence)\n",
        "    conf_max = np.max(confidence)\n",
        "    conf_avg = np.mean(confidence)\n",
        "    \n",
        "\n",
        "    if val_acc > best_acc:\n",
        "        print('Saving..')\n",
        "        state = {\n",
        "            'net': cnn.state_dict(),\n",
        "            'acc': val_acc,\n",
        "            'epoch': epoch,\n",
        "        }\n",
        "        if not os.path.isdir('checkpoint'):\n",
        "            os.mkdir('checkpoint')\n",
        "        torch.save(state, f'./checkpoint/{filename}.pth')\n",
        "        best_acc = val_acc\n",
        "\n",
        "    cnn.train()\n",
        "    return val_test_loss, val_acc, conf_min, conf_max, conf_avg\n"
      ],
      "execution_count": 0,
      "outputs": []
    },
    {
      "cell_type": "code",
      "metadata": {
        "id": "Dqru84gHZwst",
        "colab_type": "code",
        "outputId": "4baf201e-db24-4eab-e73e-980bef2a8d77",
        "colab": {
          "base_uri": "https://localhost:8080/",
          "height": 249
        }
      },
      "source": [
        "print('==> Resuming from checkpoint..')\n",
        "assert os.path.isdir('checkpoint'), 'Error: no checkpoint directory found!'\n",
        "checkpoint = torch.load('./checkpoint/ckpt.pth')\n",
        "cnn.load_state_dict(checkpoint['net'])\n",
        "best_acc = checkpoint['acc']\n",
        "start_epoch = checkpoint['epoch']"
      ],
      "execution_count": 10,
      "outputs": [
        {
          "output_type": "stream",
          "text": [
            "==> Resuming from checkpoint..\n"
          ],
          "name": "stdout"
        },
        {
          "output_type": "error",
          "ename": "AssertionError",
          "evalue": "ignored",
          "traceback": [
            "\u001b[0;31m---------------------------------------------------------------------------\u001b[0m",
            "\u001b[0;31mAssertionError\u001b[0m                            Traceback (most recent call last)",
            "\u001b[0;32m<ipython-input-10-93cfb26af5af>\u001b[0m in \u001b[0;36m<module>\u001b[0;34m()\u001b[0m\n\u001b[1;32m      1\u001b[0m \u001b[0mprint\u001b[0m\u001b[0;34m(\u001b[0m\u001b[0;34m'==> Resuming from checkpoint..'\u001b[0m\u001b[0;34m)\u001b[0m\u001b[0;34m\u001b[0m\u001b[0;34m\u001b[0m\u001b[0m\n\u001b[0;32m----> 2\u001b[0;31m \u001b[0;32massert\u001b[0m \u001b[0mos\u001b[0m\u001b[0;34m.\u001b[0m\u001b[0mpath\u001b[0m\u001b[0;34m.\u001b[0m\u001b[0misdir\u001b[0m\u001b[0;34m(\u001b[0m\u001b[0;34m'checkpoint'\u001b[0m\u001b[0;34m)\u001b[0m\u001b[0;34m,\u001b[0m \u001b[0;34m'Error: no checkpoint directory found!'\u001b[0m\u001b[0;34m\u001b[0m\u001b[0;34m\u001b[0m\u001b[0m\n\u001b[0m\u001b[1;32m      3\u001b[0m \u001b[0mcheckpoint\u001b[0m \u001b[0;34m=\u001b[0m \u001b[0mtorch\u001b[0m\u001b[0;34m.\u001b[0m\u001b[0mload\u001b[0m\u001b[0;34m(\u001b[0m\u001b[0;34m'./checkpoint/ckpt.pth'\u001b[0m\u001b[0;34m)\u001b[0m\u001b[0;34m\u001b[0m\u001b[0;34m\u001b[0m\u001b[0m\n\u001b[1;32m      4\u001b[0m \u001b[0mcnn\u001b[0m\u001b[0;34m.\u001b[0m\u001b[0mload_state_dict\u001b[0m\u001b[0;34m(\u001b[0m\u001b[0mcheckpoint\u001b[0m\u001b[0;34m[\u001b[0m\u001b[0;34m'net'\u001b[0m\u001b[0;34m]\u001b[0m\u001b[0;34m)\u001b[0m\u001b[0;34m\u001b[0m\u001b[0;34m\u001b[0m\u001b[0m\n\u001b[1;32m      5\u001b[0m \u001b[0mbest_acc\u001b[0m \u001b[0;34m=\u001b[0m \u001b[0mcheckpoint\u001b[0m\u001b[0;34m[\u001b[0m\u001b[0;34m'acc'\u001b[0m\u001b[0;34m]\u001b[0m\u001b[0;34m\u001b[0m\u001b[0;34m\u001b[0m\u001b[0m\n",
            "\u001b[0;31mAssertionError\u001b[0m: Error: no checkpoint directory found!"
          ]
        }
      ]
    },
    {
      "cell_type": "code",
      "metadata": {
        "id": "20FywQbyL5Yh",
        "colab_type": "code",
        "colab": {}
      },
      "source": [
        "cnn = resnet.resnet18(num_classes=num_classes)\n",
        "device = torch.device(\"cuda:0\" if torch.cuda.is_available() else \"cpu\")\n",
        "cnn = cnn.to(device)\n",
        "if device == 'cuda':\n",
        "    cnn = torch.nn.DataParallel(cnn)\n",
        "\n",
        "prediction_criterion = nn.CrossEntropyLoss()\n",
        "cnn_optimizer = torch.optim.SGD(cnn.parameters(), lr=1.0e-3,\n",
        "                      momentum=0.9, weight_decay=5e-4)\n",
        "scheduler = MultiStepLR(cnn_optimizer, milestones=[60, 120, 160], gamma=0.2)"
      ],
      "execution_count": 0,
      "outputs": []
    },
    {
      "cell_type": "code",
      "metadata": {
        "id": "SmyC3JkAL5WO",
        "colab_type": "code",
        "outputId": "c73a556f-1b9b-4190-893e-51ec92bce009",
        "colab": {
          "base_uri": "https://localhost:8080/",
          "height": 1000
        }
      },
      "source": [
        "# Start with a reasonable guess for lambda\n",
        "lmbda = 0.1\n",
        "\n",
        "acc_train = []\n",
        "loss_train = []\n",
        "acc_test = []\n",
        "loss_test = []\n",
        "\n",
        "for epoch in range(start_epoch, start_epoch+200):\n",
        "\n",
        "    xentropy_loss_avg = 0.\n",
        "    confidence_loss_avg = 0.\n",
        "    correct_count = 0.\n",
        "    total = 0.\n",
        "\n",
        "    progress_bar = tqdm(train_loader)\n",
        "    for i, (images, labels) in enumerate(progress_bar):\n",
        "        progress_bar.set_description('Epoch ' + str(epoch))\n",
        "\n",
        "        images = Variable(images).to(device)\n",
        "        labels = Variable(labels).to(device)\n",
        "        labels_onehot = Variable(encode_onehot(labels, num_classes))\n",
        "\n",
        "        cnn.zero_grad()\n",
        "\n",
        "        pred_original, confidence = cnn(images)\n",
        "        \n",
        "        pred_original = F.softmax(pred_original, dim=-1)\n",
        "        confidence = torch.sigmoid(confidence)\n",
        "\n",
        "        # Make sure we don't have any numerical instability\n",
        "        eps = 1e-12\n",
        "        pred_original = torch.clamp(pred_original, 0. + eps, 1. - eps)\n",
        "        confidence = torch.clamp(confidence, 0. + eps, 1. - eps)\n",
        "\n",
        "        if baseline:\n",
        "            # Randomly set half of the confidences to 1 (i.e. no hints)\n",
        "            b = Variable(torch.bernoulli(torch.Tensor(confidence.size()).uniform_(0, 1))).cuda()\n",
        "            conf = confidence * b + (1 - b)\n",
        "            \n",
        "            pred_new = pred_original * conf.expand_as(pred_original) + labels_onehot * (1 - conf.expand_as(labels_onehot))\n",
        "            pred_new = torch.log(pred_new)\n",
        "        else:\n",
        "            pred_new = torch.log(pred_original)\n",
        "\n",
        "        xentropy_loss = prediction_criterion(pred_new, labels)\n",
        "        confidence_loss = torch.mean(-torch.log(confidence))\n",
        "\n",
        "        if baseline:\n",
        "            total_loss = xentropy_loss\n",
        "        else:\n",
        "            total_loss = xentropy_loss + (lmbda * confidence_loss)\n",
        "\n",
        "            if budget > confidence_loss.item():\n",
        "                lmbda = lmbda / 1.01\n",
        "            elif budget <= confidence_loss.item():\n",
        "                lmbda = lmbda / 0.99\n",
        "\n",
        "        total_loss.backward()\n",
        "        cnn_optimizer.step()\n",
        "        \n",
        "        xentropy_loss_avg += xentropy_loss.item()\n",
        "        confidence_loss_avg += confidence_loss.item()\n",
        "\n",
        "        pred_idx = torch.max(pred_original.data, 1)[1]\n",
        "        total += labels.size(0)\n",
        "        correct_count += (pred_idx == labels.data).sum()\n",
        "        accuracy = correct_count / total\n",
        "\n",
        "    test_loss, test_acc, conf_min, conf_max, conf_avg = test(test_loader, epoch) \n",
        "\n",
        "    acc_train.append(accuracy)\n",
        "    loss_train.append(xentropy_loss_avg / total)\n",
        "    \n",
        "    acc_test.append(test_acc)\n",
        "    loss_test.append(test_loss)\n",
        "    \n",
        "    data = {\n",
        "        'acc_train': acc_train,\n",
        "        'loss_train': loss_train,\n",
        "        'acc_test': acc_test,\n",
        "        'loss_test': loss_test\n",
        "    }\n",
        "    if not os.path.isdir('accs_losses'):\n",
        "        os.mkdir('accs_losses')\n",
        "    torch.save(data, f'./accs_losses/accs_losses.pth')\n",
        "\n",
        "    print(f'\\ntrain_acc: {accuracy:.3f}, test_acc: {test_acc:.3f}, conf_min: {conf_min:.3f}, conf_max: {conf_max:.3f}, conf_avg: {conf_avg:.3f}')\n",
        "\n",
        "    scheduler.step(epoch)"
      ],
      "execution_count": 18,
      "outputs": [
        {
          "output_type": "stream",
          "text": [
            "Epoch 0: 100%|██████████| 391/391 [00:22<00:00, 17.24it/s]\n",
            "/usr/local/lib/python3.6/dist-packages/ipykernel_launcher.py:11: UserWarning: volatile was removed and now has no effect. Use `with torch.no_grad():` instead.\n",
            "  # This is added back by InteractiveShellApp.init_path()\n",
            "/usr/local/lib/python3.6/dist-packages/torch/nn/functional.py:1569: UserWarning: nn.functional.sigmoid is deprecated. Use torch.sigmoid instead.\n",
            "  warnings.warn(\"nn.functional.sigmoid is deprecated. Use torch.sigmoid instead.\")\n",
            "/usr/local/lib/python3.6/dist-packages/torch/optim/lr_scheduler.py:143: UserWarning: The epoch parameter in `scheduler.step()` was not necessary and is being deprecated where possible. Please use `scheduler.step()` to step the scheduler. During the deprecation, if epoch is different from None, the closed form is used instead of the new chainable form, where available. Please open an issue if you are unable to replicate your use case: https://github.com/pytorch/pytorch/issues/new/choose.\n",
            "  warnings.warn(EPOCH_DEPRECATION_WARNING, UserWarning)\n",
            "  0%|          | 0/391 [00:00<?, ?it/s]"
          ],
          "name": "stderr"
        },
        {
          "output_type": "stream",
          "text": [
            "Saving..\n",
            "\n",
            "train_acc: 0.409, test_acc: 0.451, conf_min: 0.000, conf_max: 0.008, conf_avg: 0.001\n"
          ],
          "name": "stdout"
        },
        {
          "output_type": "stream",
          "text": [
            "Epoch 1: 100%|██████████| 391/391 [00:22<00:00, 17.29it/s]\n",
            "  0%|          | 0/391 [00:00<?, ?it/s]"
          ],
          "name": "stderr"
        },
        {
          "output_type": "stream",
          "text": [
            "Saving..\n",
            "\n",
            "train_acc: 0.442, test_acc: 0.485, conf_min: 0.000, conf_max: 0.005, conf_avg: 0.000\n"
          ],
          "name": "stdout"
        },
        {
          "output_type": "stream",
          "text": [
            "Epoch 2: 100%|██████████| 391/391 [00:22<00:00, 17.14it/s]\n",
            "  0%|          | 0/391 [00:00<?, ?it/s]"
          ],
          "name": "stderr"
        },
        {
          "output_type": "stream",
          "text": [
            "Saving..\n",
            "\n",
            "train_acc: 0.475, test_acc: 0.517, conf_min: 0.000, conf_max: 0.003, conf_avg: 0.000\n"
          ],
          "name": "stdout"
        },
        {
          "output_type": "stream",
          "text": [
            "Epoch 3: 100%|██████████| 391/391 [00:22<00:00, 17.19it/s]\n",
            "  0%|          | 0/391 [00:00<?, ?it/s]"
          ],
          "name": "stderr"
        },
        {
          "output_type": "stream",
          "text": [
            "Saving..\n",
            "\n",
            "train_acc: 0.504, test_acc: 0.543, conf_min: 0.000, conf_max: 0.004, conf_avg: 0.000\n"
          ],
          "name": "stdout"
        },
        {
          "output_type": "stream",
          "text": [
            "Epoch 4: 100%|██████████| 391/391 [00:22<00:00, 17.36it/s]\n",
            "  0%|          | 0/391 [00:00<?, ?it/s]"
          ],
          "name": "stderr"
        },
        {
          "output_type": "stream",
          "text": [
            "Saving..\n",
            "\n",
            "train_acc: 0.523, test_acc: 0.551, conf_min: 0.000, conf_max: 0.003, conf_avg: 0.000\n"
          ],
          "name": "stdout"
        },
        {
          "output_type": "stream",
          "text": [
            "Epoch 5: 100%|██████████| 391/391 [00:22<00:00, 17.55it/s]\n",
            "  0%|          | 0/391 [00:00<?, ?it/s]"
          ],
          "name": "stderr"
        },
        {
          "output_type": "stream",
          "text": [
            "Saving..\n",
            "\n",
            "train_acc: 0.543, test_acc: 0.567, conf_min: 0.000, conf_max: 0.003, conf_avg: 0.000\n"
          ],
          "name": "stdout"
        },
        {
          "output_type": "stream",
          "text": [
            "Epoch 6: 100%|██████████| 391/391 [00:22<00:00, 17.08it/s]\n",
            "  0%|          | 0/391 [00:00<?, ?it/s]"
          ],
          "name": "stderr"
        },
        {
          "output_type": "stream",
          "text": [
            "Saving..\n",
            "\n",
            "train_acc: 0.557, test_acc: 0.577, conf_min: 0.000, conf_max: 0.003, conf_avg: 0.000\n"
          ],
          "name": "stdout"
        },
        {
          "output_type": "stream",
          "text": [
            "Epoch 7: 100%|██████████| 391/391 [00:22<00:00, 17.20it/s]\n",
            "  0%|          | 0/391 [00:00<?, ?it/s]"
          ],
          "name": "stderr"
        },
        {
          "output_type": "stream",
          "text": [
            "Saving..\n",
            "\n",
            "train_acc: 0.570, test_acc: 0.595, conf_min: 0.000, conf_max: 0.002, conf_avg: 0.000\n"
          ],
          "name": "stdout"
        },
        {
          "output_type": "stream",
          "text": [
            "Epoch 8: 100%|██████████| 391/391 [00:22<00:00, 17.04it/s]\n",
            "  0%|          | 0/391 [00:00<?, ?it/s]"
          ],
          "name": "stderr"
        },
        {
          "output_type": "stream",
          "text": [
            "Saving..\n",
            "\n",
            "train_acc: 0.581, test_acc: 0.603, conf_min: 0.000, conf_max: 0.003, conf_avg: 0.000\n"
          ],
          "name": "stdout"
        },
        {
          "output_type": "stream",
          "text": [
            "Epoch 9: 100%|██████████| 391/391 [00:22<00:00, 17.32it/s]\n",
            "  0%|          | 0/391 [00:00<?, ?it/s]"
          ],
          "name": "stderr"
        },
        {
          "output_type": "stream",
          "text": [
            "Saving..\n",
            "\n",
            "train_acc: 0.594, test_acc: 0.616, conf_min: 0.000, conf_max: 0.003, conf_avg: 0.000\n"
          ],
          "name": "stdout"
        },
        {
          "output_type": "stream",
          "text": [
            "Epoch 10: 100%|██████████| 391/391 [00:22<00:00, 17.49it/s]\n",
            "  0%|          | 0/391 [00:00<?, ?it/s]"
          ],
          "name": "stderr"
        },
        {
          "output_type": "stream",
          "text": [
            "Saving..\n",
            "\n",
            "train_acc: 0.601, test_acc: 0.619, conf_min: 0.000, conf_max: 0.003, conf_avg: 0.000\n"
          ],
          "name": "stdout"
        },
        {
          "output_type": "stream",
          "text": [
            "Epoch 11: 100%|██████████| 391/391 [00:22<00:00, 17.51it/s]\n",
            "  0%|          | 0/391 [00:00<?, ?it/s]"
          ],
          "name": "stderr"
        },
        {
          "output_type": "stream",
          "text": [
            "Saving..\n",
            "\n",
            "train_acc: 0.611, test_acc: 0.621, conf_min: 0.000, conf_max: 0.002, conf_avg: 0.000\n"
          ],
          "name": "stdout"
        },
        {
          "output_type": "stream",
          "text": [
            "Epoch 12: 100%|██████████| 391/391 [00:22<00:00, 17.29it/s]\n",
            "  0%|          | 0/391 [00:00<?, ?it/s]"
          ],
          "name": "stderr"
        },
        {
          "output_type": "stream",
          "text": [
            "Saving..\n",
            "\n",
            "train_acc: 0.620, test_acc: 0.636, conf_min: 0.000, conf_max: 0.003, conf_avg: 0.000\n"
          ],
          "name": "stdout"
        },
        {
          "output_type": "stream",
          "text": [
            "Epoch 13: 100%|██████████| 391/391 [00:22<00:00, 17.41it/s]\n",
            "  0%|          | 0/391 [00:00<?, ?it/s]"
          ],
          "name": "stderr"
        },
        {
          "output_type": "stream",
          "text": [
            "Saving..\n",
            "\n",
            "train_acc: 0.626, test_acc: 0.647, conf_min: 0.000, conf_max: 0.002, conf_avg: 0.000\n"
          ],
          "name": "stdout"
        },
        {
          "output_type": "stream",
          "text": [
            "Epoch 14: 100%|██████████| 391/391 [00:22<00:00, 17.24it/s]\n",
            "  0%|          | 0/391 [00:00<?, ?it/s]"
          ],
          "name": "stderr"
        },
        {
          "output_type": "stream",
          "text": [
            "\n",
            "train_acc: 0.637, test_acc: 0.647, conf_min: 0.000, conf_max: 0.002, conf_avg: 0.000\n"
          ],
          "name": "stdout"
        },
        {
          "output_type": "stream",
          "text": [
            "Epoch 15: 100%|██████████| 391/391 [00:22<00:00, 17.25it/s]\n",
            "  0%|          | 0/391 [00:00<?, ?it/s]"
          ],
          "name": "stderr"
        },
        {
          "output_type": "stream",
          "text": [
            "Saving..\n",
            "\n",
            "train_acc: 0.640, test_acc: 0.649, conf_min: 0.000, conf_max: 0.003, conf_avg: 0.000\n"
          ],
          "name": "stdout"
        },
        {
          "output_type": "stream",
          "text": [
            "Epoch 16: 100%|██████████| 391/391 [00:22<00:00, 17.16it/s]\n",
            "  0%|          | 0/391 [00:00<?, ?it/s]"
          ],
          "name": "stderr"
        },
        {
          "output_type": "stream",
          "text": [
            "Saving..\n",
            "\n",
            "train_acc: 0.648, test_acc: 0.656, conf_min: 0.000, conf_max: 0.003, conf_avg: 0.000\n"
          ],
          "name": "stdout"
        },
        {
          "output_type": "stream",
          "text": [
            "Epoch 17: 100%|██████████| 391/391 [00:22<00:00, 17.15it/s]\n",
            "  0%|          | 0/391 [00:00<?, ?it/s]"
          ],
          "name": "stderr"
        },
        {
          "output_type": "stream",
          "text": [
            "Saving..\n",
            "\n",
            "train_acc: 0.654, test_acc: 0.665, conf_min: 0.000, conf_max: 0.002, conf_avg: 0.000\n"
          ],
          "name": "stdout"
        },
        {
          "output_type": "stream",
          "text": [
            "Epoch 18: 100%|██████████| 391/391 [00:22<00:00, 17.20it/s]\n",
            "  0%|          | 0/391 [00:00<?, ?it/s]"
          ],
          "name": "stderr"
        },
        {
          "output_type": "stream",
          "text": [
            "\n",
            "train_acc: 0.659, test_acc: 0.663, conf_min: 0.000, conf_max: 0.002, conf_avg: 0.000\n"
          ],
          "name": "stdout"
        },
        {
          "output_type": "stream",
          "text": [
            "Epoch 19: 100%|██████████| 391/391 [00:22<00:00, 17.14it/s]\n",
            "  0%|          | 0/391 [00:00<?, ?it/s]"
          ],
          "name": "stderr"
        },
        {
          "output_type": "stream",
          "text": [
            "Saving..\n",
            "\n",
            "train_acc: 0.668, test_acc: 0.669, conf_min: 0.000, conf_max: 0.003, conf_avg: 0.000\n"
          ],
          "name": "stdout"
        },
        {
          "output_type": "stream",
          "text": [
            "Epoch 20: 100%|██████████| 391/391 [00:22<00:00, 17.02it/s]\n",
            "  0%|          | 0/391 [00:00<?, ?it/s]"
          ],
          "name": "stderr"
        },
        {
          "output_type": "stream",
          "text": [
            "Saving..\n",
            "\n",
            "train_acc: 0.670, test_acc: 0.674, conf_min: 0.000, conf_max: 0.003, conf_avg: 0.000\n"
          ],
          "name": "stdout"
        },
        {
          "output_type": "stream",
          "text": [
            "Epoch 21: 100%|██████████| 391/391 [00:22<00:00, 17.28it/s]\n",
            "  0%|          | 0/391 [00:00<?, ?it/s]"
          ],
          "name": "stderr"
        },
        {
          "output_type": "stream",
          "text": [
            "Saving..\n",
            "\n",
            "train_acc: 0.677, test_acc: 0.681, conf_min: 0.000, conf_max: 0.003, conf_avg: 0.000\n"
          ],
          "name": "stdout"
        },
        {
          "output_type": "stream",
          "text": [
            "Epoch 22: 100%|██████████| 391/391 [00:22<00:00, 17.39it/s]\n",
            "  0%|          | 0/391 [00:00<?, ?it/s]"
          ],
          "name": "stderr"
        },
        {
          "output_type": "stream",
          "text": [
            "Saving..\n",
            "\n",
            "train_acc: 0.681, test_acc: 0.684, conf_min: 0.000, conf_max: 0.002, conf_avg: 0.000\n"
          ],
          "name": "stdout"
        },
        {
          "output_type": "stream",
          "text": [
            "Epoch 23: 100%|██████████| 391/391 [00:22<00:00, 17.26it/s]\n",
            "  0%|          | 0/391 [00:00<?, ?it/s]"
          ],
          "name": "stderr"
        },
        {
          "output_type": "stream",
          "text": [
            "Saving..\n",
            "\n",
            "train_acc: 0.685, test_acc: 0.694, conf_min: 0.000, conf_max: 0.002, conf_avg: 0.000\n"
          ],
          "name": "stdout"
        },
        {
          "output_type": "stream",
          "text": [
            "Epoch 24: 100%|██████████| 391/391 [00:22<00:00, 17.22it/s]\n",
            "  0%|          | 0/391 [00:00<?, ?it/s]"
          ],
          "name": "stderr"
        },
        {
          "output_type": "stream",
          "text": [
            "\n",
            "train_acc: 0.689, test_acc: 0.694, conf_min: 0.000, conf_max: 0.002, conf_avg: 0.000\n"
          ],
          "name": "stdout"
        },
        {
          "output_type": "stream",
          "text": [
            "Epoch 25: 100%|██████████| 391/391 [00:22<00:00, 17.33it/s]\n",
            "  0%|          | 0/391 [00:00<?, ?it/s]"
          ],
          "name": "stderr"
        },
        {
          "output_type": "stream",
          "text": [
            "\n",
            "train_acc: 0.694, test_acc: 0.693, conf_min: 0.000, conf_max: 0.002, conf_avg: 0.000\n"
          ],
          "name": "stdout"
        },
        {
          "output_type": "stream",
          "text": [
            "Epoch 26: 100%|██████████| 391/391 [00:22<00:00, 17.36it/s]\n",
            "  0%|          | 0/391 [00:00<?, ?it/s]"
          ],
          "name": "stderr"
        },
        {
          "output_type": "stream",
          "text": [
            "\n",
            "train_acc: 0.694, test_acc: 0.694, conf_min: 0.000, conf_max: 0.002, conf_avg: 0.000\n"
          ],
          "name": "stdout"
        },
        {
          "output_type": "stream",
          "text": [
            "Epoch 27: 100%|██████████| 391/391 [00:22<00:00, 17.31it/s]\n",
            "  0%|          | 0/391 [00:00<?, ?it/s]"
          ],
          "name": "stderr"
        },
        {
          "output_type": "stream",
          "text": [
            "Saving..\n",
            "\n",
            "train_acc: 0.699, test_acc: 0.705, conf_min: 0.000, conf_max: 0.002, conf_avg: 0.000\n"
          ],
          "name": "stdout"
        },
        {
          "output_type": "stream",
          "text": [
            "Epoch 28: 100%|██████████| 391/391 [00:22<00:00, 17.22it/s]\n",
            "  0%|          | 0/391 [00:00<?, ?it/s]"
          ],
          "name": "stderr"
        },
        {
          "output_type": "stream",
          "text": [
            "\n",
            "train_acc: 0.703, test_acc: 0.697, conf_min: 0.000, conf_max: 0.002, conf_avg: 0.000\n"
          ],
          "name": "stdout"
        },
        {
          "output_type": "stream",
          "text": [
            "Epoch 29: 100%|██████████| 391/391 [00:22<00:00, 17.35it/s]\n",
            "  0%|          | 0/391 [00:00<?, ?it/s]"
          ],
          "name": "stderr"
        },
        {
          "output_type": "stream",
          "text": [
            "Saving..\n",
            "\n",
            "train_acc: 0.707, test_acc: 0.708, conf_min: 0.000, conf_max: 0.002, conf_avg: 0.000\n"
          ],
          "name": "stdout"
        },
        {
          "output_type": "stream",
          "text": [
            "Epoch 30: 100%|██████████| 391/391 [00:22<00:00, 17.15it/s]\n",
            "  0%|          | 0/391 [00:00<?, ?it/s]"
          ],
          "name": "stderr"
        },
        {
          "output_type": "stream",
          "text": [
            "\n",
            "train_acc: 0.710, test_acc: 0.703, conf_min: 0.000, conf_max: 0.002, conf_avg: 0.000\n"
          ],
          "name": "stdout"
        },
        {
          "output_type": "stream",
          "text": [
            "Epoch 31: 100%|██████████| 391/391 [00:22<00:00, 17.19it/s]\n",
            "  0%|          | 0/391 [00:00<?, ?it/s]"
          ],
          "name": "stderr"
        },
        {
          "output_type": "stream",
          "text": [
            "\n",
            "train_acc: 0.712, test_acc: 0.707, conf_min: 0.000, conf_max: 0.002, conf_avg: 0.000\n"
          ],
          "name": "stdout"
        },
        {
          "output_type": "stream",
          "text": [
            "Epoch 32: 100%|██████████| 391/391 [00:22<00:00, 17.21it/s]\n",
            "  0%|          | 0/391 [00:00<?, ?it/s]"
          ],
          "name": "stderr"
        },
        {
          "output_type": "stream",
          "text": [
            "Saving..\n",
            "\n",
            "train_acc: 0.713, test_acc: 0.720, conf_min: 0.000, conf_max: 0.002, conf_avg: 0.000\n"
          ],
          "name": "stdout"
        },
        {
          "output_type": "stream",
          "text": [
            "Epoch 33: 100%|██████████| 391/391 [00:22<00:00, 17.21it/s]\n",
            "  0%|          | 0/391 [00:00<?, ?it/s]"
          ],
          "name": "stderr"
        },
        {
          "output_type": "stream",
          "text": [
            "\n",
            "train_acc: 0.719, test_acc: 0.716, conf_min: 0.000, conf_max: 0.002, conf_avg: 0.000\n"
          ],
          "name": "stdout"
        },
        {
          "output_type": "stream",
          "text": [
            "Epoch 34: 100%|██████████| 391/391 [00:22<00:00, 17.13it/s]\n",
            "  0%|          | 0/391 [00:00<?, ?it/s]"
          ],
          "name": "stderr"
        },
        {
          "output_type": "stream",
          "text": [
            "\n",
            "train_acc: 0.722, test_acc: 0.718, conf_min: 0.000, conf_max: 0.002, conf_avg: 0.000\n"
          ],
          "name": "stdout"
        },
        {
          "output_type": "stream",
          "text": [
            "Epoch 35: 100%|██████████| 391/391 [00:22<00:00, 17.21it/s]\n",
            "  0%|          | 0/391 [00:00<?, ?it/s]"
          ],
          "name": "stderr"
        },
        {
          "output_type": "stream",
          "text": [
            "\n",
            "train_acc: 0.726, test_acc: 0.718, conf_min: 0.000, conf_max: 0.002, conf_avg: 0.000\n"
          ],
          "name": "stdout"
        },
        {
          "output_type": "stream",
          "text": [
            "Epoch 36: 100%|██████████| 391/391 [00:22<00:00, 17.15it/s]\n",
            "  0%|          | 0/391 [00:00<?, ?it/s]"
          ],
          "name": "stderr"
        },
        {
          "output_type": "stream",
          "text": [
            "\n",
            "train_acc: 0.728, test_acc: 0.715, conf_min: 0.000, conf_max: 0.002, conf_avg: 0.000\n"
          ],
          "name": "stdout"
        },
        {
          "output_type": "stream",
          "text": [
            "Epoch 37: 100%|██████████| 391/391 [00:22<00:00, 17.50it/s]\n",
            "  0%|          | 0/391 [00:00<?, ?it/s]"
          ],
          "name": "stderr"
        },
        {
          "output_type": "stream",
          "text": [
            "Saving..\n",
            "\n",
            "train_acc: 0.728, test_acc: 0.721, conf_min: 0.000, conf_max: 0.002, conf_avg: 0.000\n"
          ],
          "name": "stdout"
        },
        {
          "output_type": "stream",
          "text": [
            "Epoch 38: 100%|██████████| 391/391 [00:22<00:00, 17.41it/s]\n",
            "  0%|          | 0/391 [00:00<?, ?it/s]"
          ],
          "name": "stderr"
        },
        {
          "output_type": "stream",
          "text": [
            "Saving..\n",
            "\n",
            "train_acc: 0.733, test_acc: 0.725, conf_min: 0.000, conf_max: 0.002, conf_avg: 0.000\n"
          ],
          "name": "stdout"
        },
        {
          "output_type": "stream",
          "text": [
            "Epoch 39: 100%|██████████| 391/391 [00:22<00:00, 17.38it/s]\n",
            "  0%|          | 0/391 [00:00<?, ?it/s]"
          ],
          "name": "stderr"
        },
        {
          "output_type": "stream",
          "text": [
            "Saving..\n",
            "\n",
            "train_acc: 0.734, test_acc: 0.731, conf_min: 0.000, conf_max: 0.002, conf_avg: 0.000\n"
          ],
          "name": "stdout"
        },
        {
          "output_type": "stream",
          "text": [
            "Epoch 40: 100%|██████████| 391/391 [00:22<00:00, 17.33it/s]\n",
            "  0%|          | 0/391 [00:00<?, ?it/s]"
          ],
          "name": "stderr"
        },
        {
          "output_type": "stream",
          "text": [
            "\n",
            "train_acc: 0.739, test_acc: 0.725, conf_min: 0.000, conf_max: 0.002, conf_avg: 0.000\n"
          ],
          "name": "stdout"
        },
        {
          "output_type": "stream",
          "text": [
            "Epoch 41: 100%|██████████| 391/391 [00:22<00:00, 17.30it/s]\n",
            "  0%|          | 0/391 [00:00<?, ?it/s]"
          ],
          "name": "stderr"
        },
        {
          "output_type": "stream",
          "text": [
            "\n",
            "train_acc: 0.743, test_acc: 0.728, conf_min: 0.000, conf_max: 0.002, conf_avg: 0.000\n"
          ],
          "name": "stdout"
        },
        {
          "output_type": "stream",
          "text": [
            "Epoch 42: 100%|██████████| 391/391 [00:22<00:00, 17.14it/s]\n",
            "  0%|          | 0/391 [00:00<?, ?it/s]"
          ],
          "name": "stderr"
        },
        {
          "output_type": "stream",
          "text": [
            "\n",
            "train_acc: 0.742, test_acc: 0.730, conf_min: 0.000, conf_max: 0.003, conf_avg: 0.000\n"
          ],
          "name": "stdout"
        },
        {
          "output_type": "stream",
          "text": [
            "Epoch 43: 100%|██████████| 391/391 [00:22<00:00, 17.19it/s]\n",
            "  0%|          | 0/391 [00:00<?, ?it/s]"
          ],
          "name": "stderr"
        },
        {
          "output_type": "stream",
          "text": [
            "Saving..\n",
            "\n",
            "train_acc: 0.745, test_acc: 0.736, conf_min: 0.000, conf_max: 0.002, conf_avg: 0.000\n"
          ],
          "name": "stdout"
        },
        {
          "output_type": "stream",
          "text": [
            "Epoch 44: 100%|██████████| 391/391 [00:22<00:00, 17.42it/s]\n",
            "  0%|          | 0/391 [00:00<?, ?it/s]"
          ],
          "name": "stderr"
        },
        {
          "output_type": "stream",
          "text": [
            "\n",
            "train_acc: 0.747, test_acc: 0.730, conf_min: 0.000, conf_max: 0.002, conf_avg: 0.000\n"
          ],
          "name": "stdout"
        },
        {
          "output_type": "stream",
          "text": [
            "Epoch 45: 100%|██████████| 391/391 [00:22<00:00, 17.38it/s]\n",
            "  0%|          | 0/391 [00:00<?, ?it/s]"
          ],
          "name": "stderr"
        },
        {
          "output_type": "stream",
          "text": [
            "Saving..\n",
            "\n",
            "train_acc: 0.749, test_acc: 0.737, conf_min: 0.000, conf_max: 0.002, conf_avg: 0.000\n"
          ],
          "name": "stdout"
        },
        {
          "output_type": "stream",
          "text": [
            "Epoch 46: 100%|██████████| 391/391 [00:22<00:00, 17.17it/s]\n",
            "  0%|          | 0/391 [00:00<?, ?it/s]"
          ],
          "name": "stderr"
        },
        {
          "output_type": "stream",
          "text": [
            "\n",
            "train_acc: 0.752, test_acc: 0.728, conf_min: 0.000, conf_max: 0.002, conf_avg: 0.000\n"
          ],
          "name": "stdout"
        },
        {
          "output_type": "stream",
          "text": [
            "Epoch 47: 100%|██████████| 391/391 [00:22<00:00, 17.41it/s]\n",
            "  0%|          | 0/391 [00:00<?, ?it/s]"
          ],
          "name": "stderr"
        },
        {
          "output_type": "stream",
          "text": [
            "\n",
            "train_acc: 0.757, test_acc: 0.736, conf_min: 0.000, conf_max: 0.001, conf_avg: 0.000\n"
          ],
          "name": "stdout"
        },
        {
          "output_type": "stream",
          "text": [
            "Epoch 48: 100%|██████████| 391/391 [00:22<00:00, 17.16it/s]\n",
            "  0%|          | 0/391 [00:00<?, ?it/s]"
          ],
          "name": "stderr"
        },
        {
          "output_type": "stream",
          "text": [
            "Saving..\n",
            "\n",
            "train_acc: 0.758, test_acc: 0.738, conf_min: 0.000, conf_max: 0.002, conf_avg: 0.000\n"
          ],
          "name": "stdout"
        },
        {
          "output_type": "stream",
          "text": [
            "Epoch 49: 100%|██████████| 391/391 [00:22<00:00, 17.42it/s]\n",
            "  0%|          | 0/391 [00:00<?, ?it/s]"
          ],
          "name": "stderr"
        },
        {
          "output_type": "stream",
          "text": [
            "\n",
            "train_acc: 0.757, test_acc: 0.736, conf_min: 0.000, conf_max: 0.002, conf_avg: 0.000\n"
          ],
          "name": "stdout"
        },
        {
          "output_type": "stream",
          "text": [
            "Epoch 50: 100%|██████████| 391/391 [00:22<00:00, 17.40it/s]\n",
            "  0%|          | 0/391 [00:00<?, ?it/s]"
          ],
          "name": "stderr"
        },
        {
          "output_type": "stream",
          "text": [
            "\n",
            "train_acc: 0.758, test_acc: 0.737, conf_min: 0.000, conf_max: 0.002, conf_avg: 0.000\n"
          ],
          "name": "stdout"
        },
        {
          "output_type": "stream",
          "text": [
            "Epoch 51: 100%|██████████| 391/391 [00:22<00:00, 17.38it/s]\n",
            "  0%|          | 0/391 [00:00<?, ?it/s]"
          ],
          "name": "stderr"
        },
        {
          "output_type": "stream",
          "text": [
            "Saving..\n",
            "\n",
            "train_acc: 0.764, test_acc: 0.744, conf_min: 0.000, conf_max: 0.002, conf_avg: 0.000\n"
          ],
          "name": "stdout"
        },
        {
          "output_type": "stream",
          "text": [
            "Epoch 52: 100%|██████████| 391/391 [00:22<00:00, 17.27it/s]\n",
            "  0%|          | 0/391 [00:00<?, ?it/s]"
          ],
          "name": "stderr"
        },
        {
          "output_type": "stream",
          "text": [
            "\n",
            "train_acc: 0.764, test_acc: 0.741, conf_min: 0.000, conf_max: 0.002, conf_avg: 0.000\n"
          ],
          "name": "stdout"
        },
        {
          "output_type": "stream",
          "text": [
            "Epoch 53: 100%|██████████| 391/391 [00:22<00:00, 17.26it/s]\n",
            "  0%|          | 0/391 [00:00<?, ?it/s]"
          ],
          "name": "stderr"
        },
        {
          "output_type": "stream",
          "text": [
            "Saving..\n",
            "\n",
            "train_acc: 0.765, test_acc: 0.751, conf_min: 0.000, conf_max: 0.002, conf_avg: 0.000\n"
          ],
          "name": "stdout"
        },
        {
          "output_type": "stream",
          "text": [
            "Epoch 54: 100%|██████████| 391/391 [00:22<00:00, 17.36it/s]\n",
            "  0%|          | 0/391 [00:00<?, ?it/s]"
          ],
          "name": "stderr"
        },
        {
          "output_type": "stream",
          "text": [
            "Saving..\n",
            "\n",
            "train_acc: 0.769, test_acc: 0.752, conf_min: 0.000, conf_max: 0.002, conf_avg: 0.000\n"
          ],
          "name": "stdout"
        },
        {
          "output_type": "stream",
          "text": [
            "Epoch 55: 100%|██████████| 391/391 [00:22<00:00, 17.26it/s]\n",
            "  0%|          | 0/391 [00:00<?, ?it/s]"
          ],
          "name": "stderr"
        },
        {
          "output_type": "stream",
          "text": [
            "\n",
            "train_acc: 0.768, test_acc: 0.752, conf_min: 0.000, conf_max: 0.002, conf_avg: 0.000\n"
          ],
          "name": "stdout"
        },
        {
          "output_type": "stream",
          "text": [
            "Epoch 56: 100%|██████████| 391/391 [00:22<00:00, 17.16it/s]\n",
            "  0%|          | 0/391 [00:00<?, ?it/s]"
          ],
          "name": "stderr"
        },
        {
          "output_type": "stream",
          "text": [
            "\n",
            "train_acc: 0.772, test_acc: 0.749, conf_min: 0.000, conf_max: 0.003, conf_avg: 0.000\n"
          ],
          "name": "stdout"
        },
        {
          "output_type": "stream",
          "text": [
            "Epoch 57: 100%|██████████| 391/391 [00:22<00:00, 17.32it/s]\n",
            "  0%|          | 0/391 [00:00<?, ?it/s]"
          ],
          "name": "stderr"
        },
        {
          "output_type": "stream",
          "text": [
            "\n",
            "train_acc: 0.774, test_acc: 0.744, conf_min: 0.000, conf_max: 0.002, conf_avg: 0.000\n"
          ],
          "name": "stdout"
        },
        {
          "output_type": "stream",
          "text": [
            "Epoch 58: 100%|██████████| 391/391 [00:22<00:00, 17.42it/s]\n",
            "  0%|          | 0/391 [00:00<?, ?it/s]"
          ],
          "name": "stderr"
        },
        {
          "output_type": "stream",
          "text": [
            "\n",
            "train_acc: 0.776, test_acc: 0.750, conf_min: 0.000, conf_max: 0.002, conf_avg: 0.000\n"
          ],
          "name": "stdout"
        },
        {
          "output_type": "stream",
          "text": [
            "Epoch 59: 100%|██████████| 391/391 [00:22<00:00, 17.16it/s]\n",
            "  0%|          | 0/391 [00:00<?, ?it/s]"
          ],
          "name": "stderr"
        },
        {
          "output_type": "stream",
          "text": [
            "\n",
            "train_acc: 0.777, test_acc: 0.749, conf_min: 0.000, conf_max: 0.002, conf_avg: 0.000\n"
          ],
          "name": "stdout"
        },
        {
          "output_type": "stream",
          "text": [
            "Epoch 60: 100%|██████████| 391/391 [00:22<00:00, 17.36it/s]\n",
            "  0%|          | 0/391 [00:00<?, ?it/s]"
          ],
          "name": "stderr"
        },
        {
          "output_type": "stream",
          "text": [
            "\n",
            "train_acc: 0.778, test_acc: 0.751, conf_min: 0.000, conf_max: 0.002, conf_avg: 0.000\n"
          ],
          "name": "stdout"
        },
        {
          "output_type": "stream",
          "text": [
            "Epoch 61: 100%|██████████| 391/391 [00:22<00:00, 17.32it/s]\n",
            "  0%|          | 0/391 [00:00<?, ?it/s]"
          ],
          "name": "stderr"
        },
        {
          "output_type": "stream",
          "text": [
            "Saving..\n",
            "\n",
            "train_acc: 0.795, test_acc: 0.765, conf_min: 0.000, conf_max: 0.002, conf_avg: 0.000\n"
          ],
          "name": "stdout"
        },
        {
          "output_type": "stream",
          "text": [
            "Epoch 62: 100%|██████████| 391/391 [00:22<00:00, 17.28it/s]\n",
            "  0%|          | 0/391 [00:00<?, ?it/s]"
          ],
          "name": "stderr"
        },
        {
          "output_type": "stream",
          "text": [
            "Saving..\n",
            "\n",
            "train_acc: 0.799, test_acc: 0.768, conf_min: 0.000, conf_max: 0.002, conf_avg: 0.000\n"
          ],
          "name": "stdout"
        },
        {
          "output_type": "stream",
          "text": [
            "Epoch 63: 100%|██████████| 391/391 [00:22<00:00, 17.30it/s]\n",
            "  0%|          | 0/391 [00:00<?, ?it/s]"
          ],
          "name": "stderr"
        },
        {
          "output_type": "stream",
          "text": [
            "Saving..\n",
            "\n",
            "train_acc: 0.798, test_acc: 0.769, conf_min: 0.000, conf_max: 0.002, conf_avg: 0.000\n"
          ],
          "name": "stdout"
        },
        {
          "output_type": "stream",
          "text": [
            "Epoch 64: 100%|██████████| 391/391 [00:22<00:00, 17.01it/s]\n",
            "  0%|          | 0/391 [00:00<?, ?it/s]"
          ],
          "name": "stderr"
        },
        {
          "output_type": "stream",
          "text": [
            "\n",
            "train_acc: 0.802, test_acc: 0.766, conf_min: 0.000, conf_max: 0.002, conf_avg: 0.000\n"
          ],
          "name": "stdout"
        },
        {
          "output_type": "stream",
          "text": [
            "Epoch 65: 100%|██████████| 391/391 [00:23<00:00, 16.90it/s]\n",
            "  0%|          | 0/391 [00:00<?, ?it/s]"
          ],
          "name": "stderr"
        },
        {
          "output_type": "stream",
          "text": [
            "\n",
            "train_acc: 0.803, test_acc: 0.766, conf_min: 0.000, conf_max: 0.002, conf_avg: 0.000\n"
          ],
          "name": "stdout"
        },
        {
          "output_type": "stream",
          "text": [
            "Epoch 66: 100%|██████████| 391/391 [00:23<00:00, 16.77it/s]\n",
            "  0%|          | 0/391 [00:00<?, ?it/s]"
          ],
          "name": "stderr"
        },
        {
          "output_type": "stream",
          "text": [
            "\n",
            "train_acc: 0.806, test_acc: 0.766, conf_min: 0.000, conf_max: 0.002, conf_avg: 0.000\n"
          ],
          "name": "stdout"
        },
        {
          "output_type": "stream",
          "text": [
            "Epoch 67: 100%|██████████| 391/391 [00:23<00:00, 16.84it/s]\n",
            "  0%|          | 0/391 [00:00<?, ?it/s]"
          ],
          "name": "stderr"
        },
        {
          "output_type": "stream",
          "text": [
            "Saving..\n",
            "\n",
            "train_acc: 0.808, test_acc: 0.770, conf_min: 0.000, conf_max: 0.002, conf_avg: 0.000\n"
          ],
          "name": "stdout"
        },
        {
          "output_type": "stream",
          "text": [
            "Epoch 68: 100%|██████████| 391/391 [00:23<00:00, 16.85it/s]\n",
            "  0%|          | 0/391 [00:00<?, ?it/s]"
          ],
          "name": "stderr"
        },
        {
          "output_type": "stream",
          "text": [
            "\n",
            "train_acc: 0.809, test_acc: 0.766, conf_min: 0.000, conf_max: 0.002, conf_avg: 0.000\n"
          ],
          "name": "stdout"
        },
        {
          "output_type": "stream",
          "text": [
            "Epoch 69: 100%|██████████| 391/391 [00:23<00:00, 16.75it/s]\n",
            "  0%|          | 0/391 [00:00<?, ?it/s]"
          ],
          "name": "stderr"
        },
        {
          "output_type": "stream",
          "text": [
            "\n",
            "train_acc: 0.811, test_acc: 0.769, conf_min: 0.000, conf_max: 0.002, conf_avg: 0.000\n"
          ],
          "name": "stdout"
        },
        {
          "output_type": "stream",
          "text": [
            "Epoch 70: 100%|██████████| 391/391 [00:23<00:00, 16.98it/s]\n",
            "  0%|          | 0/391 [00:00<?, ?it/s]"
          ],
          "name": "stderr"
        },
        {
          "output_type": "stream",
          "text": [
            "\n",
            "train_acc: 0.807, test_acc: 0.768, conf_min: 0.000, conf_max: 0.002, conf_avg: 0.000\n"
          ],
          "name": "stdout"
        },
        {
          "output_type": "stream",
          "text": [
            "Epoch 71: 100%|██████████| 391/391 [00:22<00:00, 17.11it/s]\n",
            "  0%|          | 0/391 [00:00<?, ?it/s]"
          ],
          "name": "stderr"
        },
        {
          "output_type": "stream",
          "text": [
            "\n",
            "train_acc: 0.810, test_acc: 0.768, conf_min: 0.000, conf_max: 0.002, conf_avg: 0.000\n"
          ],
          "name": "stdout"
        },
        {
          "output_type": "stream",
          "text": [
            "Epoch 72: 100%|██████████| 391/391 [00:22<00:00, 17.10it/s]\n",
            "  0%|          | 0/391 [00:00<?, ?it/s]"
          ],
          "name": "stderr"
        },
        {
          "output_type": "stream",
          "text": [
            "\n",
            "train_acc: 0.810, test_acc: 0.769, conf_min: 0.000, conf_max: 0.002, conf_avg: 0.000\n"
          ],
          "name": "stdout"
        },
        {
          "output_type": "stream",
          "text": [
            "Epoch 73: 100%|██████████| 391/391 [00:22<00:00, 17.04it/s]\n",
            "  0%|          | 0/391 [00:00<?, ?it/s]"
          ],
          "name": "stderr"
        },
        {
          "output_type": "stream",
          "text": [
            "\n",
            "train_acc: 0.811, test_acc: 0.769, conf_min: 0.000, conf_max: 0.002, conf_avg: 0.000\n"
          ],
          "name": "stdout"
        },
        {
          "output_type": "stream",
          "text": [
            "Epoch 74: 100%|██████████| 391/391 [00:22<00:00, 17.14it/s]\n",
            "  0%|          | 0/391 [00:00<?, ?it/s]"
          ],
          "name": "stderr"
        },
        {
          "output_type": "stream",
          "text": [
            "\n",
            "train_acc: 0.811, test_acc: 0.769, conf_min: 0.000, conf_max: 0.002, conf_avg: 0.000\n"
          ],
          "name": "stdout"
        },
        {
          "output_type": "stream",
          "text": [
            "Epoch 75: 100%|██████████| 391/391 [00:23<00:00, 16.94it/s]\n",
            "  0%|          | 0/391 [00:00<?, ?it/s]"
          ],
          "name": "stderr"
        },
        {
          "output_type": "stream",
          "text": [
            "\n",
            "train_acc: 0.812, test_acc: 0.769, conf_min: 0.000, conf_max: 0.002, conf_avg: 0.000\n"
          ],
          "name": "stdout"
        },
        {
          "output_type": "stream",
          "text": [
            "Epoch 76: 100%|██████████| 391/391 [00:22<00:00, 17.22it/s]\n",
            "  0%|          | 0/391 [00:00<?, ?it/s]"
          ],
          "name": "stderr"
        },
        {
          "output_type": "stream",
          "text": [
            "\n",
            "train_acc: 0.812, test_acc: 0.769, conf_min: 0.000, conf_max: 0.002, conf_avg: 0.000\n"
          ],
          "name": "stdout"
        },
        {
          "output_type": "stream",
          "text": [
            "Epoch 77: 100%|██████████| 391/391 [00:22<00:00, 17.36it/s]\n",
            "  0%|          | 0/391 [00:00<?, ?it/s]"
          ],
          "name": "stderr"
        },
        {
          "output_type": "stream",
          "text": [
            "\n",
            "train_acc: 0.814, test_acc: 0.767, conf_min: 0.000, conf_max: 0.002, conf_avg: 0.000\n"
          ],
          "name": "stdout"
        },
        {
          "output_type": "stream",
          "text": [
            "Epoch 78: 100%|██████████| 391/391 [00:22<00:00, 17.34it/s]\n",
            "  0%|          | 0/391 [00:00<?, ?it/s]"
          ],
          "name": "stderr"
        },
        {
          "output_type": "stream",
          "text": [
            "\n",
            "train_acc: 0.817, test_acc: 0.769, conf_min: 0.000, conf_max: 0.002, conf_avg: 0.000\n"
          ],
          "name": "stdout"
        },
        {
          "output_type": "stream",
          "text": [
            "Epoch 79: 100%|██████████| 391/391 [00:22<00:00, 17.17it/s]\n",
            "  0%|          | 0/391 [00:00<?, ?it/s]"
          ],
          "name": "stderr"
        },
        {
          "output_type": "stream",
          "text": [
            "\n",
            "train_acc: 0.816, test_acc: 0.767, conf_min: 0.000, conf_max: 0.002, conf_avg: 0.000\n"
          ],
          "name": "stdout"
        },
        {
          "output_type": "stream",
          "text": [
            "Epoch 80: 100%|██████████| 391/391 [00:22<00:00, 17.13it/s]\n",
            "  0%|          | 0/391 [00:00<?, ?it/s]"
          ],
          "name": "stderr"
        },
        {
          "output_type": "stream",
          "text": [
            "\n",
            "train_acc: 0.817, test_acc: 0.770, conf_min: 0.000, conf_max: 0.002, conf_avg: 0.000\n"
          ],
          "name": "stdout"
        },
        {
          "output_type": "stream",
          "text": [
            "Epoch 81: 100%|██████████| 391/391 [00:22<00:00, 17.15it/s]\n",
            "  0%|          | 0/391 [00:00<?, ?it/s]"
          ],
          "name": "stderr"
        },
        {
          "output_type": "stream",
          "text": [
            "Saving..\n",
            "\n",
            "train_acc: 0.816, test_acc: 0.771, conf_min: 0.000, conf_max: 0.002, conf_avg: 0.000\n"
          ],
          "name": "stdout"
        },
        {
          "output_type": "stream",
          "text": [
            "Epoch 82: 100%|██████████| 391/391 [00:22<00:00, 17.41it/s]\n",
            "  0%|          | 0/391 [00:00<?, ?it/s]"
          ],
          "name": "stderr"
        },
        {
          "output_type": "stream",
          "text": [
            "Saving..\n",
            "\n",
            "train_acc: 0.816, test_acc: 0.771, conf_min: 0.000, conf_max: 0.002, conf_avg: 0.000\n"
          ],
          "name": "stdout"
        },
        {
          "output_type": "stream",
          "text": [
            "Epoch 83: 100%|██████████| 391/391 [00:22<00:00, 17.36it/s]\n",
            "  0%|          | 0/391 [00:00<?, ?it/s]"
          ],
          "name": "stderr"
        },
        {
          "output_type": "stream",
          "text": [
            "\n",
            "train_acc: 0.817, test_acc: 0.769, conf_min: 0.000, conf_max: 0.002, conf_avg: 0.000\n"
          ],
          "name": "stdout"
        },
        {
          "output_type": "stream",
          "text": [
            "Epoch 84: 100%|██████████| 391/391 [00:22<00:00, 17.33it/s]\n",
            "  0%|          | 0/391 [00:00<?, ?it/s]"
          ],
          "name": "stderr"
        },
        {
          "output_type": "stream",
          "text": [
            "\n",
            "train_acc: 0.817, test_acc: 0.767, conf_min: 0.000, conf_max: 0.002, conf_avg: 0.000\n"
          ],
          "name": "stdout"
        },
        {
          "output_type": "stream",
          "text": [
            "Epoch 85: 100%|██████████| 391/391 [00:22<00:00, 17.28it/s]\n",
            "  0%|          | 0/391 [00:00<?, ?it/s]"
          ],
          "name": "stderr"
        },
        {
          "output_type": "stream",
          "text": [
            "\n",
            "train_acc: 0.820, test_acc: 0.770, conf_min: 0.000, conf_max: 0.002, conf_avg: 0.000\n"
          ],
          "name": "stdout"
        },
        {
          "output_type": "stream",
          "text": [
            "Epoch 86: 100%|██████████| 391/391 [00:22<00:00, 17.22it/s]\n",
            "  0%|          | 0/391 [00:00<?, ?it/s]"
          ],
          "name": "stderr"
        },
        {
          "output_type": "stream",
          "text": [
            "\n",
            "train_acc: 0.820, test_acc: 0.768, conf_min: 0.000, conf_max: 0.002, conf_avg: 0.000\n"
          ],
          "name": "stdout"
        },
        {
          "output_type": "stream",
          "text": [
            "Epoch 87: 100%|██████████| 391/391 [00:22<00:00, 17.36it/s]\n",
            "  0%|          | 0/391 [00:00<?, ?it/s]"
          ],
          "name": "stderr"
        },
        {
          "output_type": "stream",
          "text": [
            "\n",
            "train_acc: 0.819, test_acc: 0.769, conf_min: 0.000, conf_max: 0.002, conf_avg: 0.000\n"
          ],
          "name": "stdout"
        },
        {
          "output_type": "stream",
          "text": [
            "Epoch 88: 100%|██████████| 391/391 [00:22<00:00, 17.14it/s]\n",
            "  0%|          | 0/391 [00:00<?, ?it/s]"
          ],
          "name": "stderr"
        },
        {
          "output_type": "stream",
          "text": [
            "Saving..\n",
            "\n",
            "train_acc: 0.821, test_acc: 0.772, conf_min: 0.000, conf_max: 0.002, conf_avg: 0.000\n"
          ],
          "name": "stdout"
        },
        {
          "output_type": "stream",
          "text": [
            "Epoch 89: 100%|██████████| 391/391 [00:22<00:00, 17.34it/s]\n",
            "  0%|          | 0/391 [00:00<?, ?it/s]"
          ],
          "name": "stderr"
        },
        {
          "output_type": "stream",
          "text": [
            "Saving..\n",
            "\n",
            "train_acc: 0.818, test_acc: 0.774, conf_min: 0.000, conf_max: 0.002, conf_avg: 0.000\n"
          ],
          "name": "stdout"
        },
        {
          "output_type": "stream",
          "text": [
            "Epoch 90: 100%|██████████| 391/391 [00:22<00:00, 17.18it/s]\n",
            "  0%|          | 0/391 [00:00<?, ?it/s]"
          ],
          "name": "stderr"
        },
        {
          "output_type": "stream",
          "text": [
            "\n",
            "train_acc: 0.823, test_acc: 0.773, conf_min: 0.000, conf_max: 0.002, conf_avg: 0.000\n"
          ],
          "name": "stdout"
        },
        {
          "output_type": "stream",
          "text": [
            "Epoch 91: 100%|██████████| 391/391 [00:22<00:00, 17.37it/s]\n",
            "  0%|          | 0/391 [00:00<?, ?it/s]"
          ],
          "name": "stderr"
        },
        {
          "output_type": "stream",
          "text": [
            "\n",
            "train_acc: 0.823, test_acc: 0.771, conf_min: 0.000, conf_max: 0.002, conf_avg: 0.000\n"
          ],
          "name": "stdout"
        },
        {
          "output_type": "stream",
          "text": [
            "Epoch 92: 100%|██████████| 391/391 [00:22<00:00, 17.28it/s]\n",
            "  0%|          | 0/391 [00:00<?, ?it/s]"
          ],
          "name": "stderr"
        },
        {
          "output_type": "stream",
          "text": [
            "\n",
            "train_acc: 0.824, test_acc: 0.771, conf_min: 0.000, conf_max: 0.002, conf_avg: 0.000\n"
          ],
          "name": "stdout"
        },
        {
          "output_type": "stream",
          "text": [
            "Epoch 93: 100%|██████████| 391/391 [00:22<00:00, 17.38it/s]\n",
            "  0%|          | 0/391 [00:00<?, ?it/s]"
          ],
          "name": "stderr"
        },
        {
          "output_type": "stream",
          "text": [
            "\n",
            "train_acc: 0.823, test_acc: 0.770, conf_min: 0.000, conf_max: 0.002, conf_avg: 0.000\n"
          ],
          "name": "stdout"
        },
        {
          "output_type": "stream",
          "text": [
            "Epoch 94: 100%|██████████| 391/391 [00:22<00:00, 17.21it/s]\n",
            "  0%|          | 0/391 [00:00<?, ?it/s]"
          ],
          "name": "stderr"
        },
        {
          "output_type": "stream",
          "text": [
            "\n",
            "train_acc: 0.825, test_acc: 0.773, conf_min: 0.000, conf_max: 0.002, conf_avg: 0.000\n"
          ],
          "name": "stdout"
        },
        {
          "output_type": "stream",
          "text": [
            "Epoch 95: 100%|██████████| 391/391 [00:22<00:00, 17.17it/s]\n",
            "  0%|          | 0/391 [00:00<?, ?it/s]"
          ],
          "name": "stderr"
        },
        {
          "output_type": "stream",
          "text": [
            "\n",
            "train_acc: 0.824, test_acc: 0.772, conf_min: 0.000, conf_max: 0.002, conf_avg: 0.000\n"
          ],
          "name": "stdout"
        },
        {
          "output_type": "stream",
          "text": [
            "Epoch 96: 100%|██████████| 391/391 [00:22<00:00, 17.31it/s]\n",
            "  0%|          | 0/391 [00:00<?, ?it/s]"
          ],
          "name": "stderr"
        },
        {
          "output_type": "stream",
          "text": [
            "\n",
            "train_acc: 0.825, test_acc: 0.773, conf_min: 0.000, conf_max: 0.002, conf_avg: 0.000\n"
          ],
          "name": "stdout"
        },
        {
          "output_type": "stream",
          "text": [
            "Epoch 97: 100%|██████████| 391/391 [00:22<00:00, 17.36it/s]\n",
            "  0%|          | 0/391 [00:00<?, ?it/s]"
          ],
          "name": "stderr"
        },
        {
          "output_type": "stream",
          "text": [
            "\n",
            "train_acc: 0.825, test_acc: 0.772, conf_min: 0.000, conf_max: 0.002, conf_avg: 0.000\n"
          ],
          "name": "stdout"
        },
        {
          "output_type": "stream",
          "text": [
            "Epoch 98: 100%|██████████| 391/391 [00:22<00:00, 17.26it/s]\n",
            "  0%|          | 0/391 [00:00<?, ?it/s]"
          ],
          "name": "stderr"
        },
        {
          "output_type": "stream",
          "text": [
            "\n",
            "train_acc: 0.826, test_acc: 0.774, conf_min: 0.000, conf_max: 0.002, conf_avg: 0.000\n"
          ],
          "name": "stdout"
        },
        {
          "output_type": "stream",
          "text": [
            "Epoch 99: 100%|██████████| 391/391 [00:22<00:00, 17.26it/s]\n",
            "  0%|          | 0/391 [00:00<?, ?it/s]"
          ],
          "name": "stderr"
        },
        {
          "output_type": "stream",
          "text": [
            "\n",
            "train_acc: 0.827, test_acc: 0.773, conf_min: 0.000, conf_max: 0.002, conf_avg: 0.000\n"
          ],
          "name": "stdout"
        },
        {
          "output_type": "stream",
          "text": [
            "Epoch 100: 100%|██████████| 391/391 [00:22<00:00, 17.34it/s]\n",
            "  0%|          | 0/391 [00:00<?, ?it/s]"
          ],
          "name": "stderr"
        },
        {
          "output_type": "stream",
          "text": [
            "\n",
            "train_acc: 0.829, test_acc: 0.772, conf_min: 0.000, conf_max: 0.002, conf_avg: 0.000\n"
          ],
          "name": "stdout"
        },
        {
          "output_type": "stream",
          "text": [
            "Epoch 101: 100%|██████████| 391/391 [00:22<00:00, 17.32it/s]\n",
            "  0%|          | 0/391 [00:00<?, ?it/s]"
          ],
          "name": "stderr"
        },
        {
          "output_type": "stream",
          "text": [
            "\n",
            "train_acc: 0.828, test_acc: 0.771, conf_min: 0.000, conf_max: 0.002, conf_avg: 0.000\n"
          ],
          "name": "stdout"
        },
        {
          "output_type": "stream",
          "text": [
            "Epoch 102: 100%|██████████| 391/391 [00:22<00:00, 17.50it/s]\n",
            "  0%|          | 0/391 [00:00<?, ?it/s]"
          ],
          "name": "stderr"
        },
        {
          "output_type": "stream",
          "text": [
            "\n",
            "train_acc: 0.828, test_acc: 0.771, conf_min: 0.000, conf_max: 0.002, conf_avg: 0.000\n"
          ],
          "name": "stdout"
        },
        {
          "output_type": "stream",
          "text": [
            "Epoch 103: 100%|██████████| 391/391 [00:22<00:00, 17.45it/s]\n",
            "  0%|          | 0/391 [00:00<?, ?it/s]"
          ],
          "name": "stderr"
        },
        {
          "output_type": "stream",
          "text": [
            "\n",
            "train_acc: 0.830, test_acc: 0.773, conf_min: 0.000, conf_max: 0.002, conf_avg: 0.000\n"
          ],
          "name": "stdout"
        },
        {
          "output_type": "stream",
          "text": [
            "Epoch 104: 100%|██████████| 391/391 [00:22<00:00, 17.35it/s]\n",
            "  0%|          | 0/391 [00:00<?, ?it/s]"
          ],
          "name": "stderr"
        },
        {
          "output_type": "stream",
          "text": [
            "\n",
            "train_acc: 0.829, test_acc: 0.772, conf_min: 0.000, conf_max: 0.001, conf_avg: 0.000\n"
          ],
          "name": "stdout"
        },
        {
          "output_type": "stream",
          "text": [
            "Epoch 105: 100%|██████████| 391/391 [00:22<00:00, 17.16it/s]\n",
            "  0%|          | 0/391 [00:00<?, ?it/s]"
          ],
          "name": "stderr"
        },
        {
          "output_type": "stream",
          "text": [
            "\n",
            "train_acc: 0.830, test_acc: 0.773, conf_min: 0.000, conf_max: 0.002, conf_avg: 0.000\n"
          ],
          "name": "stdout"
        },
        {
          "output_type": "stream",
          "text": [
            "Epoch 106: 100%|██████████| 391/391 [00:22<00:00, 17.35it/s]\n",
            "  0%|          | 0/391 [00:00<?, ?it/s]"
          ],
          "name": "stderr"
        },
        {
          "output_type": "stream",
          "text": [
            "\n",
            "train_acc: 0.829, test_acc: 0.772, conf_min: 0.000, conf_max: 0.001, conf_avg: 0.000\n"
          ],
          "name": "stdout"
        },
        {
          "output_type": "stream",
          "text": [
            "Epoch 107: 100%|██████████| 391/391 [00:22<00:00, 17.56it/s]\n",
            "  0%|          | 0/391 [00:00<?, ?it/s]"
          ],
          "name": "stderr"
        },
        {
          "output_type": "stream",
          "text": [
            "\n",
            "train_acc: 0.831, test_acc: 0.774, conf_min: 0.000, conf_max: 0.001, conf_avg: 0.000\n"
          ],
          "name": "stdout"
        },
        {
          "output_type": "stream",
          "text": [
            "Epoch 108: 100%|██████████| 391/391 [00:22<00:00, 17.34it/s]\n",
            "  0%|          | 0/391 [00:00<?, ?it/s]"
          ],
          "name": "stderr"
        },
        {
          "output_type": "stream",
          "text": [
            "\n",
            "train_acc: 0.830, test_acc: 0.774, conf_min: 0.000, conf_max: 0.002, conf_avg: 0.000\n"
          ],
          "name": "stdout"
        },
        {
          "output_type": "stream",
          "text": [
            "Epoch 109: 100%|██████████| 391/391 [00:22<00:00, 17.34it/s]\n",
            "  0%|          | 0/391 [00:00<?, ?it/s]"
          ],
          "name": "stderr"
        },
        {
          "output_type": "stream",
          "text": [
            "\n",
            "train_acc: 0.829, test_acc: 0.772, conf_min: 0.000, conf_max: 0.001, conf_avg: 0.000\n"
          ],
          "name": "stdout"
        },
        {
          "output_type": "stream",
          "text": [
            "Epoch 110: 100%|██████████| 391/391 [00:22<00:00, 17.29it/s]\n",
            "  0%|          | 0/391 [00:00<?, ?it/s]"
          ],
          "name": "stderr"
        },
        {
          "output_type": "stream",
          "text": [
            "Saving..\n",
            "\n",
            "train_acc: 0.832, test_acc: 0.774, conf_min: 0.000, conf_max: 0.002, conf_avg: 0.000\n"
          ],
          "name": "stdout"
        },
        {
          "output_type": "stream",
          "text": [
            "Epoch 111: 100%|██████████| 391/391 [00:22<00:00, 17.29it/s]\n",
            "  0%|          | 0/391 [00:00<?, ?it/s]"
          ],
          "name": "stderr"
        },
        {
          "output_type": "stream",
          "text": [
            "\n",
            "train_acc: 0.831, test_acc: 0.773, conf_min: 0.000, conf_max: 0.002, conf_avg: 0.000\n"
          ],
          "name": "stdout"
        },
        {
          "output_type": "stream",
          "text": [
            "Epoch 112: 100%|██████████| 391/391 [00:22<00:00, 17.48it/s]\n",
            "  0%|          | 0/391 [00:00<?, ?it/s]"
          ],
          "name": "stderr"
        },
        {
          "output_type": "stream",
          "text": [
            "Saving..\n",
            "\n",
            "train_acc: 0.835, test_acc: 0.775, conf_min: 0.000, conf_max: 0.001, conf_avg: 0.000\n"
          ],
          "name": "stdout"
        },
        {
          "output_type": "stream",
          "text": [
            "Epoch 113: 100%|██████████| 391/391 [00:22<00:00, 17.21it/s]\n",
            "  0%|          | 0/391 [00:00<?, ?it/s]"
          ],
          "name": "stderr"
        },
        {
          "output_type": "stream",
          "text": [
            "\n",
            "train_acc: 0.835, test_acc: 0.774, conf_min: 0.000, conf_max: 0.002, conf_avg: 0.000\n"
          ],
          "name": "stdout"
        },
        {
          "output_type": "stream",
          "text": [
            "Epoch 114: 100%|██████████| 391/391 [00:22<00:00, 17.23it/s]\n",
            "  0%|          | 0/391 [00:00<?, ?it/s]"
          ],
          "name": "stderr"
        },
        {
          "output_type": "stream",
          "text": [
            "\n",
            "train_acc: 0.835, test_acc: 0.774, conf_min: 0.000, conf_max: 0.002, conf_avg: 0.000\n"
          ],
          "name": "stdout"
        },
        {
          "output_type": "stream",
          "text": [
            "Epoch 115: 100%|██████████| 391/391 [00:22<00:00, 17.34it/s]\n",
            "  0%|          | 0/391 [00:00<?, ?it/s]"
          ],
          "name": "stderr"
        },
        {
          "output_type": "stream",
          "text": [
            "\n",
            "train_acc: 0.834, test_acc: 0.775, conf_min: 0.000, conf_max: 0.001, conf_avg: 0.000\n"
          ],
          "name": "stdout"
        },
        {
          "output_type": "stream",
          "text": [
            "Epoch 116: 100%|██████████| 391/391 [00:22<00:00, 17.28it/s]\n",
            "  0%|          | 0/391 [00:00<?, ?it/s]"
          ],
          "name": "stderr"
        },
        {
          "output_type": "stream",
          "text": [
            "\n",
            "train_acc: 0.836, test_acc: 0.774, conf_min: 0.000, conf_max: 0.002, conf_avg: 0.000\n"
          ],
          "name": "stdout"
        },
        {
          "output_type": "stream",
          "text": [
            "Epoch 117: 100%|██████████| 391/391 [00:22<00:00, 17.35it/s]\n",
            "  0%|          | 0/391 [00:00<?, ?it/s]"
          ],
          "name": "stderr"
        },
        {
          "output_type": "stream",
          "text": [
            "\n",
            "train_acc: 0.835, test_acc: 0.774, conf_min: 0.000, conf_max: 0.001, conf_avg: 0.000\n"
          ],
          "name": "stdout"
        },
        {
          "output_type": "stream",
          "text": [
            "Epoch 118: 100%|██████████| 391/391 [00:22<00:00, 17.33it/s]\n",
            "  0%|          | 0/391 [00:00<?, ?it/s]"
          ],
          "name": "stderr"
        },
        {
          "output_type": "stream",
          "text": [
            "\n",
            "train_acc: 0.836, test_acc: 0.774, conf_min: 0.000, conf_max: 0.002, conf_avg: 0.000\n"
          ],
          "name": "stdout"
        },
        {
          "output_type": "stream",
          "text": [
            "Epoch 119: 100%|██████████| 391/391 [00:22<00:00, 17.18it/s]\n",
            "  0%|          | 0/391 [00:00<?, ?it/s]"
          ],
          "name": "stderr"
        },
        {
          "output_type": "stream",
          "text": [
            "\n",
            "train_acc: 0.837, test_acc: 0.773, conf_min: 0.000, conf_max: 0.002, conf_avg: 0.000\n"
          ],
          "name": "stdout"
        },
        {
          "output_type": "stream",
          "text": [
            "Epoch 120: 100%|██████████| 391/391 [00:22<00:00, 17.19it/s]\n",
            "  0%|          | 0/391 [00:00<?, ?it/s]"
          ],
          "name": "stderr"
        },
        {
          "output_type": "stream",
          "text": [
            "\n",
            "train_acc: 0.838, test_acc: 0.774, conf_min: 0.000, conf_max: 0.002, conf_avg: 0.000\n"
          ],
          "name": "stdout"
        },
        {
          "output_type": "stream",
          "text": [
            "Epoch 121: 100%|██████████| 391/391 [00:22<00:00, 17.32it/s]\n",
            "  0%|          | 0/391 [00:00<?, ?it/s]"
          ],
          "name": "stderr"
        },
        {
          "output_type": "stream",
          "text": [
            "Saving..\n",
            "\n",
            "train_acc: 0.840, test_acc: 0.775, conf_min: 0.000, conf_max: 0.002, conf_avg: 0.000\n"
          ],
          "name": "stdout"
        },
        {
          "output_type": "stream",
          "text": [
            "Epoch 122: 100%|██████████| 391/391 [00:22<00:00, 17.47it/s]\n",
            "  0%|          | 0/391 [00:00<?, ?it/s]"
          ],
          "name": "stderr"
        },
        {
          "output_type": "stream",
          "text": [
            "Saving..\n",
            "\n",
            "train_acc: 0.842, test_acc: 0.775, conf_min: 0.000, conf_max: 0.002, conf_avg: 0.000\n"
          ],
          "name": "stdout"
        },
        {
          "output_type": "stream",
          "text": [
            "Epoch 123: 100%|██████████| 391/391 [00:22<00:00, 17.39it/s]\n",
            "  0%|          | 0/391 [00:00<?, ?it/s]"
          ],
          "name": "stderr"
        },
        {
          "output_type": "stream",
          "text": [
            "Saving..\n",
            "\n",
            "train_acc: 0.842, test_acc: 0.778, conf_min: 0.000, conf_max: 0.002, conf_avg: 0.000\n"
          ],
          "name": "stdout"
        },
        {
          "output_type": "stream",
          "text": [
            "Epoch 124: 100%|██████████| 391/391 [00:22<00:00, 17.18it/s]\n",
            "  0%|          | 0/391 [00:00<?, ?it/s]"
          ],
          "name": "stderr"
        },
        {
          "output_type": "stream",
          "text": [
            "\n",
            "train_acc: 0.844, test_acc: 0.778, conf_min: 0.000, conf_max: 0.002, conf_avg: 0.000\n"
          ],
          "name": "stdout"
        },
        {
          "output_type": "stream",
          "text": [
            "Epoch 125: 100%|██████████| 391/391 [00:22<00:00, 17.29it/s]\n",
            "  0%|          | 0/391 [00:00<?, ?it/s]"
          ],
          "name": "stderr"
        },
        {
          "output_type": "stream",
          "text": [
            "Saving..\n",
            "\n",
            "train_acc: 0.844, test_acc: 0.779, conf_min: 0.000, conf_max: 0.002, conf_avg: 0.000\n"
          ],
          "name": "stdout"
        },
        {
          "output_type": "stream",
          "text": [
            "Epoch 126: 100%|██████████| 391/391 [00:22<00:00, 17.25it/s]\n",
            "  0%|          | 0/391 [00:00<?, ?it/s]"
          ],
          "name": "stderr"
        },
        {
          "output_type": "stream",
          "text": [
            "\n",
            "train_acc: 0.843, test_acc: 0.779, conf_min: 0.000, conf_max: 0.002, conf_avg: 0.000\n"
          ],
          "name": "stdout"
        },
        {
          "output_type": "stream",
          "text": [
            "Epoch 127: 100%|██████████| 391/391 [00:22<00:00, 17.39it/s]\n",
            "  0%|          | 0/391 [00:00<?, ?it/s]"
          ],
          "name": "stderr"
        },
        {
          "output_type": "stream",
          "text": [
            "\n",
            "train_acc: 0.843, test_acc: 0.779, conf_min: 0.000, conf_max: 0.002, conf_avg: 0.000\n"
          ],
          "name": "stdout"
        },
        {
          "output_type": "stream",
          "text": [
            "Epoch 128: 100%|██████████| 391/391 [00:22<00:00, 17.18it/s]\n",
            "  0%|          | 0/391 [00:00<?, ?it/s]"
          ],
          "name": "stderr"
        },
        {
          "output_type": "stream",
          "text": [
            "\n",
            "train_acc: 0.843, test_acc: 0.779, conf_min: 0.000, conf_max: 0.002, conf_avg: 0.000\n"
          ],
          "name": "stdout"
        },
        {
          "output_type": "stream",
          "text": [
            "Epoch 129: 100%|██████████| 391/391 [00:22<00:00, 17.49it/s]\n",
            "  0%|          | 0/391 [00:00<?, ?it/s]"
          ],
          "name": "stderr"
        },
        {
          "output_type": "stream",
          "text": [
            "\n",
            "train_acc: 0.843, test_acc: 0.777, conf_min: 0.000, conf_max: 0.002, conf_avg: 0.000\n"
          ],
          "name": "stdout"
        },
        {
          "output_type": "stream",
          "text": [
            "Epoch 130: 100%|██████████| 391/391 [00:22<00:00, 17.45it/s]\n",
            "  0%|          | 0/391 [00:00<?, ?it/s]"
          ],
          "name": "stderr"
        },
        {
          "output_type": "stream",
          "text": [
            "\n",
            "train_acc: 0.845, test_acc: 0.777, conf_min: 0.000, conf_max: 0.002, conf_avg: 0.000\n"
          ],
          "name": "stdout"
        },
        {
          "output_type": "stream",
          "text": [
            "Epoch 131: 100%|██████████| 391/391 [00:22<00:00, 17.52it/s]\n",
            "  0%|          | 0/391 [00:00<?, ?it/s]"
          ],
          "name": "stderr"
        },
        {
          "output_type": "stream",
          "text": [
            "\n",
            "train_acc: 0.845, test_acc: 0.775, conf_min: 0.000, conf_max: 0.002, conf_avg: 0.000\n"
          ],
          "name": "stdout"
        },
        {
          "output_type": "stream",
          "text": [
            "Epoch 132: 100%|██████████| 391/391 [00:22<00:00, 17.40it/s]\n",
            "  0%|          | 0/391 [00:00<?, ?it/s]"
          ],
          "name": "stderr"
        },
        {
          "output_type": "stream",
          "text": [
            "\n",
            "train_acc: 0.843, test_acc: 0.777, conf_min: 0.000, conf_max: 0.002, conf_avg: 0.000\n"
          ],
          "name": "stdout"
        },
        {
          "output_type": "stream",
          "text": [
            "Epoch 133: 100%|██████████| 391/391 [00:22<00:00, 17.24it/s]\n",
            "  0%|          | 0/391 [00:00<?, ?it/s]"
          ],
          "name": "stderr"
        },
        {
          "output_type": "stream",
          "text": [
            "\n",
            "train_acc: 0.844, test_acc: 0.778, conf_min: 0.000, conf_max: 0.002, conf_avg: 0.000\n"
          ],
          "name": "stdout"
        },
        {
          "output_type": "stream",
          "text": [
            "Epoch 134: 100%|██████████| 391/391 [00:22<00:00, 17.24it/s]\n",
            "  0%|          | 0/391 [00:00<?, ?it/s]"
          ],
          "name": "stderr"
        },
        {
          "output_type": "stream",
          "text": [
            "\n",
            "train_acc: 0.843, test_acc: 0.778, conf_min: 0.000, conf_max: 0.002, conf_avg: 0.000\n"
          ],
          "name": "stdout"
        },
        {
          "output_type": "stream",
          "text": [
            "Epoch 135: 100%|██████████| 391/391 [00:22<00:00, 17.17it/s]\n",
            "  0%|          | 0/391 [00:00<?, ?it/s]"
          ],
          "name": "stderr"
        },
        {
          "output_type": "stream",
          "text": [
            "\n",
            "train_acc: 0.846, test_acc: 0.778, conf_min: 0.000, conf_max: 0.002, conf_avg: 0.000\n"
          ],
          "name": "stdout"
        },
        {
          "output_type": "stream",
          "text": [
            "Epoch 136: 100%|██████████| 391/391 [00:22<00:00, 17.53it/s]\n",
            "  0%|          | 0/391 [00:00<?, ?it/s]"
          ],
          "name": "stderr"
        },
        {
          "output_type": "stream",
          "text": [
            "\n",
            "train_acc: 0.846, test_acc: 0.778, conf_min: 0.000, conf_max: 0.002, conf_avg: 0.000\n"
          ],
          "name": "stdout"
        },
        {
          "output_type": "stream",
          "text": [
            "Epoch 137: 100%|██████████| 391/391 [00:22<00:00, 17.43it/s]\n",
            "  0%|          | 0/391 [00:00<?, ?it/s]"
          ],
          "name": "stderr"
        },
        {
          "output_type": "stream",
          "text": [
            "\n",
            "train_acc: 0.846, test_acc: 0.778, conf_min: 0.000, conf_max: 0.002, conf_avg: 0.000\n"
          ],
          "name": "stdout"
        },
        {
          "output_type": "stream",
          "text": [
            "Epoch 138: 100%|██████████| 391/391 [00:22<00:00, 17.36it/s]\n",
            "  0%|          | 0/391 [00:00<?, ?it/s]"
          ],
          "name": "stderr"
        },
        {
          "output_type": "stream",
          "text": [
            "\n",
            "train_acc: 0.844, test_acc: 0.778, conf_min: 0.000, conf_max: 0.002, conf_avg: 0.000\n"
          ],
          "name": "stdout"
        },
        {
          "output_type": "stream",
          "text": [
            "Epoch 139: 100%|██████████| 391/391 [00:22<00:00, 17.54it/s]\n",
            "  0%|          | 0/391 [00:00<?, ?it/s]"
          ],
          "name": "stderr"
        },
        {
          "output_type": "stream",
          "text": [
            "\n",
            "train_acc: 0.845, test_acc: 0.779, conf_min: 0.000, conf_max: 0.002, conf_avg: 0.000\n"
          ],
          "name": "stdout"
        },
        {
          "output_type": "stream",
          "text": [
            "Epoch 140: 100%|██████████| 391/391 [00:22<00:00, 17.49it/s]\n",
            "  0%|          | 0/391 [00:00<?, ?it/s]"
          ],
          "name": "stderr"
        },
        {
          "output_type": "stream",
          "text": [
            "Saving..\n",
            "\n",
            "train_acc: 0.846, test_acc: 0.780, conf_min: 0.000, conf_max: 0.002, conf_avg: 0.000\n"
          ],
          "name": "stdout"
        },
        {
          "output_type": "stream",
          "text": [
            "Epoch 141: 100%|██████████| 391/391 [00:22<00:00, 17.42it/s]\n",
            "  0%|          | 0/391 [00:00<?, ?it/s]"
          ],
          "name": "stderr"
        },
        {
          "output_type": "stream",
          "text": [
            "\n",
            "train_acc: 0.847, test_acc: 0.778, conf_min: 0.000, conf_max: 0.002, conf_avg: 0.000\n"
          ],
          "name": "stdout"
        },
        {
          "output_type": "stream",
          "text": [
            "Epoch 142: 100%|██████████| 391/391 [00:22<00:00, 17.54it/s]\n",
            "  0%|          | 0/391 [00:00<?, ?it/s]"
          ],
          "name": "stderr"
        },
        {
          "output_type": "stream",
          "text": [
            "\n",
            "train_acc: 0.845, test_acc: 0.780, conf_min: 0.000, conf_max: 0.002, conf_avg: 0.000\n"
          ],
          "name": "stdout"
        },
        {
          "output_type": "stream",
          "text": [
            "Epoch 143: 100%|██████████| 391/391 [00:22<00:00, 17.56it/s]\n",
            "  0%|          | 0/391 [00:00<?, ?it/s]"
          ],
          "name": "stderr"
        },
        {
          "output_type": "stream",
          "text": [
            "\n",
            "train_acc: 0.847, test_acc: 0.779, conf_min: 0.000, conf_max: 0.002, conf_avg: 0.000\n"
          ],
          "name": "stdout"
        },
        {
          "output_type": "stream",
          "text": [
            "Epoch 144: 100%|██████████| 391/391 [00:22<00:00, 17.29it/s]\n",
            "  0%|          | 0/391 [00:00<?, ?it/s]"
          ],
          "name": "stderr"
        },
        {
          "output_type": "stream",
          "text": [
            "\n",
            "train_acc: 0.846, test_acc: 0.778, conf_min: 0.000, conf_max: 0.002, conf_avg: 0.000\n"
          ],
          "name": "stdout"
        },
        {
          "output_type": "stream",
          "text": [
            "Epoch 145: 100%|██████████| 391/391 [00:22<00:00, 17.40it/s]\n",
            "  0%|          | 0/391 [00:00<?, ?it/s]"
          ],
          "name": "stderr"
        },
        {
          "output_type": "stream",
          "text": [
            "\n",
            "train_acc: 0.846, test_acc: 0.780, conf_min: 0.000, conf_max: 0.002, conf_avg: 0.000\n"
          ],
          "name": "stdout"
        },
        {
          "output_type": "stream",
          "text": [
            "Epoch 146: 100%|██████████| 391/391 [00:22<00:00, 17.67it/s]\n",
            "  0%|          | 0/391 [00:00<?, ?it/s]"
          ],
          "name": "stderr"
        },
        {
          "output_type": "stream",
          "text": [
            "\n",
            "train_acc: 0.849, test_acc: 0.778, conf_min: 0.000, conf_max: 0.002, conf_avg: 0.000\n"
          ],
          "name": "stdout"
        },
        {
          "output_type": "stream",
          "text": [
            "Epoch 147: 100%|██████████| 391/391 [00:22<00:00, 17.55it/s]\n",
            "  0%|          | 0/391 [00:00<?, ?it/s]"
          ],
          "name": "stderr"
        },
        {
          "output_type": "stream",
          "text": [
            "\n",
            "train_acc: 0.847, test_acc: 0.779, conf_min: 0.000, conf_max: 0.002, conf_avg: 0.000\n"
          ],
          "name": "stdout"
        },
        {
          "output_type": "stream",
          "text": [
            "Epoch 148: 100%|██████████| 391/391 [00:22<00:00, 17.45it/s]\n",
            "  0%|          | 0/391 [00:00<?, ?it/s]"
          ],
          "name": "stderr"
        },
        {
          "output_type": "stream",
          "text": [
            "Saving..\n",
            "\n",
            "train_acc: 0.848, test_acc: 0.780, conf_min: 0.000, conf_max: 0.002, conf_avg: 0.000\n"
          ],
          "name": "stdout"
        },
        {
          "output_type": "stream",
          "text": [
            "Epoch 149: 100%|██████████| 391/391 [00:22<00:00, 17.73it/s]\n",
            "  0%|          | 0/391 [00:00<?, ?it/s]"
          ],
          "name": "stderr"
        },
        {
          "output_type": "stream",
          "text": [
            "\n",
            "train_acc: 0.847, test_acc: 0.779, conf_min: 0.000, conf_max: 0.002, conf_avg: 0.000\n"
          ],
          "name": "stdout"
        },
        {
          "output_type": "stream",
          "text": [
            "Epoch 150: 100%|██████████| 391/391 [00:22<00:00, 17.58it/s]\n",
            "  0%|          | 0/391 [00:00<?, ?it/s]"
          ],
          "name": "stderr"
        },
        {
          "output_type": "stream",
          "text": [
            "\n",
            "train_acc: 0.847, test_acc: 0.776, conf_min: 0.000, conf_max: 0.002, conf_avg: 0.000\n"
          ],
          "name": "stdout"
        },
        {
          "output_type": "stream",
          "text": [
            "Epoch 151: 100%|██████████| 391/391 [00:22<00:00, 17.59it/s]\n",
            "  0%|          | 0/391 [00:00<?, ?it/s]"
          ],
          "name": "stderr"
        },
        {
          "output_type": "stream",
          "text": [
            "\n",
            "train_acc: 0.848, test_acc: 0.778, conf_min: 0.000, conf_max: 0.002, conf_avg: 0.000\n"
          ],
          "name": "stdout"
        },
        {
          "output_type": "stream",
          "text": [
            "Epoch 152: 100%|██████████| 391/391 [00:22<00:00, 17.70it/s]\n",
            "  0%|          | 0/391 [00:00<?, ?it/s]"
          ],
          "name": "stderr"
        },
        {
          "output_type": "stream",
          "text": [
            "\n",
            "train_acc: 0.848, test_acc: 0.779, conf_min: 0.000, conf_max: 0.002, conf_avg: 0.000\n"
          ],
          "name": "stdout"
        },
        {
          "output_type": "stream",
          "text": [
            "Epoch 153: 100%|██████████| 391/391 [00:22<00:00, 17.44it/s]\n",
            "  0%|          | 0/391 [00:00<?, ?it/s]"
          ],
          "name": "stderr"
        },
        {
          "output_type": "stream",
          "text": [
            "Saving..\n",
            "\n",
            "train_acc: 0.848, test_acc: 0.780, conf_min: 0.000, conf_max: 0.002, conf_avg: 0.000\n"
          ],
          "name": "stdout"
        },
        {
          "output_type": "stream",
          "text": [
            "Epoch 154: 100%|██████████| 391/391 [00:22<00:00, 17.62it/s]\n",
            "  0%|          | 0/391 [00:00<?, ?it/s]"
          ],
          "name": "stderr"
        },
        {
          "output_type": "stream",
          "text": [
            "\n",
            "train_acc: 0.848, test_acc: 0.779, conf_min: 0.000, conf_max: 0.002, conf_avg: 0.000\n"
          ],
          "name": "stdout"
        },
        {
          "output_type": "stream",
          "text": [
            "Epoch 155: 100%|██████████| 391/391 [00:22<00:00, 17.61it/s]\n",
            "  0%|          | 0/391 [00:00<?, ?it/s]"
          ],
          "name": "stderr"
        },
        {
          "output_type": "stream",
          "text": [
            "Saving..\n",
            "\n",
            "train_acc: 0.850, test_acc: 0.780, conf_min: 0.000, conf_max: 0.002, conf_avg: 0.000\n"
          ],
          "name": "stdout"
        },
        {
          "output_type": "stream",
          "text": [
            "Epoch 156: 100%|██████████| 391/391 [00:22<00:00, 17.46it/s]\n",
            "  0%|          | 0/391 [00:00<?, ?it/s]"
          ],
          "name": "stderr"
        },
        {
          "output_type": "stream",
          "text": [
            "\n",
            "train_acc: 0.849, test_acc: 0.779, conf_min: 0.000, conf_max: 0.002, conf_avg: 0.000\n"
          ],
          "name": "stdout"
        },
        {
          "output_type": "stream",
          "text": [
            "Epoch 157: 100%|██████████| 391/391 [00:22<00:00, 17.40it/s]\n",
            "  0%|          | 0/391 [00:00<?, ?it/s]"
          ],
          "name": "stderr"
        },
        {
          "output_type": "stream",
          "text": [
            "Saving..\n",
            "\n",
            "train_acc: 0.846, test_acc: 0.780, conf_min: 0.000, conf_max: 0.002, conf_avg: 0.000\n"
          ],
          "name": "stdout"
        },
        {
          "output_type": "stream",
          "text": [
            "Epoch 158: 100%|██████████| 391/391 [00:22<00:00, 17.61it/s]\n",
            "  0%|          | 0/391 [00:00<?, ?it/s]"
          ],
          "name": "stderr"
        },
        {
          "output_type": "stream",
          "text": [
            "\n",
            "train_acc: 0.847, test_acc: 0.779, conf_min: 0.000, conf_max: 0.002, conf_avg: 0.000\n"
          ],
          "name": "stdout"
        },
        {
          "output_type": "stream",
          "text": [
            "Epoch 159: 100%|██████████| 391/391 [00:22<00:00, 17.33it/s]\n",
            "  0%|          | 0/391 [00:00<?, ?it/s]"
          ],
          "name": "stderr"
        },
        {
          "output_type": "stream",
          "text": [
            "\n",
            "train_acc: 0.847, test_acc: 0.780, conf_min: 0.000, conf_max: 0.002, conf_avg: 0.000\n"
          ],
          "name": "stdout"
        },
        {
          "output_type": "stream",
          "text": [
            "Epoch 160: 100%|██████████| 391/391 [00:22<00:00, 17.41it/s]\n",
            "  0%|          | 0/391 [00:00<?, ?it/s]"
          ],
          "name": "stderr"
        },
        {
          "output_type": "stream",
          "text": [
            "Saving..\n",
            "\n",
            "train_acc: 0.849, test_acc: 0.781, conf_min: 0.000, conf_max: 0.002, conf_avg: 0.000\n"
          ],
          "name": "stdout"
        },
        {
          "output_type": "stream",
          "text": [
            "Epoch 161: 100%|██████████| 391/391 [00:22<00:00, 17.28it/s]\n",
            "  0%|          | 0/391 [00:00<?, ?it/s]"
          ],
          "name": "stderr"
        },
        {
          "output_type": "stream",
          "text": [
            "\n",
            "train_acc: 0.850, test_acc: 0.781, conf_min: 0.000, conf_max: 0.002, conf_avg: 0.000\n"
          ],
          "name": "stdout"
        },
        {
          "output_type": "stream",
          "text": [
            "Epoch 162: 100%|██████████| 391/391 [00:22<00:00, 17.21it/s]\n",
            "  0%|          | 0/391 [00:00<?, ?it/s]"
          ],
          "name": "stderr"
        },
        {
          "output_type": "stream",
          "text": [
            "\n",
            "train_acc: 0.852, test_acc: 0.781, conf_min: 0.000, conf_max: 0.002, conf_avg: 0.000\n"
          ],
          "name": "stdout"
        },
        {
          "output_type": "stream",
          "text": [
            "Epoch 163: 100%|██████████| 391/391 [00:22<00:00, 17.37it/s]\n",
            "  0%|          | 0/391 [00:00<?, ?it/s]"
          ],
          "name": "stderr"
        },
        {
          "output_type": "stream",
          "text": [
            "\n",
            "train_acc: 0.848, test_acc: 0.780, conf_min: 0.000, conf_max: 0.002, conf_avg: 0.000\n"
          ],
          "name": "stdout"
        },
        {
          "output_type": "stream",
          "text": [
            "Epoch 164: 100%|██████████| 391/391 [00:22<00:00, 17.08it/s]\n",
            "  0%|          | 0/391 [00:00<?, ?it/s]"
          ],
          "name": "stderr"
        },
        {
          "output_type": "stream",
          "text": [
            "\n",
            "train_acc: 0.848, test_acc: 0.781, conf_min: 0.000, conf_max: 0.002, conf_avg: 0.000\n"
          ],
          "name": "stdout"
        },
        {
          "output_type": "stream",
          "text": [
            "Epoch 165: 100%|██████████| 391/391 [00:22<00:00, 17.08it/s]\n",
            "  0%|          | 0/391 [00:00<?, ?it/s]"
          ],
          "name": "stderr"
        },
        {
          "output_type": "stream",
          "text": [
            "Saving..\n",
            "\n",
            "train_acc: 0.851, test_acc: 0.783, conf_min: 0.000, conf_max: 0.002, conf_avg: 0.000\n"
          ],
          "name": "stdout"
        },
        {
          "output_type": "stream",
          "text": [
            "Epoch 166: 100%|██████████| 391/391 [00:22<00:00, 17.22it/s]\n",
            "  0%|          | 0/391 [00:00<?, ?it/s]"
          ],
          "name": "stderr"
        },
        {
          "output_type": "stream",
          "text": [
            "\n",
            "train_acc: 0.850, test_acc: 0.781, conf_min: 0.000, conf_max: 0.002, conf_avg: 0.000\n"
          ],
          "name": "stdout"
        },
        {
          "output_type": "stream",
          "text": [
            "Epoch 167: 100%|██████████| 391/391 [00:22<00:00, 17.46it/s]\n",
            "  0%|          | 0/391 [00:00<?, ?it/s]"
          ],
          "name": "stderr"
        },
        {
          "output_type": "stream",
          "text": [
            "\n",
            "train_acc: 0.849, test_acc: 0.778, conf_min: 0.000, conf_max: 0.002, conf_avg: 0.000\n"
          ],
          "name": "stdout"
        },
        {
          "output_type": "stream",
          "text": [
            "Epoch 168: 100%|██████████| 391/391 [00:22<00:00, 17.64it/s]\n",
            "  0%|          | 0/391 [00:00<?, ?it/s]"
          ],
          "name": "stderr"
        },
        {
          "output_type": "stream",
          "text": [
            "\n",
            "train_acc: 0.850, test_acc: 0.780, conf_min: 0.000, conf_max: 0.002, conf_avg: 0.000\n"
          ],
          "name": "stdout"
        },
        {
          "output_type": "stream",
          "text": [
            "Epoch 169: 100%|██████████| 391/391 [00:22<00:00, 17.55it/s]\n",
            "  0%|          | 0/391 [00:00<?, ?it/s]"
          ],
          "name": "stderr"
        },
        {
          "output_type": "stream",
          "text": [
            "\n",
            "train_acc: 0.853, test_acc: 0.779, conf_min: 0.000, conf_max: 0.002, conf_avg: 0.000\n"
          ],
          "name": "stdout"
        },
        {
          "output_type": "stream",
          "text": [
            "Epoch 170: 100%|██████████| 391/391 [00:22<00:00, 17.50it/s]\n",
            "  0%|          | 0/391 [00:00<?, ?it/s]"
          ],
          "name": "stderr"
        },
        {
          "output_type": "stream",
          "text": [
            "\n",
            "train_acc: 0.849, test_acc: 0.780, conf_min: 0.000, conf_max: 0.001, conf_avg: 0.000\n"
          ],
          "name": "stdout"
        },
        {
          "output_type": "stream",
          "text": [
            "Epoch 171: 100%|██████████| 391/391 [00:22<00:00, 17.56it/s]\n",
            "  0%|          | 0/391 [00:00<?, ?it/s]"
          ],
          "name": "stderr"
        },
        {
          "output_type": "stream",
          "text": [
            "\n",
            "train_acc: 0.850, test_acc: 0.780, conf_min: 0.000, conf_max: 0.002, conf_avg: 0.000\n"
          ],
          "name": "stdout"
        },
        {
          "output_type": "stream",
          "text": [
            "Epoch 172: 100%|██████████| 391/391 [00:22<00:00, 17.59it/s]\n",
            "  0%|          | 0/391 [00:00<?, ?it/s]"
          ],
          "name": "stderr"
        },
        {
          "output_type": "stream",
          "text": [
            "\n",
            "train_acc: 0.849, test_acc: 0.780, conf_min: 0.000, conf_max: 0.002, conf_avg: 0.000\n"
          ],
          "name": "stdout"
        },
        {
          "output_type": "stream",
          "text": [
            "Epoch 173: 100%|██████████| 391/391 [00:22<00:00, 17.58it/s]\n",
            "  0%|          | 0/391 [00:00<?, ?it/s]"
          ],
          "name": "stderr"
        },
        {
          "output_type": "stream",
          "text": [
            "\n",
            "train_acc: 0.850, test_acc: 0.780, conf_min: 0.000, conf_max: 0.002, conf_avg: 0.000\n"
          ],
          "name": "stdout"
        },
        {
          "output_type": "stream",
          "text": [
            "Epoch 174: 100%|██████████| 391/391 [00:22<00:00, 17.71it/s]\n",
            "  0%|          | 0/391 [00:00<?, ?it/s]"
          ],
          "name": "stderr"
        },
        {
          "output_type": "stream",
          "text": [
            "\n",
            "train_acc: 0.851, test_acc: 0.780, conf_min: 0.000, conf_max: 0.002, conf_avg: 0.000\n"
          ],
          "name": "stdout"
        },
        {
          "output_type": "stream",
          "text": [
            "Epoch 175: 100%|██████████| 391/391 [00:22<00:00, 17.55it/s]\n",
            "  0%|          | 0/391 [00:00<?, ?it/s]"
          ],
          "name": "stderr"
        },
        {
          "output_type": "stream",
          "text": [
            "\n",
            "train_acc: 0.851, test_acc: 0.779, conf_min: 0.000, conf_max: 0.002, conf_avg: 0.000\n"
          ],
          "name": "stdout"
        },
        {
          "output_type": "stream",
          "text": [
            "Epoch 176: 100%|██████████| 391/391 [00:22<00:00, 17.51it/s]\n",
            "  0%|          | 0/391 [00:00<?, ?it/s]"
          ],
          "name": "stderr"
        },
        {
          "output_type": "stream",
          "text": [
            "\n",
            "train_acc: 0.851, test_acc: 0.781, conf_min: 0.000, conf_max: 0.002, conf_avg: 0.000\n"
          ],
          "name": "stdout"
        },
        {
          "output_type": "stream",
          "text": [
            "Epoch 177: 100%|██████████| 391/391 [00:22<00:00, 17.58it/s]\n",
            "  0%|          | 0/391 [00:00<?, ?it/s]"
          ],
          "name": "stderr"
        },
        {
          "output_type": "stream",
          "text": [
            "\n",
            "train_acc: 0.849, test_acc: 0.779, conf_min: 0.000, conf_max: 0.002, conf_avg: 0.000\n"
          ],
          "name": "stdout"
        },
        {
          "output_type": "stream",
          "text": [
            "Epoch 178: 100%|██████████| 391/391 [00:22<00:00, 17.61it/s]\n",
            "  0%|          | 0/391 [00:00<?, ?it/s]"
          ],
          "name": "stderr"
        },
        {
          "output_type": "stream",
          "text": [
            "\n",
            "train_acc: 0.851, test_acc: 0.779, conf_min: 0.000, conf_max: 0.002, conf_avg: 0.000\n"
          ],
          "name": "stdout"
        },
        {
          "output_type": "stream",
          "text": [
            "Epoch 179: 100%|██████████| 391/391 [00:22<00:00, 17.48it/s]\n",
            "  0%|          | 0/391 [00:00<?, ?it/s]"
          ],
          "name": "stderr"
        },
        {
          "output_type": "stream",
          "text": [
            "\n",
            "train_acc: 0.850, test_acc: 0.779, conf_min: 0.000, conf_max: 0.002, conf_avg: 0.000\n"
          ],
          "name": "stdout"
        },
        {
          "output_type": "stream",
          "text": [
            "Epoch 180: 100%|██████████| 391/391 [00:22<00:00, 17.33it/s]\n",
            "  0%|          | 0/391 [00:00<?, ?it/s]"
          ],
          "name": "stderr"
        },
        {
          "output_type": "stream",
          "text": [
            "\n",
            "train_acc: 0.850, test_acc: 0.781, conf_min: 0.000, conf_max: 0.002, conf_avg: 0.000\n"
          ],
          "name": "stdout"
        },
        {
          "output_type": "stream",
          "text": [
            "Epoch 181: 100%|██████████| 391/391 [00:22<00:00, 17.48it/s]\n",
            "  0%|          | 0/391 [00:00<?, ?it/s]"
          ],
          "name": "stderr"
        },
        {
          "output_type": "stream",
          "text": [
            "\n",
            "train_acc: 0.851, test_acc: 0.780, conf_min: 0.000, conf_max: 0.002, conf_avg: 0.000\n"
          ],
          "name": "stdout"
        },
        {
          "output_type": "stream",
          "text": [
            "Epoch 182: 100%|██████████| 391/391 [00:22<00:00, 17.56it/s]\n",
            "  0%|          | 0/391 [00:00<?, ?it/s]"
          ],
          "name": "stderr"
        },
        {
          "output_type": "stream",
          "text": [
            "\n",
            "train_acc: 0.849, test_acc: 0.780, conf_min: 0.000, conf_max: 0.002, conf_avg: 0.000\n"
          ],
          "name": "stdout"
        },
        {
          "output_type": "stream",
          "text": [
            "Epoch 183: 100%|██████████| 391/391 [00:22<00:00, 17.56it/s]\n",
            "  0%|          | 0/391 [00:00<?, ?it/s]"
          ],
          "name": "stderr"
        },
        {
          "output_type": "stream",
          "text": [
            "\n",
            "train_acc: 0.847, test_acc: 0.781, conf_min: 0.000, conf_max: 0.002, conf_avg: 0.000\n"
          ],
          "name": "stdout"
        },
        {
          "output_type": "stream",
          "text": [
            "Epoch 184: 100%|██████████| 391/391 [00:22<00:00, 17.62it/s]\n",
            "  0%|          | 0/391 [00:00<?, ?it/s]"
          ],
          "name": "stderr"
        },
        {
          "output_type": "stream",
          "text": [
            "\n",
            "train_acc: 0.849, test_acc: 0.777, conf_min: 0.000, conf_max: 0.002, conf_avg: 0.000\n"
          ],
          "name": "stdout"
        },
        {
          "output_type": "stream",
          "text": [
            "Epoch 185: 100%|██████████| 391/391 [00:22<00:00, 17.51it/s]\n",
            "  0%|          | 0/391 [00:00<?, ?it/s]"
          ],
          "name": "stderr"
        },
        {
          "output_type": "stream",
          "text": [
            "\n",
            "train_acc: 0.849, test_acc: 0.778, conf_min: 0.000, conf_max: 0.002, conf_avg: 0.000\n"
          ],
          "name": "stdout"
        },
        {
          "output_type": "stream",
          "text": [
            "Epoch 186: 100%|██████████| 391/391 [00:22<00:00, 17.57it/s]\n",
            "  0%|          | 0/391 [00:00<?, ?it/s]"
          ],
          "name": "stderr"
        },
        {
          "output_type": "stream",
          "text": [
            "\n",
            "train_acc: 0.850, test_acc: 0.778, conf_min: 0.000, conf_max: 0.002, conf_avg: 0.000\n"
          ],
          "name": "stdout"
        },
        {
          "output_type": "stream",
          "text": [
            "Epoch 187: 100%|██████████| 391/391 [00:22<00:00, 17.34it/s]\n",
            "  0%|          | 0/391 [00:00<?, ?it/s]"
          ],
          "name": "stderr"
        },
        {
          "output_type": "stream",
          "text": [
            "\n",
            "train_acc: 0.849, test_acc: 0.779, conf_min: 0.000, conf_max: 0.002, conf_avg: 0.000\n"
          ],
          "name": "stdout"
        },
        {
          "output_type": "stream",
          "text": [
            "Epoch 188: 100%|██████████| 391/391 [00:22<00:00, 17.23it/s]\n",
            "  0%|          | 0/391 [00:00<?, ?it/s]"
          ],
          "name": "stderr"
        },
        {
          "output_type": "stream",
          "text": [
            "\n",
            "train_acc: 0.852, test_acc: 0.778, conf_min: 0.000, conf_max: 0.002, conf_avg: 0.000\n"
          ],
          "name": "stdout"
        },
        {
          "output_type": "stream",
          "text": [
            "Epoch 189: 100%|██████████| 391/391 [00:22<00:00, 17.48it/s]\n",
            "  0%|          | 0/391 [00:00<?, ?it/s]"
          ],
          "name": "stderr"
        },
        {
          "output_type": "stream",
          "text": [
            "\n",
            "train_acc: 0.849, test_acc: 0.779, conf_min: 0.000, conf_max: 0.002, conf_avg: 0.000\n"
          ],
          "name": "stdout"
        },
        {
          "output_type": "stream",
          "text": [
            "Epoch 190: 100%|██████████| 391/391 [00:22<00:00, 17.38it/s]\n",
            "  0%|          | 0/391 [00:00<?, ?it/s]"
          ],
          "name": "stderr"
        },
        {
          "output_type": "stream",
          "text": [
            "\n",
            "train_acc: 0.850, test_acc: 0.778, conf_min: 0.000, conf_max: 0.002, conf_avg: 0.000\n"
          ],
          "name": "stdout"
        },
        {
          "output_type": "stream",
          "text": [
            "Epoch 191: 100%|██████████| 391/391 [00:22<00:00, 17.63it/s]\n",
            "  0%|          | 0/391 [00:00<?, ?it/s]"
          ],
          "name": "stderr"
        },
        {
          "output_type": "stream",
          "text": [
            "\n",
            "train_acc: 0.850, test_acc: 0.780, conf_min: 0.000, conf_max: 0.002, conf_avg: 0.000\n"
          ],
          "name": "stdout"
        },
        {
          "output_type": "stream",
          "text": [
            "Epoch 192: 100%|██████████| 391/391 [00:22<00:00, 17.48it/s]\n",
            "  0%|          | 0/391 [00:00<?, ?it/s]"
          ],
          "name": "stderr"
        },
        {
          "output_type": "stream",
          "text": [
            "\n",
            "train_acc: 0.852, test_acc: 0.780, conf_min: 0.000, conf_max: 0.002, conf_avg: 0.000\n"
          ],
          "name": "stdout"
        },
        {
          "output_type": "stream",
          "text": [
            "Epoch 193: 100%|██████████| 391/391 [00:22<00:00, 17.21it/s]\n",
            "  0%|          | 0/391 [00:00<?, ?it/s]"
          ],
          "name": "stderr"
        },
        {
          "output_type": "stream",
          "text": [
            "\n",
            "train_acc: 0.850, test_acc: 0.779, conf_min: 0.000, conf_max: 0.002, conf_avg: 0.000\n"
          ],
          "name": "stdout"
        },
        {
          "output_type": "stream",
          "text": [
            "Epoch 194: 100%|██████████| 391/391 [00:22<00:00, 17.35it/s]\n",
            "  0%|          | 0/391 [00:00<?, ?it/s]"
          ],
          "name": "stderr"
        },
        {
          "output_type": "stream",
          "text": [
            "\n",
            "train_acc: 0.849, test_acc: 0.779, conf_min: 0.000, conf_max: 0.002, conf_avg: 0.000\n"
          ],
          "name": "stdout"
        },
        {
          "output_type": "stream",
          "text": [
            "Epoch 195: 100%|██████████| 391/391 [00:22<00:00, 17.51it/s]\n",
            "  0%|          | 0/391 [00:00<?, ?it/s]"
          ],
          "name": "stderr"
        },
        {
          "output_type": "stream",
          "text": [
            "\n",
            "train_acc: 0.851, test_acc: 0.780, conf_min: 0.000, conf_max: 0.002, conf_avg: 0.000\n"
          ],
          "name": "stdout"
        },
        {
          "output_type": "stream",
          "text": [
            "Epoch 196: 100%|██████████| 391/391 [00:22<00:00, 17.60it/s]\n",
            "  0%|          | 0/391 [00:00<?, ?it/s]"
          ],
          "name": "stderr"
        },
        {
          "output_type": "stream",
          "text": [
            "\n",
            "train_acc: 0.850, test_acc: 0.780, conf_min: 0.000, conf_max: 0.002, conf_avg: 0.000\n"
          ],
          "name": "stdout"
        },
        {
          "output_type": "stream",
          "text": [
            "Epoch 197: 100%|██████████| 391/391 [00:22<00:00, 17.46it/s]\n",
            "  0%|          | 0/391 [00:00<?, ?it/s]"
          ],
          "name": "stderr"
        },
        {
          "output_type": "stream",
          "text": [
            "\n",
            "train_acc: 0.854, test_acc: 0.781, conf_min: 0.000, conf_max: 0.002, conf_avg: 0.000\n"
          ],
          "name": "stdout"
        },
        {
          "output_type": "stream",
          "text": [
            "Epoch 198: 100%|██████████| 391/391 [00:22<00:00, 17.53it/s]\n",
            "  0%|          | 0/391 [00:00<?, ?it/s]"
          ],
          "name": "stderr"
        },
        {
          "output_type": "stream",
          "text": [
            "\n",
            "train_acc: 0.851, test_acc: 0.781, conf_min: 0.000, conf_max: 0.002, conf_avg: 0.000\n"
          ],
          "name": "stdout"
        },
        {
          "output_type": "stream",
          "text": [
            "Epoch 199: 100%|██████████| 391/391 [00:22<00:00, 17.54it/s]\n"
          ],
          "name": "stderr"
        },
        {
          "output_type": "stream",
          "text": [
            "\n",
            "train_acc: 0.849, test_acc: 0.778, conf_min: 0.000, conf_max: 0.002, conf_avg: 0.000\n"
          ],
          "name": "stdout"
        }
      ]
    },
    {
      "cell_type": "code",
      "metadata": {
        "id": "mH2Uoq-pwCRz",
        "colab_type": "code",
        "colab": {}
      },
      "source": [
        "assert os.path.isdir('accs_losses'), 'Error: no accs_losses directory found!'\n",
        "data_new = torch.load('./accs_losses/accs_losses.pth')\n",
        "\n",
        "acc_train_baseline = data_new['acc_train']\n",
        "loss_train_baseline = data_new['loss_train']\n",
        "acc_test_baseline = data_new['acc_test']\n",
        "loss_test_baseline = data_new['loss_test']"
      ],
      "execution_count": 0,
      "outputs": []
    },
    {
      "cell_type": "code",
      "metadata": {
        "id": "g3T-M3PFL5SK",
        "colab_type": "code",
        "colab": {
          "base_uri": "https://localhost:8080/",
          "height": 570
        },
        "outputId": "3ee46e1c-812c-4e59-bee6-80a09652c865"
      },
      "source": [
        "plt.figure(figsize=(18, 9))\n",
        "plt.plot(np.arange(len(acc_train_baseline)), acc_train_baseline, label=f'Train, Acc: {acc_train_baseline[-1]}')\n",
        "plt.plot(np.arange(len(acc_test_baseline)), acc_test_baseline, label=f'Test, Acc: {acc_test_baseline[-1]}')\n",
        "plt.title(f'Accuracy (CIFAR10 ResNet without confidence branch)')\n",
        "plt.legend()"
      ],
      "execution_count": 92,
      "outputs": [
        {
          "output_type": "execute_result",
          "data": {
            "text/plain": [
              "<matplotlib.legend.Legend at 0x7f0fa744e358>"
            ]
          },
          "metadata": {
            "tags": []
          },
          "execution_count": 92
        },
        {
          "output_type": "display_data",
          "data": {
            "image/png": "[encoded data removed]",
            "text/plain": [
              "<Figure size 1296x648 with 1 Axes>"
            ]
          },
          "metadata": {
            "tags": [],
            "needs_background": "light"
          }
        }
      ]
    },
    {
      "cell_type": "code",
      "metadata": {
        "id": "-qfaGFShS_8b",
        "colab_type": "code",
        "colab": {
          "base_uri": "https://localhost:8080/",
          "height": 570
        },
        "outputId": "b7685892-7a1d-4f2a-f51e-bbc3c32c7078"
      },
      "source": [
        "plt.figure(figsize=(18, 9))\n",
        "plt.plot(np.arange(len(loss_train_baseline)), loss_train_baseline, label=f'Train, Loss: {loss_train_baseline[-1]}')\n",
        "plt.plot(np.arange(len(loss_test_baseline)), loss_test_baseline, label=f'Test, Loss: {loss_test_baseline[-1]}')\n",
        "plt.title(f'Loss (CIFAR10 ResNet without confidence branch)')\n",
        "plt.legend()"
      ],
      "execution_count": 93,
      "outputs": [
        {
          "output_type": "execute_result",
          "data": {
            "text/plain": [
              "<matplotlib.legend.Legend at 0x7f0fa6edff98>"
            ]
          },
          "metadata": {
            "tags": []
          },
          "execution_count": 93
        },
        {
          "output_type": "display_data",
          "data": {
            "image/png": "[encoded data removed]",
            "text/plain": [
              "<Figure size 1296x648 with 1 Axes>"
            ]
          },
          "metadata": {
            "tags": [],
            "needs_background": "light"
          }
        }
      ]
    },
    {
      "cell_type": "code",
      "metadata": {
        "id": "YYZMkJPiTNVL",
        "colab_type": "code",
        "colab": {}
      },
      "source": [
        ""
      ],
      "execution_count": 0,
      "outputs": []
    }
  ]
}